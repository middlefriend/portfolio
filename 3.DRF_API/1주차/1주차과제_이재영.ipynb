{
 "cells": [
  {
   "cell_type": "markdown",
   "metadata": {},
   "source": [
    "# 1주차 과제 이재영\n",
    "\n",
    "# 1) Python 설치와 기본 문법 익히기\n",
    "## 2장.자료형\n",
    "### 숫자형 "
   ]
  },
  {
   "cell_type": "code",
   "execution_count": 4,
   "metadata": {},
   "outputs": [
    {
     "name": "stdout",
     "output_type": "stream",
     "text": [
      "123\n",
      "-178\n",
      "0\n"
     ]
    }
   ],
   "source": [
    "# 정수형 : 양의정수, 음의 정수, 0\n",
    "a = 123 ; print(a)\n",
    "a = -178 ; print(a)\n",
    "a = 0 ; print(a)"
   ]
  },
  {
   "cell_type": "code",
   "execution_count": 8,
   "metadata": {},
   "outputs": [
    {
     "name": "stdout",
     "output_type": "stream",
     "text": [
      "1.2\n",
      "-3.45\n",
      "42400000000.0\n",
      "4.24e-10\n",
      "<class 'float'>\n"
     ]
    }
   ],
   "source": [
    "#실수 형 : 소수점이 포함된 숫자\n",
    "a = 1.2 ; print(a)\n",
    "a = -3.45 ; print(a)\n",
    "\n",
    "#지수표현 방식\n",
    "a = 4.24E10 ; print(a)\n",
    "a = 4.24e-10 ; print(a) ; print(type(a))"
   ]
  },
  {
   "cell_type": "code",
   "execution_count": 13,
   "metadata": {},
   "outputs": [
    {
     "name": "stdout",
     "output_type": "stream",
     "text": [
      "127\n",
      "<class 'int'>\n",
      "2303\n",
      "<class 'int'>\n"
     ]
    }
   ],
   "source": [
    "#8진수 :  숫자가 (숫자 0 + 알파벳 O(대소문자 상관없음))으로 시작\n",
    "a = 0o177 ; print(a) ; print(type(a))\n",
    "\n",
    "#16진수 : 숫자가 0x로 시작\n",
    "a = 0x8ff ; print(a) ; print(type(a))"
   ]
  },
  {
   "cell_type": "markdown",
   "metadata": {},
   "source": [
    "#### 연산자"
   ]
  },
  {
   "cell_type": "code",
   "execution_count": 15,
   "metadata": {},
   "outputs": [
    {
     "name": "stdout",
     "output_type": "stream",
     "text": [
      "7\n",
      "12\n",
      "0.75\n"
     ]
    }
   ],
   "source": [
    "#사칙연산\n",
    "a, b = 3, 4\n",
    "print(a+b)\n",
    "print(a*b)\n",
    "print(a/b)"
   ]
  },
  {
   "cell_type": "code",
   "execution_count": 19,
   "metadata": {},
   "outputs": [
    {
     "name": "stdout",
     "output_type": "stream",
     "text": [
      "81\n",
      "81\n"
     ]
    }
   ],
   "source": [
    "# ** 연산자 : 제곱\n",
    "a, b = 3, 4\n",
    "print(a**b)\n",
    "print(a*a*a*a)"
   ]
  },
  {
   "cell_type": "code",
   "execution_count": 21,
   "metadata": {},
   "outputs": [
    {
     "name": "stdout",
     "output_type": "stream",
     "text": [
      "1\n",
      "3\n"
     ]
    }
   ],
   "source": [
    "# %연산자 :  나눗셈 후 나머지를 반환\n",
    "print(7%3)\n",
    "print(3%7)"
   ]
  },
  {
   "cell_type": "code",
   "execution_count": 22,
   "metadata": {},
   "outputs": [
    {
     "name": "stdout",
     "output_type": "stream",
     "text": [
      "1.75\n",
      "1\n"
     ]
    }
   ],
   "source": [
    "# // 연산자 : 나눗셈 후 몫을 반환\n",
    "print(7/4)\n",
    "print(7//4)"
   ]
  },
  {
   "cell_type": "markdown",
   "metadata": {},
   "source": [
    "### 문자열 자료형"
   ]
  },
  {
   "cell_type": "code",
   "execution_count": 44,
   "metadata": {},
   "outputs": [
    {
     "name": "stdout",
     "output_type": "stream",
     "text": [
      "python's favorite food is perl\n",
      "\"python is very easy.\" he says.\n",
      "python's favorite food is perl\n",
      "\"python is very easy.\" he says.\n",
      "\n",
      "Life is too short\n",
      "You need python\n",
      "Life is too short\n",
      "You need python\n",
      "\n",
      "Life is too short\n",
      "You need python\n",
      "\n"
     ]
    }
   ],
   "source": [
    "# 1. 큰따옴표로 둘러싸기 : 문자열안에 작은 따옴표가 들어갈 때 사용\n",
    "food = \"python's favorite food is perl\"\n",
    "print(food)\n",
    "\n",
    "# 2. 작은따옴표로 둘러싸기 : 문자열 안에 큰따옴표가 들어갈 때 사용\n",
    "food = '\"python is very easy.\" he says.'\n",
    "print(food)\n",
    "\n",
    "    #혹은 1. 2.의 경우에 얽매이고 싶지 않다면 백슬래시(\\)를 사용하여 작은따옴표와 큰따옴표를 문자열에 포함시킨다\n",
    "food = 'python\\'s favorite food is perl'\n",
    "print(food)\n",
    "food = \"\\\"python is very easy.\\\" he says.\"\n",
    "print(food)\n",
    "    \n",
    "# 3. 작은따옴표 3개로 둘러싸기 혹은 큰따옴표 3개로 둘러싸기 : 여러줄의 문자열을 변수에 대입할 때\n",
    "multiline = \"\\nLife is too short\\nYou need python\" #출력은 되지만 가독성이 떨어진다.\n",
    "print(multiline)\n",
    "#multiline = \"Life is too short #그냥 줄을 바꾸면 에러가 발생\n",
    "#You need python\"\n",
    "multiline2 = '''Life is too short\n",
    "You need python\n",
    "'''\n",
    "print(multiline2)\n",
    "multiline3 = \"\"\"Life is too short\n",
    "You need python\n",
    "\"\"\"\n",
    "print(multiline3)"
   ]
  },
  {
   "cell_type": "markdown",
   "metadata": {},
   "source": [
    "- 활용빈도가 높은 이스케이프 코드\n",
    "```\n",
    "\\n\t문자열 안에서 줄을 바꿀 때 사용\n",
    "\\t\t문자열 사이에 탭 간격을 줄 때 사용\n",
    "\\\\\t문자 \\를 그대로 표현할 때 사용\n",
    "\\'\t작은따옴표(')를 그대로 표현할 때 사용\n",
    "\\\"\t큰따옴표(\")를 그대로 표현할 때 사용\n",
    "```"
   ]
  },
  {
   "cell_type": "markdown",
   "metadata": {},
   "source": [
    "- 문자열 연산"
   ]
  },
  {
   "cell_type": "code",
   "execution_count": 46,
   "metadata": {},
   "outputs": [
    {
     "name": "stdout",
     "output_type": "stream",
     "text": [
      "python is fun\n"
     ]
    }
   ],
   "source": [
    "#문자열 더해서 연결\n",
    "s1 = \"python\"\n",
    "s2 = \" is fun\"\n",
    "print(s1+s2)"
   ]
  },
  {
   "cell_type": "code",
   "execution_count": 49,
   "metadata": {},
   "outputs": [
    {
     "name": "stdout",
     "output_type": "stream",
     "text": [
      "python python \n"
     ]
    }
   ],
   "source": [
    "#문자열 곱하기\n",
    "a = \"python \"\n",
    "print(a * 2)"
   ]
  },
  {
   "cell_type": "code",
   "execution_count": 54,
   "metadata": {},
   "outputs": [
    {
     "name": "stdout",
     "output_type": "stream",
     "text": [
      "Overwriting C:\\\\Users\\\\JY\\\\Desktop\\\\파이썬알고리즘\\\\코멘토\\\\과제\\\\1주차\\multistring.py\n"
     ]
    }
   ],
   "source": [
    "%%writefile C:\\\\Users\\\\JY\\\\Desktop\\\\파이썬알고리즘\\\\코멘토\\\\과제\\\\1주차\\multistring.py\n",
    "\n",
    "print('='*50)\n",
    "print(\"comento python\")\n",
    "print('='*50)"
   ]
  },
  {
   "attachments": {
    "image.png": {
     "image/png": "[encoded data removed]"
    }
   },
   "cell_type": "markdown",
   "metadata": {},
   "source": [
    "![image.png](attachment:image.png)"
   ]
  },
  {
   "cell_type": "code",
   "execution_count": 56,
   "metadata": {},
   "outputs": [
    {
     "data": {
      "text/plain": [
       "25"
      ]
     },
     "execution_count": 56,
     "metadata": {},
     "output_type": "execute_result"
    }
   ],
   "source": [
    "#문자열 길이 구하기\n",
    "a = \"comento python api 1weeks\"\n",
    "len(a)"
   ]
  },
  {
   "cell_type": "markdown",
   "metadata": {},
   "source": [
    "- 문자열 인덱싱"
   ]
  },
  {
   "cell_type": "code",
   "execution_count": 64,
   "metadata": {},
   "outputs": [
    {
     "name": "stdout",
     "output_type": "stream",
     "text": [
      "e\n",
      " \n",
      "s\n",
      "---\n",
      "L\n",
      "L\n",
      "n\n",
      "n\n"
     ]
    }
   ],
   "source": [
    "#문자열 인덱싱 : 인덱싱은 0번부터 시작\n",
    "#    0123456789012345678901234567890123\n",
    "a = \"Life is too short, You need Python\"\n",
    "print(a[3])\n",
    "print(a[4])\n",
    "print(a[12])\n",
    "\n",
    "#인덱싱 활용\n",
    "print('---\\n'+a[0])\n",
    "print(a[-0])\n",
    "\n",
    "print(a[-1])\n",
    "print(a[33])"
   ]
  },
  {
   "cell_type": "markdown",
   "metadata": {},
   "source": [
    "- 문자열 슬라이싱"
   ]
  },
  {
   "cell_type": "code",
   "execution_count": 178,
   "metadata": {},
   "outputs": [
    {
     "name": "stdout",
     "output_type": "stream",
     "text": [
      "Life\n",
      "Life\n",
      "Life is too short, You need Python\n",
      "Life is too short, You need Python\n",
      "Life is too short, You need Python\n",
      "You need\n",
      "2021 0218 Sunny\n"
     ]
    },
    {
     "data": {
      "text/plain": [
       "'python'"
      ]
     },
     "execution_count": 178,
     "metadata": {},
     "output_type": "execute_result"
    }
   ],
   "source": [
    "#문자열 슬라이싱 : 익덱싱을 활용하여 문자열을 잘라낼 수 있다.\n",
    "#    0123456789012345678901234567890123\n",
    "a = \"Life is too short, You need Python\"\n",
    "print(a[0:4])\n",
    "print(a[:4])\n",
    "print(a)\n",
    "print(a[0:])\n",
    "print(a[:])\n",
    "print(a[19:-7])\n",
    "\n",
    "s = \"20210218Sunny\"\n",
    "year = s[:4]\n",
    "day = s[4:8]\n",
    "weather = s[8:]\n",
    "print(year,day,weather)\n",
    "\n",
    "#문자열 바꾸기\n",
    "a = \"pithon\"\n",
    "a = a[:1]+'y'+a[2:]\n",
    "a"
   ]
  },
  {
   "cell_type": "markdown",
   "metadata": {},
   "source": [
    "#### 포매팅"
   ]
  },
  {
   "cell_type": "markdown",
   "metadata": {},
   "source": [
    "- 문자열 포매팅"
   ]
  },
  {
   "cell_type": "code",
   "execution_count": 101,
   "metadata": {},
   "outputs": [
    {
     "name": "stdout",
     "output_type": "stream",
     "text": [
      "I eat 3 apples.\n",
      "I eat five apples.\n",
      "i eat 3 apples.\n",
      "i eat 10 apples. so I was sick for three days.\n"
     ]
    }
   ],
   "source": [
    "# 1. 숫자 바로 대입\n",
    "print(\"I eat %d apples.\"%3)\n",
    "# 2. 문자열 바로 대입\n",
    "print(\"I eat %s apples.\"%\"five\")\n",
    "# 3. 변수 대입\n",
    "num = 3\n",
    "print(\"i eat %d apples.\"%num)\n",
    "# 4. 2개 이상의 변수 대입\n",
    "num, day = 10, \"three\"\n",
    "print(\"i eat %d apples. so I was sick for %s days.\"%(num,day))"
   ]
  },
  {
   "cell_type": "markdown",
   "metadata": {},
   "source": [
    "- 문자열 포맷 코드\n",
    "```\n",
    "%s\t문자열(String)\n",
    "%c\t문자 1개(character)\n",
    "%d\t정수(Integer)\n",
    "%f\t부동소수(floating-point)\n",
    "%o\t8진수\n",
    "%x\t16진수\n",
    "%%\tLiteral % (문자 % 자체)\n",
    "```"
   ]
  },
  {
   "cell_type": "code",
   "execution_count": 177,
   "metadata": {},
   "outputs": [
    {
     "name": "stdout",
     "output_type": "stream",
     "text": [
      "I have 3 apples\n",
      "rate is 3.234\n",
      "        hi\n",
      "hi        \n",
      "3.4213\n",
      "              3.4213\n",
      "    3.4213\n"
     ]
    }
   ],
   "source": [
    "# %s 포맷 : 뒤에 오는 값을 문자열로 자동 치환하여 보여줌\n",
    "print(\"I have %s apples\"%3)\n",
    "print(\"rate is %s\"%3.234)\n",
    "\n",
    "#포맷 코드와 숫자 함께 사용\n",
    "# 1. 정렬과 공백\n",
    "# %10s : 전체길이가 10인 문자열 공간에서 대입 값을 오른쪽 정렬\n",
    "print(\"%10s\"%\"hi\")\n",
    "# %-10s : 전체길이가 10인 문자열 공간에서 대입 값을 왼쪽 정렬\n",
    "print(\"%-10s\"%\"hi\")\n",
    "\n",
    "#소수점 표현하기\n",
    "print(\"%0.4f\"%3.42134234)\n",
    "#전체 길이를 정하고 오른쪽 정렬\n",
    "print(\"%20.4f\"%3.42134234)\n",
    "print(\"%10.4f\"%3.42134234)"
   ]
  },
  {
   "cell_type": "markdown",
   "metadata": {},
   "source": [
    "- format함수를 사용한 포매팅"
   ]
  },
  {
   "cell_type": "code",
   "execution_count": 148,
   "metadata": {},
   "outputs": [
    {
     "name": "stdout",
     "output_type": "stream",
     "text": [
      "i eat 3 apples\n",
      "i eat five apples\n",
      "i eat 10 apples. so i was sick for three days.\n",
      "---> test <--- / --> 5 <---\n",
      "---> 100 <--- / ---> test <---\n",
      "---> test <--- / ---> 100 <---\n",
      "hi        \n",
      "        hi\n",
      "    hi    \n",
      "test$$$$$$\n",
      "===test===\n",
      "!!!!!!test\n",
      "!!!!3.4213\n",
      "{ and }\n"
     ]
    }
   ],
   "source": [
    "# 숫자 바로 대입\n",
    "print(\"i eat {0} apples\".format(3))\n",
    "\n",
    "#문자열 바로 대입\n",
    "print(\"i eat {0} apples\".format(\"five\"))\n",
    "\n",
    "# 변수로 대입\n",
    "num = 10\n",
    "day = \"three\"\n",
    "print(\"i eat {0} apples. so i was sick for {1} days.\".format(num, day))\n",
    "\n",
    "#이름으로 넣기\n",
    "print(\"---> {test} <--- / --> {test1} <---\".format(test=\"test\", test1=5))\n",
    "\n",
    "#인덱스와 이름 혼용\n",
    "print(\"---> {0} <--- / ---> {test} <---\".format(100,test=\"test\"))\n",
    "print(\"---> {test} <--- / ---> {0} <---\".format(100,test=\"test\"))\n",
    "#print(\"---> {test} <--- / ---> {1} <---\".format(test=\"test\",100))\n",
    "#이거는 왜 안될까.. {0}으로 사용해도 안됨,,\n",
    "\n",
    "#왼쪽 정렬\n",
    "print(\"{0:<10}\".format(\"hi\"))\n",
    "#오른쪽 정렬\n",
    "print(\"{0:>10}\".format(\"hi\"))\n",
    "#가운데 정렬\n",
    "print(\"{0:^10}\".format(\"hi\"))\n",
    "\n",
    "#공백 채우기\n",
    "print(\"{0:$<10}\".format(\"test\"))\n",
    "print(\"{0:=^10}\".format(\"test\"))\n",
    "print(\"{0:!>10}\".format(\"test\"))\n",
    "\n",
    "#소수점 표현\n",
    "y=3.42134234\n",
    "print(\"{0:!>10.4f}\".format(y))\n",
    "\n",
    "# { 또는 } 문자 표현하기\n",
    "print(\"{{ and }}\".format())"
   ]
  },
  {
   "cell_type": "markdown",
   "metadata": {},
   "source": [
    "- f 문자열 포매팅 & 표현식"
   ]
  },
  {
   "cell_type": "code",
   "execution_count": 175,
   "metadata": {},
   "outputs": [
    {
     "name": "stdout",
     "output_type": "stream",
     "text": [
      "나의 이름은 이재영, 나는 내년이면 29살이 된다.\n",
      "나의 이름은 이재영, 28살 입니다.\n",
      "나의 이름은 이재영, 28살 입니다.\n",
      "####hi####\n",
      "$$3.4213$$\n",
      "{ and }\n"
     ]
    }
   ],
   "source": [
    "#파이썬 3.6 미만 버전에서는 사용할 수 없는 기능이므로 주의\n",
    "#표현식이란 문자열 안에서 변수와 +, -와 같은 수식을 함께 사용하는 것을 말한다.\n",
    "name = \"이재영\"\n",
    "age = 28\n",
    "print(f\"나의 이름은 {name}, 나는 내년이면 {age+1}살이 된다.\")\n",
    "\n",
    "#딕셔너리는 f 문자열 포매팅에서 다음과 같이 사용할 수 있다.\n",
    "d = {\"name1\":\"이재영\",\"age1\":28}\n",
    "#딕셔너리에서 키를 작은 따옴표로 씌울경우 f포매팅을 큰따옴표로 씌워야한다.\n",
    "print(f\"나의 이름은 {d['name1']}, {d['age1']}살 입니다.\")\n",
    "print(f'나의 이름은 {d[\"name1\"]}, {d[\"age1\"]}살 입니다.') \n",
    "\n",
    "#정렬\n",
    "print(f'{\"hi\":#^10}')\n",
    "#소수점표현\n",
    "y = 3.42134234\n",
    "print(f'{y:$^10.4f}')\n",
    "#{ } 표현\n",
    "print(f'{{ and }}')\n",
    "\n"
   ]
  },
  {
   "cell_type": "markdown",
   "metadata": {},
   "source": [
    "#### 문자열 관련 함수"
   ]
  },
  {
   "cell_type": "code",
   "execution_count": 211,
   "metadata": {},
   "outputs": [
    {
     "name": "stdout",
     "output_type": "stream",
     "text": [
      "2\n",
      "1\n",
      "14\n",
      "2\n",
      "-1\n",
      "14\n",
      "2\n",
      "a,b,c,d\n",
      "PYTHON IS THE BEST CHOICE\n",
      "python is the best choice\n",
      "        t test t           /\n",
      "t test t           /\n",
      "        t test t/\n",
      "        t TEST t           \n",
      "['Life', 'is', 'too', 'short']\n",
      "['a', 'b', 'c', 'd']\n"
     ]
    }
   ],
   "source": [
    "# 문자 개수 세기 : count\n",
    "a = \"hobby\"\n",
    "print(a.count('b'))\n",
    "print(a.count('o'))\n",
    "\n",
    "# 위치 알려주기 : find, index\n",
    "a = \"python is the best choice\"\n",
    "print(a.find('b'))\n",
    "print(a.find('th'))\n",
    "print(a.find('k')) #문자열 내에 없는 문자는  -1 리턴\n",
    "print(a.index('b'))\n",
    "print(a.index('th'))\n",
    "#print(a.index('k')) #문자열 내에 없는 문자는 에러발생\n",
    "\n",
    "#문자열 삽입 : join\n",
    "print(\",\".join('abcd'))\n",
    "\n",
    "# 소문자 > 대문자\n",
    "print(a.upper())\n",
    "\n",
    "#대문자 > 소문자\n",
    "a = a.upper()\n",
    "print(a.lower())\n",
    "\n",
    "#공백 지우기 : lstrip, strip, rstrip\n",
    "a = \"        t test t           \"\n",
    "print(a+'/')\n",
    "print(a.lstrip()+'/')\n",
    "print(a.rstrip()+'/')\n",
    "\n",
    "#문자열 바꾸기 :replace\n",
    "print(a.replace(\"test\",\"TEST\"))\n",
    "\n",
    "#문자열 나누기 :split\n",
    "a = \"Life is too short\"\n",
    "print(a.split())\n",
    "a = \"a:b:c:d\"\n",
    "print(a.split(':'))"
   ]
  },
  {
   "cell_type": "markdown",
   "metadata": {},
   "source": [
    "### 리스트자료형"
   ]
  },
  {
   "cell_type": "markdown",
   "metadata": {},
   "source": [
    "- 리스트 인덱싱"
   ]
  },
  {
   "cell_type": "code",
   "execution_count": 224,
   "metadata": {},
   "outputs": [
    {
     "name": "stdout",
     "output_type": "stream",
     "text": [
      "[1, 2, 'Life', 'is']\n",
      "1 Life is\n",
      "3\n",
      "[1, 2, ['a', 'b', ['Life', 'is']]]\n",
      "1\n",
      "['a', 'b', ['Life', 'is']]\n",
      "a\n",
      "['Life', 'is']\n",
      "Life\n"
     ]
    }
   ],
   "source": [
    "#리스트명 = [요소1, 요소2, 요소3, ...]\n",
    "a = [1, 2, \"Life\", \"is\"]\n",
    "print(a)\n",
    "\n",
    "#리스트 인덱싱\n",
    "print(str(a[0]),a[2],a[-1])\n",
    "print(a[0]+a[1])\n",
    "\n",
    "#삼중 리스트에서 인덱싱하기\n",
    "a = [1,2, ['a','b',['Life','is']]]\n",
    "print(a)\n",
    "print(a[0])\n",
    "print(a[2])\n",
    "print(a[2][0])\n",
    "print(a[2][2])\n",
    "print(a[2][2][0])"
   ]
  },
  {
   "cell_type": "markdown",
   "metadata": {},
   "source": [
    "- 리스트 슬라이싱"
   ]
  },
  {
   "cell_type": "code",
   "execution_count": 230,
   "metadata": {},
   "outputs": [
    {
     "name": "stdout",
     "output_type": "stream",
     "text": [
      "[1, 2]\n",
      "['a', 'b']\n",
      "['Life', 'is']\n",
      "['Life']\n"
     ]
    }
   ],
   "source": [
    "a = [1,2, ['a','b',['Life','is']]]\n",
    "print(a[0:2])\n",
    "print(a[2][:2])\n",
    "print(a[2][2])\n",
    "print(a[2][2][:1])"
   ]
  },
  {
   "cell_type": "markdown",
   "metadata": {},
   "source": [
    "- 리스트 연산하기"
   ]
  },
  {
   "cell_type": "code",
   "execution_count": 245,
   "metadata": {},
   "outputs": [
    {
     "name": "stdout",
     "output_type": "stream",
     "text": [
      "[2, 4, 6, 8, 'a', 'b', 'c', 'd']\n",
      "[2, 4, 6, 8, 2, 4, 6, 8, 2, 4, 6, 8]\n",
      "['a', 'b', 'c', 'd', 'a', 'b', 'c', 'd', 'a', 'b', 'c', 'd']\n",
      "4\n",
      "2a\n",
      "aa\n"
     ]
    }
   ],
   "source": [
    "# 더하기\n",
    "a = [2,4,6,8]\n",
    "b = ['a','b','c','d']\n",
    "print(a+b)\n",
    "\n",
    "# 반복하기\n",
    "print(a*3)\n",
    "print(b*3)\n",
    "\n",
    "#리스트 길이 구하기\n",
    "print(len(b))\n",
    "\n",
    "#형변환\n",
    "print(str(a[0])+b[0]) #str + str > 더하기\n",
    "print(a[0]*b[0]) #int * char > 반복하기"
   ]
  },
  {
   "cell_type": "markdown",
   "metadata": {},
   "source": [
    "- 리스트의 수정과 삭제"
   ]
  },
  {
   "cell_type": "code",
   "execution_count": 246,
   "metadata": {},
   "outputs": [
    {
     "name": "stdout",
     "output_type": "stream",
     "text": [
      "[2, 4, 6, 8]\n",
      "[2, 3, 6, 8]\n",
      "[2, 3]\n"
     ]
    }
   ],
   "source": [
    "#리스트에서 값 수정하기\n",
    "print(a)\n",
    "a[1] = 3\n",
    "print(a)\n",
    "\n",
    "#리스트에서 요소 삭제하기\n",
    "#del a[x]는 x번째 요소값을 삭제한다\n",
    "#def 객체 / 객체란 파이썬에서 사용되는 모든 자료형을 말한다.\n",
    "#슬라이싱을 활용해 삭제가 가능하다\n",
    "del a[2:]\n",
    "print(a)"
   ]
  },
  {
   "cell_type": "markdown",
   "metadata": {},
   "source": [
    "#### 리스트 관련 함수"
   ]
  },
  {
   "cell_type": "code",
   "execution_count": 272,
   "metadata": {},
   "outputs": [
    {
     "name": "stdout",
     "output_type": "stream",
     "text": [
      "[5, 4, 3, 1, 3, 3, 3, 'a', 'b', 8, 9]\n",
      "[5, 4, 3, 1, 3, 3, 3, 'a', 'b', 8, 9, [5, 6]]\n",
      "[1, 2, 3, 4, 5]\n",
      "[5, 4, 3, 2, 1]\n",
      "2\n",
      "1\n",
      "0\n",
      "[5, 4, 3, 2, 1]\n",
      "[6, 5, 4, 3, 2, 1]\n",
      "[5, 4, 3, 2, 1]\n",
      "[5, 4, 3, 2, 1]\n",
      "2\n",
      "[5, 4, 3, 1]\n",
      "1\n",
      "[5, 4, 3]\n",
      "[5, 4, 3]\n",
      "[5, 4, 3, 3, 3, 3]\n",
      "1\n",
      "4\n",
      "[5, 4, 3, 3, 3, 3]\n",
      "['a', 'b', 8, 9]\n",
      "[5, 4, 3, 3, 3, 3, 'a', 'b', 8, 9]\n",
      "['a', 'b', 8, 9]\n"
     ]
    }
   ],
   "source": [
    "# 요소 추가 : append()\n",
    "#append(x)는 리스트의 맨 마지막에 x를 추가\n",
    "print(a)\n",
    "#a.append(5,6) #이 경우는 2개의 요소 5와 6을 추가하려하기때문에 에러가 발생\n",
    "a.append([5,6]) #이 경우는 5와 6이 하나의 리스트로 묶여있어 1개요소로 인식된다.\n",
    "print(a)\n",
    "\n",
    "#리스트 정렬 : sort()\n",
    "#print(a.sort()) #a가 이중리스트인 상태에서는 에러가발생..\n",
    "a = [5,2,1,3,4]\n",
    "#print(a.sort()) # 결과값 None 나옴\n",
    "a.sort()\n",
    "print(a)\n",
    "\n",
    "#리스트 뒤집기 : reverse()\n",
    "a.reverse()\n",
    "print(a)\n",
    "\n",
    "#리스트 위치반환 : index()\n",
    "#index(x) 함수는 리스트에 x 값이 있으면 x의 위치 값을 돌려준다\n",
    "#x가 없을 경우 에러발생\n",
    "print(a.index(3))\n",
    "print(a.index(4))\n",
    "print(a.index(5))\n",
    "\n",
    "#리스트 요소삽입 : insert()\n",
    "#insert(a, b)는 리스트의 a번째 위치에 b를 삽입\n",
    "print(a)\n",
    "a.insert(0,6)\n",
    "print(a)\n",
    "\n",
    "#리스트 요소제거 : remove()\n",
    "#remove(x)는 리스트에서 첫 번째로 나오는 x를 삭제하는 함수\n",
    "#x가 없을 경우 에러발생\n",
    "a.remove(6)\n",
    "print(a)\n",
    "\n",
    "#리스트 요소 끄집어내기 : pop()\n",
    "#pop()은 리스트의 맨 마지막 요소를 돌려주고 그 요소는 삭제\n",
    "#pop(x)는 리스트의 x번째 요소를 돌려주고 그 요소는 삭제\n",
    "print(a)\n",
    "print(a.pop(3))\n",
    "print(a)\n",
    "print(a.pop())\n",
    "print(a)\n",
    "\n",
    "#리스트에 포함된 요소 x의 개수 세기 : count()\n",
    "print(a)\n",
    "a.append(3)\n",
    "a.append(3)\n",
    "a.append(3)\n",
    "print(a)\n",
    "print(a.count(5))\n",
    "print(a.count(3))\n",
    "\n",
    "#리스트 확장 : extend()\n",
    "#extend(x)에서 x에는 리스트만 올 수 있으며 원래의 a 리스트에 x 리스트를 더하게 된다\n",
    "print(a)\n",
    "b = ['a','b',8,9]\n",
    "print(b)\n",
    "a.extend(b)\n",
    "print(a)\n",
    "print(b)"
   ]
  },
  {
   "cell_type": "markdown",
   "metadata": {},
   "source": [
    "### 튜플 자료형\n",
    "```\n",
    "튜플(tuple)은 몇 가지 점을 제외하곤 리스트와 거의 비슷하며 리스트와 다른 점은 다음과 같다.\n",
    "\n",
    "- 리스트는 [ ]으로 둘러싸지만 튜플은 ( )으로 둘러싼다.\n",
    "- 튜플은 생성된 값을 바꿀 수 없다.\n",
    "```"
   ]
  },
  {
   "cell_type": "code",
   "execution_count": 284,
   "metadata": {},
   "outputs": [
    {
     "name": "stdout",
     "output_type": "stream",
     "text": [
      "()\n",
      "(1,)\n",
      "(1, 2, 3)\n",
      "(1, 2, 3)\n",
      "('a', 'b', ('ab', 'cd'))\n"
     ]
    }
   ],
   "source": [
    "t1 = ()\n",
    "t2 = (1,)\n",
    "t3 = (1,2,3)\n",
    "t4 = 1,2,3\n",
    "t5 = ('a','b',('ab','cd'))\n",
    "print(t1)\n",
    "print(t2)\n",
    "print(t3)\n",
    "print(t4)\n",
    "print(t5)"
   ]
  },
  {
   "cell_type": "markdown",
   "metadata": {},
   "source": [
    "- 튜플의 수정,삭제 시도 시"
   ]
  },
  {
   "cell_type": "code",
   "execution_count": 282,
   "metadata": {},
   "outputs": [
    {
     "ename": "TypeError",
     "evalue": "'tuple' object does not support item assignment",
     "output_type": "error",
     "traceback": [
      "\u001b[1;31m---------------------------------------------------------------------------\u001b[0m",
      "\u001b[1;31mTypeError\u001b[0m                                 Traceback (most recent call last)",
      "\u001b[1;32m<ipython-input-282-0144659cf9fa>\u001b[0m in \u001b[0;36m<module>\u001b[1;34m\u001b[0m\n\u001b[0;32m      5\u001b[0m \u001b[1;33m\u001b[0m\u001b[0m\n\u001b[0;32m      6\u001b[0m \u001b[1;31m#튜플의 요소값을 변경하려할 때\u001b[0m\u001b[1;33m\u001b[0m\u001b[1;33m\u001b[0m\u001b[1;33m\u001b[0m\u001b[0m\n\u001b[1;32m----> 7\u001b[1;33m \u001b[0mt2\u001b[0m\u001b[1;33m[\u001b[0m\u001b[1;36m1\u001b[0m\u001b[1;33m]\u001b[0m \u001b[1;33m=\u001b[0m \u001b[1;36m3\u001b[0m \u001b[1;31m#튜플 객체는 할당을 지원하지 않는다는 에러 발생\u001b[0m\u001b[1;33m\u001b[0m\u001b[1;33m\u001b[0m\u001b[0m\n\u001b[0m\u001b[0;32m      8\u001b[0m \u001b[0mprint\u001b[0m\u001b[1;33m(\u001b[0m\u001b[0mt2\u001b[0m\u001b[1;33m)\u001b[0m\u001b[1;33m\u001b[0m\u001b[1;33m\u001b[0m\u001b[0m\n",
      "\u001b[1;31mTypeError\u001b[0m: 'tuple' object does not support item assignment"
     ]
    }
   ],
   "source": [
    "#튜플의 요소 삭제를 시도해보자\n",
    "#del t3[0] #튜플 객체는 삭제를 지원하지 않는다는 에러 발생\n",
    "#del t3 #객체를 삭제하는건 가능\n",
    "#print(t3)\n",
    "\n",
    "#튜플의 요소값을 변경하려할 때\n",
    "t2[1] = 3 #튜플 객체는 할당을 지원하지 않는다는 에러 발생\n",
    "print(t2)"
   ]
  },
  {
   "cell_type": "markdown",
   "metadata": {},
   "source": [
    "- 튜플 다루기"
   ]
  },
  {
   "cell_type": "code",
   "execution_count": 299,
   "metadata": {},
   "outputs": [
    {
     "name": "stdout",
     "output_type": "stream",
     "text": [
      "1\n",
      "3\n",
      "('a', 'b', ('ab', 'cd'))\n",
      "('b', ('ab', 'cd'))\n",
      "(1, 2, 3, 'a', 'b', ('ab', 'cd'))\n",
      "(1, 1, 1)\n",
      "(1, 2, 3, 1, 2, 3)\n",
      "('a', 'b', ('ab', 'cd'), 'a', 'b', ('ab', 'cd'))\n",
      "1\n",
      "3\n",
      "3\n"
     ]
    }
   ],
   "source": [
    "#인덱싱하기\n",
    "print(t3[0])\n",
    "print(t4[2])\n",
    "\n",
    "#슬라이싱\n",
    "print(t5)\n",
    "print(t5[1:])\n",
    "\n",
    "#더하기\n",
    "print(t3+t5)\n",
    "\n",
    "#곱하기\n",
    "print(t2*3)\n",
    "print(t3*2)\n",
    "print(t5*2)\n",
    "\n",
    "#길이 구하기\n",
    "print(len(t2))\n",
    "print(len(t4))\n",
    "print(len(t5)) #t5는 삼중리스트"
   ]
  },
  {
   "cell_type": "markdown",
   "metadata": {},
   "source": [
    "### 딕셔너리 자료형\n",
    "```\n",
    "키와 값 처럼 대응되는 관계, 연관배열(Associative array) 또는 해시(Hash)라고 한다.\n",
    "파이썬은 이를 딕셔너리라고 한다.\n",
    "\n",
    "딕셔너리명 = {Key1:value1, Key2:value2, Key3:value3, ...}\n",
    "Key에는 변하지 않는 값을 사용하고, Value에는 변하는 값과 변하지 않는 값 모두 사용할 수 있다.\n",
    "```\n",
    "#### 딕셔너리 만들 때 주의사항\n",
    "```\n",
    "  - Key가 중복될 경우 1개를 제외한 나머지 Key:Value 쌍이 무시된다.\n",
    "  - 순서가 없는 자료형이라 인덱싱을 지원하지 않는다.\n",
    "```"
   ]
  },
  {
   "cell_type": "code",
   "execution_count": 350,
   "metadata": {},
   "outputs": [
    {
     "name": "stdout",
     "output_type": "stream",
     "text": [
      "{'name': 'jaeyoung', 25: 28, 'test_key': 'test_value', 'test_key1': 'test_value1'}\n",
      "jaeyoung\n",
      "28\n"
     ]
    },
    {
     "ename": "KeyError",
     "evalue": "28",
     "output_type": "error",
     "traceback": [
      "\u001b[1;31m---------------------------------------------------------------------------\u001b[0m",
      "\u001b[1;31mKeyError\u001b[0m                                  Traceback (most recent call last)",
      "\u001b[1;32m<ipython-input-350-3ffdf4d9784c>\u001b[0m in \u001b[0;36m<module>\u001b[1;34m\u001b[0m\n\u001b[0;32m     10\u001b[0m \u001b[0mprint\u001b[0m\u001b[1;33m(\u001b[0m\u001b[0mdic\u001b[0m\u001b[1;33m[\u001b[0m\u001b[0mage\u001b[0m\u001b[1;33m]\u001b[0m\u001b[1;33m)\u001b[0m\u001b[1;33m\u001b[0m\u001b[1;33m\u001b[0m\u001b[0m\n\u001b[0;32m     11\u001b[0m \u001b[0mage\u001b[0m \u001b[1;33m=\u001b[0m \u001b[1;36m28\u001b[0m\u001b[1;33m\u001b[0m\u001b[1;33m\u001b[0m\u001b[0m\n\u001b[1;32m---> 12\u001b[1;33m \u001b[0mprint\u001b[0m\u001b[1;33m(\u001b[0m\u001b[0mdic\u001b[0m\u001b[1;33m[\u001b[0m\u001b[0mage\u001b[0m\u001b[1;33m]\u001b[0m\u001b[1;33m)\u001b[0m\u001b[1;33m\u001b[0m\u001b[1;33m\u001b[0m\u001b[0m\n\u001b[0m",
      "\u001b[1;31mKeyError\u001b[0m: 28"
     ]
    }
   ],
   "source": [
    "dic = {\n",
    "    'name':'jaeyoung',\n",
    "    age:28, #이전에 선언되었던 변수가 key로 들어올 수 있다.\n",
    "    'test_key':'test_value',\n",
    "    'test_key1':'test_value1'\n",
    "}\n",
    "\n",
    "print(dic)\n",
    "print(dic['name'])\n",
    "print(dic[age])\n",
    "age = 28\n",
    "print(dic[age]) # 하지만 age 값이 바뀌면 찾지못한다.."
   ]
  },
  {
   "cell_type": "markdown",
   "metadata": {},
   "source": [
    "- 딕셔너리 쌍 추가,삭제"
   ]
  },
  {
   "cell_type": "code",
   "execution_count": 353,
   "metadata": {},
   "outputs": [
    {
     "name": "stdout",
     "output_type": "stream",
     "text": [
      "{'name': 'jaeyoung', 25: 28, 'test_key': 'test_value', 'test_key1': 'test_value1', 'add_key': 'add_value', 'add_key1': ['add_value1', 'add_value2']}\n",
      "{'name': 'jaeyoung', 25: 28, 'test_key': 'test_value', 'test_key1': 'test_value1', 'add_key1': ['add_value1', 'add_value2']}\n"
     ]
    }
   ],
   "source": [
    "#쌍 추가\n",
    "dic['add_key'] = 'add_value'\n",
    "dic['add_key1'] = ['add_value1','add_value2'] #리스트 값이 들어올 수 있다.\n",
    "print(dic)\n",
    "\n",
    "#쌍 삭제\n",
    "del dic['add_key']\n",
    "print(dic)"
   ]
  },
  {
   "cell_type": "markdown",
   "metadata": {},
   "source": [
    "#### 딕셔너리 관련함수"
   ]
  },
  {
   "cell_type": "code",
   "execution_count": 374,
   "metadata": {},
   "outputs": [
    {
     "name": "stdout",
     "output_type": "stream",
     "text": [
      "dict_keys(['name', 25, 'test_key', 'test_key1', 'add_key1'])\n",
      "dict_items([('name', 'jaeyoung'), (25, 28), ('test_key', 'test_value'), ('test_key1', 'test_value1'), ('add_key1', ['add_value1', 'add_value2'])])\n",
      "jaeyoung\n",
      "None\n",
      "empty\n",
      "True\n",
      "True\n",
      "False\n",
      "{}\n"
     ]
    }
   ],
   "source": [
    "#key 리스트 만들기 : keys()\n",
    "print(dic.keys())\n",
    "\n",
    "#key, value 쌍 얻기 : items()\n",
    "print(dic.items())\n",
    "\n",
    "#key로 value 얻기 : get()\n",
    "# 존재하지 않는 키 'x'로 요청할 경우, dic['x']는 에러를 반환, dic.get('x')는 none을 반환한다.\n",
    "#찾으려는 Key 값이 없을 경우, 디폴트 값을 대신 가져오게 하고 싶을 때에는 get(x, '디폴트 값')을 사용\n",
    "print(dic.get('name'))\n",
    "print(dic.get('nokey'))\n",
    "print(dic.get('nokey','empty'))\n",
    "\n",
    "#해당 key가 딕셔너리 안에 있는지 조사하기 : in()\n",
    "print(25 in dic)\n",
    "print('name' in dic)\n",
    "print('nokey' in dic)\n",
    "\n",
    "#key, value 쌍 모두 지우기 : clear()\n",
    "#clear 함수는 딕셔너리 안의 모든 요소를 삭제한다. \n",
    "#빈 리스트를 [ ], 빈 튜플을 ( )로 표현하는 것과 마찬가지로 빈 딕셔너리도 { }로 표현한다.\n",
    "dic.clear()\n",
    "print(dic)"
   ]
  },
  {
   "cell_type": "markdown",
   "metadata": {},
   "source": [
    "### 집합 자료형 (set)\n",
    "```\n",
    "집합명 = set([value1,value2,value3, ...)\n",
    "```\n",
    "#### 집합 자료형 특징\n",
    "```\n",
    "  - 중복을 허용하지 않는다.\n",
    "  - 순서가 없다(Unordered). > 인덱싱을 지원하지 않는다.\n",
    "  - 인덱싱을 사용하려면 리스트나 튜플로 변환 후 사용해야 한다.\n",
    "```\n",
    "이러한 특징 때문에 자료형의 중복을 제거하기 위한 필터 역할로 종종 사용하기도 한다."
   ]
  },
  {
   "cell_type": "code",
   "execution_count": 382,
   "metadata": {},
   "outputs": [
    {
     "name": "stdout",
     "output_type": "stream",
     "text": [
      "{1, 2, 3}\n",
      "[1, 2, 3]\n",
      "(1, 2, 3)\n",
      "1\n",
      "1\n"
     ]
    }
   ],
   "source": [
    "s1 = set([1,2,3])\n",
    "l1 = list(s1)\n",
    "t1 = tuple(s1)\n",
    "print(s1)\n",
    "print(l1)\n",
    "print(t1)\n",
    "\n",
    "#print(s1[0]) # 'set' object is not subscriptable 에러발생 > 특정 요소에 access가 불가능\n",
    "print(l1[0])\n",
    "print(t1[0])"
   ]
  },
  {
   "cell_type": "markdown",
   "metadata": {},
   "source": [
    "#### 교집합, 합집합, 차집합\n",
    "```\n",
    "set 자료형을 정말 유용하게 사용하는 경우이다.\n",
    "```"
   ]
  },
  {
   "cell_type": "code",
   "execution_count": 388,
   "metadata": {},
   "outputs": [
    {
     "name": "stdout",
     "output_type": "stream",
     "text": [
      "{4, 5, 6}\n",
      "{4, 5, 6}\n",
      "{1, 2, 3, 4, 5, 6, 7, 8, 9}\n",
      "{1, 2, 3, 4, 5, 6, 7, 8, 9}\n",
      "{1, 2, 3}\n",
      "{1, 2, 3}\n"
     ]
    }
   ],
   "source": [
    "s1 = set([1, 2, 3, 4, 5, 6])\n",
    "s2 = set([4, 5, 6, 7, 8, 9])\n",
    "\n",
    "#교집합\n",
    "print(s1 & s2)\n",
    "print(s1.intersection(s2))\n",
    "\n",
    "#합집합\n",
    "print(s1 | s2)\n",
    "print(s1.union(s2))\n",
    "\n",
    "#차집합\n",
    "print(s1 - s2)\n",
    "print(s1.difference(s2))"
   ]
  },
  {
   "cell_type": "markdown",
   "metadata": {},
   "source": [
    "- 집합 자료형 관련함수"
   ]
  },
  {
   "cell_type": "code",
   "execution_count": 402,
   "metadata": {},
   "outputs": [
    {
     "name": "stdout",
     "output_type": "stream",
     "text": [
      "{1, 2, 3, 4, 5, 6}\n",
      "{1, 2, 3, 4, 5, 6, 12}\n",
      "{4, 5, 6, 7, 8, 9}\n",
      "{33, 4, 5, 6, 7, 8, 9, 11, 22}\n",
      "s1 : {1, 2, 3, 4, 5, 6, 12} / s2 : {33, 4, 5, 6, 7, 8, 9, 11, 22}\n",
      "s1 : {1, 2, 3, 4, 5, 6} / s2 : {4, 5, 6, 7, 8, 9}\n"
     ]
    }
   ],
   "source": [
    "# 값 1개 추가하기 : add()\n",
    "print(s1)\n",
    "s1.add(12)\n",
    "print(s1)\n",
    "\n",
    "# 값 여러개 추가하기 : update()\n",
    "print(s2)\n",
    "s2.update([11, 22, 33])\n",
    "print(s2)\n",
    "\n",
    "# 특정 값 제거하기 : remove()\n",
    "print('s1 :',s1,'/ s2 :',s2)\n",
    "s1.remove(12)\n",
    "s2.remove(11)\n",
    "s2.remove(22)\n",
    "s2.remove(33)\n",
    "print('s1 :',s1,'/ s2 :',s2)"
   ]
  },
  {
   "cell_type": "markdown",
   "metadata": {},
   "source": [
    "### 불 자료형\n",
    "```\n",
    "true나 false는 예약어기 때문에 첫 문자를 항상 대문자로 사용해야한다.\n",
    "논리 연산자의 결과는 True와 False로 반환된다.\n",
    "```"
   ]
  },
  {
   "cell_type": "code",
   "execution_count": 406,
   "metadata": {},
   "outputs": [
    {
     "name": "stdout",
     "output_type": "stream",
     "text": [
      "a : <class 'bool'> b : <class 'bool'>\n"
     ]
    }
   ],
   "source": [
    "a, b = True, False\n",
    "print('a :',type(a),'b :',type(b))"
   ]
  },
  {
   "cell_type": "code",
   "execution_count": 407,
   "metadata": {},
   "outputs": [
    {
     "name": "stdout",
     "output_type": "stream",
     "text": [
      "True\n",
      "False\n"
     ]
    }
   ],
   "source": [
    "print(1==1)\n",
    "print(1>1)"
   ]
  },
  {
   "attachments": {
    "image.png": {
     "image/png": "[encoded data removed]"
    }
   },
   "cell_type": "markdown",
   "metadata": {},
   "source": [
    "- 자료형에는 참과 거짓이 있다.\n",
    "  - 문자열, 리스트, 튜플, 딕셔너리 등의 값이 비어 있으면 거짓이 된다.\n",
    "  - 숫자에서는 값이 0일 때 거짓이 된다.\n",
    "![image.png](attachment:image.png)"
   ]
  },
  {
   "cell_type": "markdown",
   "metadata": {},
   "source": [
    "- 불 연산"
   ]
  },
  {
   "cell_type": "code",
   "execution_count": 413,
   "metadata": {},
   "outputs": [
    {
     "name": "stdout",
     "output_type": "stream",
     "text": [
      "True\n",
      "False\n",
      "True\n",
      "False\n",
      "True\n",
      "False\n"
     ]
    }
   ],
   "source": [
    "print(bool('python'))\n",
    "print(bool(''))\n",
    "print(bool([1,2,3]))\n",
    "print(bool([]))\n",
    "print(bool(2))\n",
    "print(bool(0))"
   ]
  },
  {
   "cell_type": "markdown",
   "metadata": {},
   "source": [
    "### 변수\n",
    "```\n",
    "변수명 = 값\n",
    "변수명1 = 변수명2 = 값\n",
    "변수명1, 변수명2 = 값1, 값2\n",
    "\n",
    "- 변수명을 여러개 생성할 때 튜플이나 리스트로 감싸서도 생성가능\n",
    "[변수명1, 변수명2] = 값1, 값2\n",
    "\n",
    "- 변수명 만으로도 스왑이 가능\n",
    "a, b = b, a\n",
    "\n",
    "- id(변수명) 을 이용 주소값을 확인가능\n",
    "```"
   ]
  },
  {
   "cell_type": "code",
   "execution_count": 431,
   "metadata": {},
   "outputs": [
    {
     "name": "stdout",
     "output_type": "stream",
     "text": [
      "a's id :  2131843746176 \n",
      "b's id :  2131843746176\n",
      "[1, 2, 3]\n",
      "[1, 2, 3]\n",
      "a's id :  2131843746176 \n",
      "b's id :  2131843746176\n",
      "[1, 2, 3, 4]\n",
      "[1, 2, 3, 4]\n"
     ]
    },
    {
     "data": {
      "text/plain": [
       "True"
      ]
     },
     "execution_count": 431,
     "metadata": {},
     "output_type": "execute_result"
    }
   ],
   "source": [
    "#보통의 복사상황, 동일한 주소를 가르키고 있다,\n",
    "a = [1,2,3]\n",
    "b = a\n",
    "print(\"a's id : \",id(a),'\\n'+\"b's id : \",id(b))\n",
    "print(a)\n",
    "print(b)\n",
    "a.append(4)\n",
    "print(\"a's id : \",id(a),'\\n'+\"b's id : \",id(b))\n",
    "print(a)\n",
    "print(b)\n",
    "a is b"
   ]
  },
  {
   "cell_type": "markdown",
   "metadata": {},
   "source": [
    "- 리스트를 복사할 때 같은 주소를 참조하는게 아니라 값만 새로운 주소에 할당하여 사용\n",
    "  - [:] 모듈 사용\n",
    "  - copy 모듈 사용"
   ]
  },
  {
   "cell_type": "code",
   "execution_count": 432,
   "metadata": {},
   "outputs": [
    {
     "name": "stdout",
     "output_type": "stream",
     "text": [
      "a1's id :  2131805685440 \n",
      "b1's id :  2131825829056\n",
      "[1, 2, 3]\n",
      "[1, 2, 3]\n",
      "a1's id :  2131805685440 \n",
      "b1's id :  2131825829056\n",
      "[1, 2, 3, 4]\n",
      "[1, 2, 3]\n"
     ]
    },
    {
     "data": {
      "text/plain": [
       "True"
      ]
     },
     "execution_count": 432,
     "metadata": {},
     "output_type": "execute_result"
    }
   ],
   "source": [
    "# [:] 이용\n",
    "a1 = [1,2,3]\n",
    "b1 = a1[:]\n",
    "print(\"a1's id : \",id(a1),'\\n'+\"b1's id : \",id(b1))\n",
    "print(a1)\n",
    "print(b1)\n",
    "a1.append(4)\n",
    "print(\"a1's id : \",id(a1),'\\n'+\"b1's id : \",id(b1))\n",
    "print(a1)\n",
    "print(b1)\n",
    "a is b"
   ]
  },
  {
   "cell_type": "code",
   "execution_count": 430,
   "metadata": {},
   "outputs": [
    {
     "name": "stdout",
     "output_type": "stream",
     "text": [
      "a2's id :  2131823950720 \n",
      "b2's id :  2131843699776\n"
     ]
    },
    {
     "data": {
      "text/plain": [
       "False"
      ]
     },
     "execution_count": 430,
     "metadata": {},
     "output_type": "execute_result"
    }
   ],
   "source": [
    "# copy 모듈 이용\n",
    "from copy import copy\n",
    "a2 = [1,2,3]\n",
    "b2 = copy(a2)\n",
    "print(\"a2's id : \",id(a2),'\\n'+\"b2's id : \",id(b2))\n",
    "b2 is a2"
   ]
  },
  {
   "cell_type": "code",
   "execution_count": 456,
   "metadata": {},
   "outputs": [
    {
     "name": "stdout",
     "output_type": "stream",
     "text": [
      "<class 'int'>\n",
      "<class 'str'>\n",
      "<class 'str'>\n",
      "<class 'str'>\n",
      "<class 'tuple'>\n",
      "['python1', 'test1']\n",
      "['python1']\n",
      "['test1']\n",
      "['test1']\n",
      "['python1']\n"
     ]
    }
   ],
   "source": [
    "q = 1\n",
    "w = 'a'\n",
    "[e,r]=['python','test']\n",
    "(e,r)='python1','test1'\n",
    "print(type(q))\n",
    "print(type(w))\n",
    "print(type(e))\n",
    "print(type(r))\n",
    "print(type((e,r)))\n",
    "\n",
    "print([e,r])\n",
    "print([e])\n",
    "print([r])\n",
    "[e, r] = [r, e]\n",
    "print([e])\n",
    "print([r])"
   ]
  },
  {
   "cell_type": "markdown",
   "metadata": {},
   "source": [
    "### 연습문제"
   ]
  },
  {
   "cell_type": "markdown",
   "metadata": {},
   "source": [
    "1.홍길동 씨의 과목별 점수는 다음과 같다. 홍길동 씨의 평균 점수를 구해 보자.\n",
    "\n",
    "과목\t점수\n",
    "국어\t80\n",
    "영어\t75\n",
    "수학\t55"
   ]
  },
  {
   "cell_type": "code",
   "execution_count": 457,
   "metadata": {},
   "outputs": [
    {
     "name": "stdout",
     "output_type": "stream",
     "text": [
      "70.0\n"
     ]
    }
   ],
   "source": [
    "kor, eng, math =80, 75, 55\n",
    "avg = (kor+eng+math)/3\n",
    "print(avg)"
   ]
  },
  {
   "cell_type": "markdown",
   "metadata": {},
   "source": [
    "2.자연수 13이 홀수인지 짝수인지 판별할 수 있는 방법에 대해 말해 보자."
   ]
  },
  {
   "cell_type": "code",
   "execution_count": 461,
   "metadata": {},
   "outputs": [
    {
     "name": "stdout",
     "output_type": "stream",
     "text": [
      "홀수\n"
     ]
    }
   ],
   "source": [
    "x = 13\n",
    "if (x % 2) == 1:\n",
    "    print(\"홀수\")\n",
    "else:\n",
    "    print(\"짝수\")"
   ]
  },
  {
   "cell_type": "markdown",
   "metadata": {},
   "source": [
    "3.홍길동 씨의 주민등록번호는 881120-1068234이다. 홍길동 씨의 주민등록번호를 연월일(YYYYMMDD) 부분과 그 뒤의 숫자 부분으로 나누어 출력해 보자.\n",
    "\n",
    "※ 문자열 슬라이싱 기법을 사용해 보자."
   ]
  },
  {
   "cell_type": "code",
   "execution_count": 491,
   "metadata": {},
   "outputs": [
    {
     "name": "stdout",
     "output_type": "stream",
     "text": [
      "연 :1988 월 :11 일 :20\n",
      "뒷자리 :2068234\n"
     ]
    }
   ],
   "source": [
    "regNo = '881120-2068234'\n",
    "year = month = day = ''\n",
    "\n",
    "if (regNo[7]=='1') or (regNo[7]=='2') :\n",
    "    year = '19'+regNo[:2]\n",
    "else :\n",
    "    year = '20'+regNo[:2]\n",
    "month = regNo[2:4]\n",
    "day = regNo[4:6]\n",
    "\n",
    "print('연 :'+year,'월 :'+month,'일 :'+day)\n",
    "print('뒷자리 :'+regNo[7:])"
   ]
  },
  {
   "cell_type": "markdown",
   "metadata": {},
   "source": [
    "4.주민등록번호 뒷자리의 맨 첫 번째 숫자는 성별을 나타낸다. 주민등록번호에서 성별을 나타내는 숫자를 출력해 보자."
   ]
  },
  {
   "cell_type": "code",
   "execution_count": 492,
   "metadata": {},
   "outputs": [
    {
     "name": "stdout",
     "output_type": "stream",
     "text": [
      "1\n"
     ]
    }
   ],
   "source": [
    "pin = \"881120-1068234\"\n",
    "print(pin[7])"
   ]
  },
  {
   "cell_type": "markdown",
   "metadata": {},
   "source": [
    "5.다음과 같은 문자열 a:b:c:d가 있다. 문자열의 replace 함수를 사용하여 a#b#c#d로 바꿔서 출력해 보자."
   ]
  },
  {
   "cell_type": "code",
   "execution_count": 495,
   "metadata": {},
   "outputs": [
    {
     "name": "stdout",
     "output_type": "stream",
     "text": [
      "a#b#c#d\n"
     ]
    }
   ],
   "source": [
    "a = \"a:b:c:d\"\n",
    "print(a.replace(':','#'))"
   ]
  },
  {
   "cell_type": "markdown",
   "metadata": {},
   "source": [
    "6. [1, 3, 5, 4, 2] 리스트를 [5, 4, 3, 2, 1]로 만들어 보자."
   ]
  },
  {
   "cell_type": "code",
   "execution_count": 498,
   "metadata": {},
   "outputs": [
    {
     "name": "stdout",
     "output_type": "stream",
     "text": [
      "[1, 2, 3, 4, 5]\n"
     ]
    }
   ],
   "source": [
    "a = [1, 3, 5, 4, 2]\n",
    "a.sort()\n",
    "print(a)"
   ]
  },
  {
   "cell_type": "markdown",
   "metadata": {},
   "source": [
    "7. ['Life', 'is', 'too', 'short'] 리스트를 Life is too short 문자열로 만들어 출력해 보자."
   ]
  },
  {
   "cell_type": "code",
   "execution_count": 502,
   "metadata": {},
   "outputs": [
    {
     "name": "stdout",
     "output_type": "stream",
     "text": [
      "Life is too short\n"
     ]
    }
   ],
   "source": [
    "a = ['Life', 'is', 'too', 'short']\n",
    "b = ' '.join(a)\n",
    "print(b)"
   ]
  },
  {
   "cell_type": "markdown",
   "metadata": {},
   "source": [
    "8. (1,2,3) 튜플에 값 4를 추가하여 (1,2,3,4)를 만들어 출력해 보자."
   ]
  },
  {
   "cell_type": "code",
   "execution_count": 524,
   "metadata": {},
   "outputs": [
    {
     "name": "stdout",
     "output_type": "stream",
     "text": [
      "(1, 2, 3, 4)\n"
     ]
    }
   ],
   "source": [
    "t = (1,2,3)\n",
    "t2 = (4,)\n",
    "\n",
    "print(t+t2)"
   ]
  },
  {
   "cell_type": "markdown",
   "metadata": {},
   "source": [
    "9.\n",
    "다음과 같은 딕셔너리 a가 있다.\n",
    "```\n",
    ">>> a = dict()\n",
    ">>> a\n",
    "{}\n",
    "다음 중 오류가 발생하는 경우를 고르고, 그 이유를 설명해 보자.\n",
    "\n",
    "a['name'] = 'python'\n",
    "a[('a',)] = 'python'\n",
    "a[[1]] = 'python'\n",
    "a[250] = 'python'\n",
    "```"
   ]
  },
  {
   "cell_type": "markdown",
   "metadata": {},
   "source": [
    "```\n",
    "3번째, 딕셔너리의 키값으로는 해싱 가능한 객체가 와야한다.\n",
    "즉, 숫자, 튜플, 스트링은 가능하나 리스트는 불가하다... 왜 리스트는 해싱이 불가할까?..\n",
    "\n",
    "> 해시 키로 사용되는 객체는 불변성이 있어야 해시값이 변하지 않기 때문..어렵다..\n",
    "\n",
    "hashable : 어떤 데이터를 hash 함수를 이용해서 hash 값으로 변환할 수 있다는 것\n",
    "immutability : 이는 해당 데이터(혹은 구조)가 변하지 않는 다는 것이 보장된다는 것\n",
    "\n",
    "hashable and immutable : hash는 어떤 특정한 데이터에 대해서, 매우 유니크한 하나의 값을 가지게 된다, 그런데, 원래 데이터가 변한다면, 이 데이터가 변함에 따라서 해당 hash 값도 항상 변하게 됨, 따라서, hashable하려면 우선 immutable해야 합니다.\n",
    "\n",
    "case of list : list는 mutable합니다. 따라서 hash로 처리할 수 없고, 따라서 set 함수를 이용해서 처리할 수 없는 것\n",
    "```"
   ]
  },
  {
   "cell_type": "markdown",
   "metadata": {},
   "source": [
    "```\n",
    "Q10\n",
    "딕셔너리 a에서 'B'에 해당되는 값을 추출해 보자.\n",
    "\n",
    ">>> a = {'A':90, 'B':80, 'C':70}\n",
    "※ 딕셔너리의 pop 함수를 사용해 보자.\n",
    "```"
   ]
  },
  {
   "cell_type": "code",
   "execution_count": 527,
   "metadata": {},
   "outputs": [
    {
     "data": {
      "text/plain": [
       "80"
      ]
     },
     "execution_count": 527,
     "metadata": {},
     "output_type": "execute_result"
    }
   ],
   "source": [
    "a = {'A':90, 'B':80, 'C':70}\n",
    "a.pop('B')"
   ]
  },
  {
   "cell_type": "markdown",
   "metadata": {},
   "source": [
    "```\n",
    "Q11\n",
    "a 리스트에서 중복 숫자를 제거해 보자.\n",
    "\n",
    ">>> a = [1, 1, 1, 2, 2, 3, 3, 3, 4, 4, 5]\n",
    "※ 집합 자료형의 요솟값이 중복될 수 없다는 특징을 사용해 보자.\n",
    "```"
   ]
  },
  {
   "cell_type": "code",
   "execution_count": 530,
   "metadata": {},
   "outputs": [
    {
     "data": {
      "text/plain": [
       "{1, 2, 3, 4, 5}"
      ]
     },
     "execution_count": 530,
     "metadata": {},
     "output_type": "execute_result"
    }
   ],
   "source": [
    "a = [1, 1, 1, 2, 2, 3, 3, 3, 4, 4, 5]\n",
    "a = set(a)\n",
    "a"
   ]
  },
  {
   "cell_type": "markdown",
   "metadata": {},
   "source": [
    "```\n",
    "Q12\n",
    "파이썬은 다음처럼 동일한 값에 여러 개의 변수를 선언할 수 있다. 다음과 같이 a, b 변수를 선언한 후 a의 두 번째 요솟값을 변경하면 b 값은 어떻게 될까? 그리고 이런 결과가 오는 이유에 대해 설명해 보자.\n",
    "\n",
    ">>> a = b = [1, 2, 3]\n",
    ">>> a[1] = 4\n",
    ">>> print(b)\n",
    "```"
   ]
  },
  {
   "cell_type": "markdown",
   "metadata": {},
   "source": [
    "- b도 같이 변하게 된다, a가 참조하는 주소와 b가 참조하는 주소가 같기 때문이다."
   ]
  },
  {
   "cell_type": "markdown",
   "metadata": {},
   "source": [
    "## 3장. 제어문\n",
    "### if문\n",
    "#### 기본구조\n",
    "```\n",
    "if 조건문:\n",
    "    수행할 문장1\n",
    "    수행할 문장2\n",
    "else:\n",
    "    수행할 문장A\n",
    "    수행할 문장B\n",
    "```\n",
    "#### 주의사항\n",
    "- 파이썬에서 단계 별로 들여쓰기는 spacebar 4칸을 지켜야한다.\n",
    "- Tab도 spacebar 4칸과 동일한 효과가 나오나 최근 커뮤니티에서는 spacebar 4개를 사용하는 것을 권장한다.\n",
    "- 조건문 다음에는 항상 콜론(:)을 잊지말자\n",
    "\n",
    "#### 비교연산자\n",
    "```\n",
    "x < y\tx가 y보다 작다\n",
    "x > y\tx가 y보다 크다\n",
    "x == y\tx와 y가 같다\n",
    "x != y\tx와 y가 같지 않다\n",
    "x >= y\tx가 y보다 크거나 같다\n",
    "x <= y\tx가 y보다 작거나 같다\n",
    "```\n",
    "  - 결과가 맞으면 True, 틀리면 False를 보여준다."
   ]
  },
  {
   "cell_type": "code",
   "execution_count": 534,
   "metadata": {},
   "outputs": [
    {
     "name": "stdout",
     "output_type": "stream",
     "text": [
      "False\n",
      "False\n",
      "True\n"
     ]
    }
   ],
   "source": [
    "print(x<y)\n",
    "print(x==y)\n",
    "print(x!=y)"
   ]
  },
  {
   "cell_type": "markdown",
   "metadata": {},
   "source": [
    "- and, or, not\n",
    "```\n",
    "x or y\t: x와 y 둘중에 하나만 참이어도 참이다\n",
    "x and y : x와 y 모두 참이어야 참이다\n",
    "not x\t: x가 거짓이면 참이다\n",
    "```"
   ]
  },
  {
   "cell_type": "code",
   "execution_count": 540,
   "metadata": {},
   "outputs": [
    {
     "name": "stdout",
     "output_type": "stream",
     "text": [
      "walking...TT\n"
     ]
    }
   ],
   "source": [
    "money = 3000\n",
    "card = False\n",
    "if money >= 3200 or card :\n",
    "    print(\"call taxi\")\n",
    "else :\n",
    "    print(\"walking...TT\")"
   ]
  },
  {
   "cell_type": "markdown",
   "metadata": {},
   "source": [
    "- x in s, x not in s\n",
    "```\n",
    "파이썬에서만 제공하는 조건문\n",
    "in             not in\n",
    "x in 리스트\tx not in 리스트\n",
    "x in 튜플\t  x not in 튜플\n",
    "x in 문자열\tx not in 문자열\n",
    "```"
   ]
  },
  {
   "cell_type": "code",
   "execution_count": 541,
   "metadata": {},
   "outputs": [
    {
     "name": "stdout",
     "output_type": "stream",
     "text": [
      "True\n",
      "False\n"
     ]
    }
   ],
   "source": [
    "a = [1,2,3,4]\n",
    "print(1 in a)\n",
    "print(5 in a)"
   ]
  },
  {
   "cell_type": "markdown",
   "metadata": {},
   "source": [
    "- 조건문에서 아무일도 하지 않게 설정하고 싶다면?\n",
    "  - pass 를 사용\n",
    "  - continue 는 반복문안에서 사용"
   ]
  },
  {
   "cell_type": "code",
   "execution_count": 542,
   "metadata": {},
   "outputs": [
    {
     "name": "stdout",
     "output_type": "stream",
     "text": [
      "pass test\n"
     ]
    }
   ],
   "source": [
    "pocket = ['paper', 'money','cellphone']\n",
    "if 'money' in pocket :\n",
    "    pass\n",
    "    print('pass test')\n",
    "else:\n",
    "    print('카드를 꺼내라')"
   ]
  },
  {
   "cell_type": "markdown",
   "metadata": {},
   "source": [
    "- 다양한 조건을 판단하는 elif\n",
    "  - 이전 조건문이 거짓일 때 수행\n",
    "  - elif는 개수에 제한 없이 사용가능"
   ]
  },
  {
   "cell_type": "code",
   "execution_count": 544,
   "metadata": {},
   "outputs": [
    {
     "name": "stdout",
     "output_type": "stream",
     "text": [
      "택시를 카드로 타고가라\n"
     ]
    }
   ],
   "source": [
    "pocket = ['paper','handphone']\n",
    "card = True\n",
    "if 'money' in pocket :\n",
    "    print(\"택시를 현금으로 타고가라\")\n",
    "elif card :\n",
    "    print(\"택시를 카드로 타고가라\")\n",
    "else :\n",
    "    print(\"걸어가라\")"
   ]
  },
  {
   "cell_type": "markdown",
   "metadata": {},
   "source": [
    "- if문을 한줄로 작성\n",
    "  - if문 내부에서 수행할 동작을 콜론뒤에 바로 적어준다.\n",
    "  - 여러 라인이 들어올 경우 세미콜론(;)으로 구분"
   ]
  },
  {
   "cell_type": "code",
   "execution_count": 545,
   "metadata": {},
   "outputs": [
    {
     "name": "stdout",
     "output_type": "stream",
     "text": [
      "택시를 카드로 타고가라\n",
      "결제 완료!\n"
     ]
    }
   ],
   "source": [
    "pocket = ['paper','handphone']\n",
    "card = True\n",
    "if 'money' in pocket : print(\"택시를 현금으로 타고가라\") ; print('결제 완료!')\n",
    "elif card : print(\"택시를 카드로 타고가라\") ; print('결제 완료!')\n",
    "else : print(\"걸어가라\")"
   ]
  },
  {
   "cell_type": "markdown",
   "metadata": {},
   "source": [
    "- 조건부 표현식\n",
    "   - 조건부 표현식은 가독성에 유리하고 한 줄로 작성할 수 있어 활용성이 좋다.\n",
    "\n",
    "```\n",
    "작성방법\n",
    "<조건문이 참인 경우> if 조건문 else <조건문이 거짓인 경우>\n",
    "```"
   ]
  },
  {
   "cell_type": "code",
   "execution_count": 549,
   "metadata": {},
   "outputs": [
    {
     "data": {
      "text/plain": [
       "'success'"
      ]
     },
     "execution_count": 549,
     "metadata": {},
     "output_type": "execute_result"
    }
   ],
   "source": [
    "score = 70\n",
    "if score >= 60:\n",
    "    message = \"success\"\n",
    "else:\n",
    "    message = \"failure\"\n",
    "\n",
    "message"
   ]
  },
  {
   "cell_type": "code",
   "execution_count": 551,
   "metadata": {},
   "outputs": [
    {
     "data": {
      "text/plain": [
       "'failure'"
      ]
     },
     "execution_count": 551,
     "metadata": {},
     "output_type": "execute_result"
    }
   ],
   "source": [
    "score = 50\n",
    "message = \"success\" if score >=60 else \"failure\"\n",
    "message"
   ]
  },
  {
   "cell_type": "markdown",
   "metadata": {},
   "source": [
    "### while\n",
    "#### 기본구조\n",
    "```\n",
    "while <조건문>:\n",
    "    <수행할 문장1>\n",
    "    <수행할 문장2>\n",
    "    <수행할 문장3>\n",
    "```"
   ]
  },
  {
   "cell_type": "code",
   "execution_count": 4,
   "metadata": {},
   "outputs": [
    {
     "name": "stdout",
     "output_type": "stream",
     "text": [
      "\n",
      "1. Add\n",
      "2. Del\n",
      "3. List\n",
      "4. Quit\n",
      "Enter number:\n",
      "\n",
      "5\n",
      "\n",
      "1. Add\n",
      "2. Del\n",
      "3. List\n",
      "4. Quit\n",
      "Enter number:\n",
      "\n",
      "5\n",
      "\n",
      "1. Add\n",
      "2. Del\n",
      "3. List\n",
      "4. Quit\n",
      "Enter number:\n",
      "\n",
      "0\n",
      "\n",
      "1. Add\n",
      "2. Del\n",
      "3. List\n",
      "4. Quit\n",
      "Enter number:\n",
      "\n",
      "4\n"
     ]
    }
   ],
   "source": [
    "prompt = \"\"\"\n",
    "1. Add\n",
    "2. Del\n",
    "3. List\n",
    "4. Quit\n",
    "Enter number:\n",
    "\"\"\"\n",
    "\n",
    "number = 0\n",
    "while number != 4:\n",
    "    print(prompt)\n",
    "    number = int(input())"
   ]
  },
  {
   "cell_type": "markdown",
   "metadata": {},
   "source": [
    "- while문을 빠져나가는 방법 :break"
   ]
  },
  {
   "cell_type": "code",
   "execution_count": 5,
   "metadata": {},
   "outputs": [
    {
     "name": "stdout",
     "output_type": "stream",
     "text": [
      "돈을 넣어 주세요: 200\n",
      "돈을 다시 돌려주고 커피를 주지 않습니다.\n",
      "남은 커피의 양은 5개 입니다.\n",
      "돈을 넣어 주세요: 300\n",
      "커피를 줍니다.\n",
      "돈을 넣어 주세요: 400\n",
      "거스름돈 100를 주고 커피를 줍니다.\n",
      "돈을 넣어 주세요: 500\n",
      "거스름돈 200를 주고 커피를 줍니다.\n",
      "돈을 넣어 주세요: 500\n",
      "거스름돈 200를 주고 커피를 줍니다.\n",
      "돈을 넣어 주세요: 500\n",
      "거스름돈 200를 주고 커피를 줍니다.\n",
      "커피가 다 떨어졌습니다. 판매를 중지 합니다.\n"
     ]
    }
   ],
   "source": [
    "coffee = 5\n",
    "while True:\n",
    "    money = int(input(\"돈을 넣어 주세요: \"))\n",
    "    if money == 300:\n",
    "        print(\"커피를 줍니다.\")\n",
    "        coffee = coffee -1\n",
    "    elif money > 300:\n",
    "        print(\"거스름돈 %d를 주고 커피를 줍니다.\" % (money -300))\n",
    "        coffee = coffee -1\n",
    "    else:\n",
    "        print(\"돈을 다시 돌려주고 커피를 주지 않습니다.\")\n",
    "        print(\"남은 커피의 양은 %d개 입니다.\" % coffee)\n",
    "    if coffee == 0:\n",
    "        print(\"커피가 다 떨어졌습니다. 판매를 중지 합니다.\")\n",
    "        break"
   ]
  },
  {
   "cell_type": "markdown",
   "metadata": {},
   "source": [
    "- while문의 맨처음으로 돌아가기 : continue"
   ]
  },
  {
   "cell_type": "code",
   "execution_count": 8,
   "metadata": {},
   "outputs": [
    {
     "name": "stdout",
     "output_type": "stream",
     "text": [
      "1\n",
      "3\n",
      "5\n",
      "7\n",
      "9\n"
     ]
    }
   ],
   "source": [
    "a=0\n",
    "while a < 10 :\n",
    "    a+=1\n",
    "    if a%2 == 0 : continue\n",
    "    print(a)"
   ]
  },
  {
   "cell_type": "markdown",
   "metadata": {},
   "source": [
    "### for 문\n",
    "#### 기본구조\n",
    "```\n",
    "for 변수 in 리스트(또는 튜플, 문자열):\n",
    "    수행할 문장1\n",
    "    수행할 문장2\n",
    "    ...\n",
    "```"
   ]
  },
  {
   "cell_type": "code",
   "execution_count": 12,
   "metadata": {},
   "outputs": [
    {
     "name": "stdout",
     "output_type": "stream",
     "text": [
      "one\n",
      "two\n",
      "three\n",
      "one 1\n",
      "two 2\n",
      "three 3\n",
      "1번 학생은 합격입니다.\n",
      "2번 학생은 불합격입니다.\n",
      "3번 학생은 합격입니다.\n",
      "4번 학생은 불합격입니다.\n",
      "5번 학생은 합격입니다.\n"
     ]
    }
   ],
   "source": [
    "#기본형\n",
    "test_list = ['one','two','three']\n",
    "for i in test_list :\n",
    "    print(i)\n",
    "\n",
    "# 두개의 변수를 받아오기\n",
    "a = [('one',1),('two',2),('three',3)]\n",
    "for s,n in a:\n",
    "    print(s,n)\n",
    "    \n",
    "#응용 60점이 넘어야지 합격\n",
    "marks = [90,25,67,45,80]\n",
    "         \n",
    "number = 0\n",
    "for mark in marks:\n",
    "    number+=1\n",
    "    if mark >= 60 :\n",
    "         print(\"%d번 학생은 합격입니다.\"%number)\n",
    "    else:\n",
    "         print(\"%d번 학생은 불합격입니다.\"%number)"
   ]
  },
  {
   "cell_type": "markdown",
   "metadata": {},
   "source": [
    "- for문의 처음으로 돌아가기 : continue"
   ]
  },
  {
   "cell_type": "code",
   "execution_count": 13,
   "metadata": {},
   "outputs": [
    {
     "name": "stdout",
     "output_type": "stream",
     "text": [
      "1번 학생 축하합니다, 합격입니다.\n",
      "3번 학생 축하합니다, 합격입니다.\n",
      "5번 학생 축하합니다, 합격입니다.\n"
     ]
    }
   ],
   "source": [
    "# 60점 이상에게만 축하메시지 보내기\n",
    "marks = [90,25,67,45,80]\n",
    "         \n",
    "number = 0\n",
    "for mark in marks:\n",
    "    number+=1\n",
    "    if mark < 60 :\n",
    "         continue\n",
    "    else:\n",
    "         print(\"%d번 학생 축하합니다, 합격입니다.\"%number)"
   ]
  },
  {
   "cell_type": "markdown",
   "metadata": {},
   "source": [
    "- range함수\n",
    "```\n",
    "1. range(x)     :1~x-1까지\n",
    "2. rnage(x,y)   :x~y-1까지\n",
    "```"
   ]
  },
  {
   "cell_type": "code",
   "execution_count": 20,
   "metadata": {},
   "outputs": [
    {
     "name": "stdout",
     "output_type": "stream",
     "text": [
      "55\n",
      "1번 학생 축하합니다, 합격입니다.\n",
      "3번 학생 축하합니다, 합격입니다.\n",
      "5번 학생 축하합니다, 합격입니다.\n"
     ]
    }
   ],
   "source": [
    "#기본\n",
    "add = 0\n",
    "for i in range(1,11):\n",
    "    add+=i\n",
    "print(add)\n",
    "\n",
    "#range응용\n",
    "marks = [90,25,67,45,80]\n",
    "         \n",
    "number = 0\n",
    "for number in range(len(marks)):\n",
    "    if marks[number] < 60 :\n",
    "         continue\n",
    "    else:\n",
    "         print(\"%d번 학생 축하합니다, 합격입니다.\"%(number+1))"
   ]
  },
  {
   "cell_type": "code",
   "execution_count": 22,
   "metadata": {},
   "outputs": [
    {
     "name": "stdout",
     "output_type": "stream",
     "text": [
      "2 4 6 8 10 12 14 16 18 \n",
      "3 6 9 12 15 18 21 24 27 \n",
      "4 8 12 16 20 24 28 32 36 \n",
      "5 10 15 20 25 30 35 40 45 \n",
      "6 12 18 24 30 36 42 48 54 \n",
      "7 14 21 28 35 42 49 56 63 \n",
      "8 16 24 32 40 48 56 64 72 \n",
      "9 18 27 36 45 54 63 72 81 \n"
     ]
    }
   ],
   "source": [
    "#for와 range를 이용한 구구단\n",
    "for i in range(2,10):\n",
    "    for j in range(1,10):\n",
    "        print(i*j,end=' ') #end를 넣어준 이유, print를 하고 개행을 하는데 그것을 ' ' 공백 1칸으로 변경\n",
    "    print()"
   ]
  },
  {
   "cell_type": "markdown",
   "metadata": {},
   "source": [
    "- list comprehension : 리스트를 한줄로 표현하기\n",
    "```\n",
    "[항목1*항목2 for 항목1 in 반복개체1 if 조건문1\n",
    "             for 항목2 in 반복개체2 if 조건문2]\n",
    "```"
   ]
  },
  {
   "cell_type": "code",
   "execution_count": 37,
   "metadata": {},
   "outputs": [
    {
     "name": "stdout",
     "output_type": "stream",
     "text": [
      "[3, 6, 9, 12]\n",
      "[6, 12]\n",
      "[12]\n",
      "[6, 9, 12]\n",
      "[0, 2, 4, 6, 8, 10, 12, 14, 16, 18, 0, 3, 6, 9, 12, 15, 18, 21, 24, 27, 0, 4, 8, 12, 16, 20, 24, 28, 32, 36, 0, 5, 10, 15, 20, 25, 30, 35, 40, 45, 0, 6, 12, 18, 24, 30, 36, 42, 48, 54, 0, 7, 14, 21, 28, 35, 42, 49, 56, 63, 0, 8, 16, 24, 32, 40, 48, 56, 64, 72, 0, 9, 18, 27, 36, 45, 54, 63, 72, 81]\n"
     ]
    }
   ],
   "source": [
    "#기본\n",
    "a = [1,2,3,4]\n",
    "result = [num*3 for num in a]\n",
    "print(result)\n",
    "\n",
    "#기본 2 - 짝수만 3곱하여 담기\n",
    "result = [num*3 for num in a if num%2==0]\n",
    "print(result)\n",
    "\n",
    "#and 연산\n",
    "result = [num*3 for num in a if num%2==0 if num%4==0]\n",
    "print(result)\n",
    "\n",
    "#or 연산\n",
    "result = result = [num*3 for num in a if num%2==0 or num%3==0]\n",
    "print(result)\n",
    "\n",
    "#응용 구구단\n",
    "result = []\n",
    "result = [x*y for x in range(2,10)\n",
    "                for y in range(10)]\n",
    "print(result)"
   ]
  },
  {
   "cell_type": "code",
   "execution_count": 49,
   "metadata": {},
   "outputs": [
    {
     "name": "stdout",
     "output_type": "stream",
     "text": [
      "[1, 2, 3, 4, 5, 6, 7, 8, 9]\n"
     ]
    }
   ],
   "source": [
    "#응용 - 다차원 리스트를 1차원 리스트로 만들기\n",
    "arr = [[1,2,3],\n",
    "      [4,5,6],\n",
    "      [7,8,9]]\n",
    "result = [n for row in arr for n in row]\n",
    "print(result)"
   ]
  },
  {
   "cell_type": "code",
   "execution_count": 47,
   "metadata": {},
   "outputs": [
    {
     "name": "stdout",
     "output_type": "stream",
     "text": [
      "[1, 2, 3, 4, 5, 6, 7, 8, 9]\n",
      "[[1, 4, 9], [16, 25, 36], [49, 64, 81]]\n"
     ]
    }
   ],
   "source": [
    "#응용 이중 for문\n",
    "flat_one2 = []\n",
    "for row in arr:\n",
    "    for n in row:\n",
    "        flat_one2.append(n)\n",
    "\n",
    "print(flat_one2)\n",
    "\n",
    "result = [[n**2 for n in row] for row in arr]\n",
    "print(result)"
   ]
  },
  {
   "cell_type": "markdown",
   "metadata": {},
   "source": [
    "### 연습문제"
   ]
  },
  {
   "cell_type": "markdown",
   "metadata": {},
   "source": [
    "```\n",
    "Q1\n",
    "다음 코드의 결괏값은 무엇일까? shirt\n",
    "\n",
    "a = \"Life is too short, you need python\"\n",
    "\n",
    "if \"wife\" in a: print(\"wife\")\n",
    "elif \"python\" in a and \"you\" not in a: print(\"python\")\n",
    "elif \"shirt\" not in a: print(\"shirt\")\n",
    "elif \"need\" in a: print(\"need\")\n",
    "else: print(\"none\")\n",
    "```"
   ]
  },
  {
   "cell_type": "markdown",
   "metadata": {},
   "source": [
    "```\n",
    "Q2\n",
    "while문을 사용해 1부터 1000까지의 자연수 중 3의 배수의 합을 구해 보자.\n",
    "```"
   ]
  },
  {
   "cell_type": "code",
   "execution_count": 1,
   "metadata": {},
   "outputs": [
    {
     "name": "stdout",
     "output_type": "stream",
     "text": [
      "166833\n"
     ]
    }
   ],
   "source": [
    "result=0\n",
    "n=1\n",
    "while n < 1001:\n",
    "    if n%3==0:\n",
    "        result+=n #왜 9에서 멈춰있는가..?\n",
    "    n+=1\n",
    "\n",
    "print(result)"
   ]
  },
  {
   "cell_type": "code",
   "execution_count": 61,
   "metadata": {},
   "outputs": [
    {
     "name": "stdout",
     "output_type": "stream",
     "text": [
      "166833\n"
     ]
    }
   ],
   "source": [
    "result = 0\n",
    "n = 0\n",
    "while n<=1000 :\n",
    "    n+=1\n",
    "    if n%3 == 0 :\n",
    "        result+=n\n",
    "\n",
    "print(result)"
   ]
  },
  {
   "cell_type": "markdown",
   "metadata": {},
   "source": [
    "```\n",
    "Q3\n",
    "while문을 사용하여 다음과 같이 별(*)을 표시하는 프로그램을 작성해 보자.\n",
    "\n",
    "*\n",
    "**\n",
    "***\n",
    "****\n",
    "*****\n",
    "```"
   ]
  },
  {
   "cell_type": "code",
   "execution_count": 66,
   "metadata": {},
   "outputs": [
    {
     "name": "stdout",
     "output_type": "stream",
     "text": [
      "\n",
      "*\n",
      "**\n",
      "***\n",
      "****\n",
      "*****\n"
     ]
    }
   ],
   "source": [
    "n=0\n",
    "while n < 6 :\n",
    "    for i in range(n) :\n",
    "        print('*',end='')\n",
    "    print()\n",
    "    n+=1"
   ]
  },
  {
   "cell_type": "markdown",
   "metadata": {},
   "source": [
    "```\n",
    "Q4\n",
    "for문을 사용해 1부터 100까지의 숫자를 출력해 보자.\n",
    "```"
   ]
  },
  {
   "cell_type": "code",
   "execution_count": 67,
   "metadata": {},
   "outputs": [
    {
     "name": "stdout",
     "output_type": "stream",
     "text": [
      "5050\n"
     ]
    }
   ],
   "source": [
    "result=0\n",
    "for n in range(101):\n",
    "    result+=n\n",
    "    \n",
    "print(result)"
   ]
  },
  {
   "cell_type": "markdown",
   "metadata": {},
   "source": [
    "```\n",
    "Q5\n",
    "A 학급에 총 10명의 학생이 있다. 이 학생들의 중간고사 점수는 다음과 같다.\n",
    "\n",
    "[70, 60, 55, 75, 95, 90, 80, 80, 85, 100]\n",
    "\n",
    "for문을 사용하여 A 학급의 평균 점수를 구해 보자.\n",
    "```"
   ]
  },
  {
   "cell_type": "code",
   "execution_count": 73,
   "metadata": {},
   "outputs": [
    {
     "name": "stdout",
     "output_type": "stream",
     "text": [
      "79.0\n"
     ]
    }
   ],
   "source": [
    "a = [70, 60, 55, 75, 95, 90, 80, 80, 85, 100]\n",
    "result=0\n",
    "for n in a:\n",
    "    result+=n\n",
    "result = result / len(a)\n",
    "print(result)"
   ]
  },
  {
   "cell_type": "markdown",
   "metadata": {},
   "source": [
    "```\n",
    "Q6\n",
    "리스트 중에서 홀수에만 2를 곱하여 저장하는 다음 코드가 있다.\n",
    "\n",
    "numbers = [1, 2, 3, 4, 5]\n",
    "result = []\n",
    "for n in numbers:\n",
    "    if n % 2 == 1:\n",
    "        result.append(n*2)\n",
    "위 코드를 리스트 내포(list comprehension)를 사용하여 표현해 보자.\n",
    "```"
   ]
  },
  {
   "cell_type": "code",
   "execution_count": 76,
   "metadata": {},
   "outputs": [
    {
     "name": "stdout",
     "output_type": "stream",
     "text": [
      "[4, 8]\n"
     ]
    }
   ],
   "source": [
    "numbers = [1, 2, 3, 4, 5]\n",
    "result = [n*2 for n in numbers if n%2==0]\n",
    "print(result)"
   ]
  },
  {
   "cell_type": "markdown",
   "metadata": {},
   "source": [
    "## 4장. 프로그램의 입출력\n",
    "\n",
    "### 함수\n",
    "\n",
    "#### 기본구조\n",
    "```\n",
    "def 함수명(매개변수):\n",
    "    <수행할 문장1>\n",
    "    <수행할 문장2>\n",
    "    ...\n",
    "```"
   ]
  },
  {
   "cell_type": "markdown",
   "metadata": {},
   "source": [
    "- 입력값과 결과값에 따른 함수의 형태\n",
    "  - 함수의 형태는 입력값과 결과값의 존재 유무에 따라 4가지 유형으로 나뉨\n",
    "    - 일반적인 함수 : 입력값이 있고 결과값이 있음\n",
    "    - 입력값이 없는 함수\n",
    "    - 결과값이 없는 함수\n",
    "    - 입력 값도 결과 값도 없는 함수"
   ]
  },
  {
   "cell_type": "code",
   "execution_count": 87,
   "metadata": {},
   "outputs": [
    {
     "name": "stdout",
     "output_type": "stream",
     "text": [
      "7\n",
      "Hi\n",
      "3, 4의 합은 7입니다.\n",
      "None\n",
      "Hi\n"
     ]
    }
   ],
   "source": [
    "#일반적인 함수\n",
    "def add(a,b):\n",
    "    return a+b\n",
    "\n",
    "a = 3\n",
    "b = 4\n",
    "print(add(a,b)) #3,4는 인수\n",
    "\n",
    "#입력 값이 없는 함수\n",
    "def say():\n",
    "    return 'Hi'\n",
    "\n",
    "a = say()\n",
    "print(a)\n",
    "\n",
    "#결과 값이 없는 함수\n",
    "def add(a,b):\n",
    "    print(\"%d, %d의 합은 %d입니다.\"%(a,b,a+b))\n",
    "\n",
    "a = add(3,4)\n",
    "print(a)\n",
    "\n",
    "#입력값도 결과값도 없는 함수\n",
    "\n",
    "def say():\n",
    "    print('Hi')\n",
    "    \n",
    "say()"
   ]
  },
  {
   "cell_type": "markdown",
   "metadata": {},
   "source": [
    "- 매개변수 지정하여 호출하기\n",
    "  - 매개변수를 지정하여 호출하면 전달하는 인자를 순서에 상관없이 사용할 수 있다."
   ]
  },
  {
   "cell_type": "code",
   "execution_count": 90,
   "metadata": {},
   "outputs": [
    {
     "name": "stdout",
     "output_type": "stream",
     "text": [
      "3, 5의 합은 8입니다.\n",
      "3, 5의 합은 8입니다.\n"
     ]
    }
   ],
   "source": [
    "result = add(a=3,b=5)\n",
    "\n",
    "result = add(b=5,a=3)"
   ]
  },
  {
   "cell_type": "markdown",
   "metadata": {},
   "source": [
    "- 입력값의 개수를 모를때\n",
    "```\n",
    "def 함수이름(*매개변수): \n",
    "    <수행할 문장>\n",
    "    ...\n",
    "    ```"
   ]
  },
  {
   "cell_type": "code",
   "execution_count": 94,
   "metadata": {},
   "outputs": [
    {
     "name": "stdout",
     "output_type": "stream",
     "text": [
      "6\n",
      "45\n"
     ]
    }
   ],
   "source": [
    "def add_many(*args):\n",
    "    result = 0\n",
    "    for i in args:\n",
    "        result = result+i\n",
    "    return result\n",
    "\n",
    "result = add_many(1,2,3)\n",
    "print(result)\n",
    "\n",
    "print(add_many(1,2,3,4,5,6,7,8,9))"
   ]
  },
  {
   "cell_type": "code",
   "execution_count": 97,
   "metadata": {},
   "outputs": [],
   "source": [
    "def add_mul(choice, *args): \n",
    "    if choice == \"add\": \n",
    "        result = 0 \n",
    "        for i in args: \n",
    "            result = result + i \n",
    "    elif choice == \"mul\": \n",
    "        result = 1 \n",
    "        for i in args: \n",
    "            result = result * i \n",
    "    return result "
   ]
  },
  {
   "cell_type": "code",
   "execution_count": 100,
   "metadata": {},
   "outputs": [
    {
     "name": "stdout",
     "output_type": "stream",
     "text": [
      "15\n",
      "120\n"
     ]
    }
   ],
   "source": [
    "result = add_mul('add', 1,2,3,4,5)\n",
    "print(result)\n",
    "\n",
    "result = add_mul('mul', 1,2,3,4,5)\n",
    "print(result)"
   ]
  },
  {
   "cell_type": "markdown",
   "metadata": {},
   "source": [
    "- 키워드 파라미터 kwargs\n",
    "  - 키워드 파라미터를 사용할 때는 매개변수 앞에 별 두 개(**)를 붙인다.\n",
    "  - 매개변수로 들어온 값들이 딕셔너리로 만들어진다."
   ]
  },
  {
   "cell_type": "code",
   "execution_count": 101,
   "metadata": {},
   "outputs": [],
   "source": [
    "def print_kwargs(**kwargs):\n",
    "    print(kwargs)\n",
    "    return kwargs"
   ]
  },
  {
   "cell_type": "code",
   "execution_count": 105,
   "metadata": {},
   "outputs": [
    {
     "name": "stdout",
     "output_type": "stream",
     "text": [
      "{'a': 1}\n",
      "{'name': 'jaeyoung'}\n",
      "None\n"
     ]
    }
   ],
   "source": [
    "print_kwargs(a=1)\n",
    "a = print_kwargs(name='jaeyoung')\n",
    "print(a)"
   ]
  },
  {
   "cell_type": "markdown",
   "metadata": {},
   "source": [
    "- 함수의 결과값은 언제나 하나이다\n",
    "  - return이 a,b 두개라면 결과를 하나의 변수에 담을 때 튜플의 형태로 돌려주고, 두개의 변수에 담을 때는 각각의 형태로 돌려준다.\n",
    "  - return을 두번 쓴다(return a return b)해서 return을 두번하지 않는다. 처음 return만 실행될 뿐이다\n",
    "- 함수의 중간에 return을 쓴다면 함수를 빠져나간다.\n",
    "```\n",
    "def say_nick(nick): \n",
    "     if nick == \"바보\": \n",
    "         return \n",
    "     print(\"나의 별명은 %s 입니다.\" % nick)\n",
    "     \n",
    "위 함수는 nick이 바보 라고 나오는 순간 결과 없이 빠져나간다\n",
    "\n"
   ]
  },
  {
   "cell_type": "code",
   "execution_count": 107,
   "metadata": {},
   "outputs": [
    {
     "name": "stdout",
     "output_type": "stream",
     "text": [
      "(7, 12)\n",
      "<class 'tuple'>\n",
      "7 12\n",
      "<class 'int'> <class 'int'>\n"
     ]
    }
   ],
   "source": [
    "def add_and_mul(a,b):\n",
    "    return a+b, a*b\n",
    "\n",
    "result = (7,12)\n",
    "print(result)\n",
    "print(type(result))\n",
    "a, b = (7,12)\n",
    "print (a,b)\n",
    "print(type(a),type(b))"
   ]
  },
  {
   "cell_type": "code",
   "execution_count": 109,
   "metadata": {},
   "outputs": [
    {
     "name": "stdout",
     "output_type": "stream",
     "text": [
      "12\n"
     ]
    }
   ],
   "source": [
    "def add_and_mul(a,b):\n",
    "    return a+b\n",
    "    return a*b\n",
    "result = add_and_mul(5,7)\n",
    "print(result)"
   ]
  },
  {
   "cell_type": "markdown",
   "metadata": {},
   "source": [
    "- 매개변수에 초기값 미리 설정하기"
   ]
  },
  {
   "cell_type": "code",
   "execution_count": 114,
   "metadata": {},
   "outputs": [
    {
     "name": "stdout",
     "output_type": "stream",
     "text": [
      "나의 이름은 재영 입니다.\n",
      "나이는 28살입니다.\n",
      "남자입니다.\n",
      "나의 이름은 재영 입니다.\n",
      "나이는 28살입니다.\n",
      "남자입니다.\n",
      "나의 이름은 재영 입니다.\n",
      "나이는 28살입니다.\n",
      "여자입니다.\n"
     ]
    }
   ],
   "source": [
    "#say_myself 함수는 3개의 매개변수를 받아서 마지막 인수인 man이 True이면 \"남자입니다.\", False이면 \"여자입니다.\"를 출력한다.\n",
    "def say_myself(name, old, man=True): \n",
    "    print(\"나의 이름은 %s 입니다.\" % name) \n",
    "    print(\"나이는 %d살입니다.\" % old) \n",
    "    if man: \n",
    "        print(\"남자입니다.\")\n",
    "    else: \n",
    "        print(\"여자입니다.\")\n",
    "        \n",
    "\n",
    "say_myself('재영',28)\n",
    "say_myself('재영',28,True)\n",
    "say_myself('재영',28,False)"
   ]
  },
  {
   "cell_type": "code",
   "execution_count": 117,
   "metadata": {},
   "outputs": [
    {
     "name": "stdout",
     "output_type": "stream",
     "text": [
      "나의 이름은 재영 입니다.\n",
      "나이는 28살입니다.\n",
      "남자입니다.\n"
     ]
    },
    {
     "ename": "TypeError",
     "evalue": "say_myself() missing 1 required positional argument: 'man'",
     "output_type": "error",
     "traceback": [
      "\u001b[1;31m---------------------------------------------------------------------------\u001b[0m",
      "\u001b[1;31mTypeError\u001b[0m                                 Traceback (most recent call last)",
      "\u001b[1;32m<ipython-input-117-85c119235380>\u001b[0m in \u001b[0;36m<module>\u001b[1;34m\u001b[0m\n\u001b[0;32m      9\u001b[0m \u001b[1;33m\u001b[0m\u001b[0m\n\u001b[0;32m     10\u001b[0m \u001b[0msay_myself\u001b[0m\u001b[1;33m(\u001b[0m\u001b[1;34m'재영'\u001b[0m\u001b[1;33m,\u001b[0m\u001b[1;36m28\u001b[0m\u001b[1;33m,\u001b[0m\u001b[1;32mTrue\u001b[0m\u001b[1;33m)\u001b[0m\u001b[1;33m\u001b[0m\u001b[1;33m\u001b[0m\u001b[0m\n\u001b[1;32m---> 11\u001b[1;33m \u001b[0msay_myself\u001b[0m\u001b[1;33m(\u001b[0m\u001b[1;34m'재영'\u001b[0m\u001b[1;33m,\u001b[0m\u001b[1;36m28\u001b[0m\u001b[1;33m)\u001b[0m\u001b[1;33m\u001b[0m\u001b[1;33m\u001b[0m\u001b[0m\n\u001b[0m\u001b[0;32m     12\u001b[0m \u001b[1;31m# 인자의 수가 모자르게 함수를 호출하면 에러를 발생시킨다.\u001b[0m\u001b[1;33m\u001b[0m\u001b[1;33m\u001b[0m\u001b[1;33m\u001b[0m\u001b[0m\n",
      "\u001b[1;31mTypeError\u001b[0m: say_myself() missing 1 required positional argument: 'man'"
     ]
    }
   ],
   "source": [
    "#초기 값설정을 하지않는다면..\n",
    "def say_myself(name, old, man): \n",
    "    print(\"나의 이름은 %s 입니다.\" % name) \n",
    "    print(\"나이는 %d살입니다.\" % old) \n",
    "    if man: \n",
    "        print(\"남자입니다.\")\n",
    "    else: \n",
    "        print(\"여자입니다.\")\n",
    "        \n",
    "say_myself('재영',28,True)\n",
    "say_myself('재영',28)\n",
    "# 인자의 수가 모자르게 함수를 호출하면 에러를 발생시킨다."
   ]
  },
  {
   "cell_type": "markdown",
   "metadata": {},
   "source": [
    "- 함수 안에서 선언한 변수의 효력 범위\n",
    " - 함수 내에서 선언한 변수는 함수 내에서만 사용할 수 있다."
   ]
  },
  {
   "cell_type": "code",
   "execution_count": 121,
   "metadata": {},
   "outputs": [
    {
     "name": "stdout",
     "output_type": "stream",
     "text": [
      "1\n",
      "----\n",
      "1\n"
     ]
    }
   ],
   "source": [
    "a = 1\n",
    "def vartest(a):\n",
    "    a = a +1\n",
    "\n",
    "vartest(a)\n",
    "print(a)\n",
    "print('----')\n",
    "def vartest(a):\n",
    "    a = a + 1\n",
    "\n",
    "vartest(3)\n",
    "print(a)"
   ]
  },
  {
   "cell_type": "markdown",
   "metadata": {},
   "source": [
    "- 함수 안에서 함수 밖의 변수를 변경하는 방법\n",
    "  - return\n",
    "  - global"
   ]
  },
  {
   "cell_type": "code",
   "execution_count": 126,
   "metadata": {},
   "outputs": [
    {
     "name": "stdout",
     "output_type": "stream",
     "text": [
      "4\n",
      "112\n"
     ]
    }
   ],
   "source": [
    "#return 사용 : 이 경우는 결과값을 받을 변수가 필요하다\n",
    "a = 1\n",
    "def vartest(a):\n",
    "    a+=1\n",
    "    return a\n",
    "\n",
    "a = vartest(3)\n",
    "print(a)\n",
    "\n",
    "#global 명령어 사용 : 외부에 변수가 있다는 것을 함수에게 인지를 시키는 것, 변수의 값에 따라 영향을 받으므로 주의\n",
    "a = 111\n",
    "def vartest():\n",
    "    global a\n",
    "    a+=1\n",
    "\n",
    "vartest()\n",
    "print(a)"
   ]
  },
  {
   "cell_type": "markdown",
   "metadata": {},
   "source": [
    "- lambda\n",
    "  - lambda 함수는 예약어 def와 동일한 역할\n",
    "  - 함수를 한줄로 간결하게 만들 때 사용\n",
    "  - return 명령어가 없어도 결괏값을 돌려줌\n",
    "\n",
    "```\n",
    "함수명 = lambda 인자값1, 인자값2, ... : 함수결과\n",
    "```"
   ]
  },
  {
   "cell_type": "code",
   "execution_count": 132,
   "metadata": {},
   "outputs": [
    {
     "name": "stdout",
     "output_type": "stream",
     "text": [
      "7\n"
     ]
    }
   ],
   "source": [
    "add = lambda a, b : a+b\n",
    "result = add(3,4)\n",
    "print(result)"
   ]
  },
  {
   "cell_type": "markdown",
   "metadata": {},
   "source": [
    "### 사용자 입력과 출력\n",
    "\n",
    "#### input의 사용\n",
    "변수명 = input('질문 내용')"
   ]
  },
  {
   "cell_type": "code",
   "execution_count": 134,
   "metadata": {},
   "outputs": [
    {
     "name": "stdout",
     "output_type": "stream",
     "text": [
      "이름은?재영\n",
      "재영\n"
     ]
    }
   ],
   "source": [
    "a = input('이름은?')\n",
    "print(a)"
   ]
  },
  {
   "cell_type": "markdown",
   "metadata": {},
   "source": [
    "- print 자세히 알기\n",
    "  - 큰따옴표로 둘러싸인 문자열은 + 연산과 동일하다\n",
    "  - 문자열 띄어쓰기는 콤마로 한다\n",
    "  - 한줄에 결과 값 출력하기 end 옵션"
   ]
  },
  {
   "cell_type": "code",
   "execution_count": 139,
   "metadata": {},
   "outputs": [
    {
     "name": "stdout",
     "output_type": "stream",
     "text": [
      "lifeistoo short\n",
      "lifeistoo short\n",
      "life is too short\n",
      "0 1 2 3 4 5 6 7 8 9 "
     ]
    }
   ],
   "source": [
    "#큰따옴표, 더하기 역할\n",
    "print(\"life\"\"is\"\"too short\")\n",
    "print(\"life\"+\"is\"+\"too short\")\n",
    "\n",
    "#문자열 띄어쓰기\n",
    "print(\"life\",\"is\",\"too short\")\n",
    "\n",
    "#한줄에 결과 값 출력하기\n",
    "for i in range(10):\n",
    "    print(i,end=' ')"
   ]
  },
  {
   "cell_type": "markdown",
   "metadata": {},
   "source": [
    "### 파일 읽고 쓰기"
   ]
  },
  {
   "cell_type": "markdown",
   "metadata": {},
   "source": [
    "##### 파일은 open 후 항상 close 해주어야한다. 이게 귀찮다면 with 문과 함께 사용하자\n",
    "- 파일 생성\n",
    "    - 파일 객체 = open(파일 이름, 파일 열기 모드)\n",
    "```\n",
    "파일열기모드\t설명\n",
    "r\t읽기모드 - 파일을 읽기만 할 때 사용\n",
    "w\t쓰기모드 - 파일에 내용을 쓸 때 사용\n",
    "a\t추가모드 - 파일의 마지막에 새로운 내용을 추가 시킬 때 사용\n",
    "```"
   ]
  },
  {
   "cell_type": "code",
   "execution_count": 140,
   "metadata": {},
   "outputs": [],
   "source": [
    "f = open(\"새 파일.txt\", 'w')\n",
    "f.close()"
   ]
  },
  {
   "cell_type": "code",
   "execution_count": 156,
   "metadata": {},
   "outputs": [
    {
     "name": "stdout",
     "output_type": "stream",
     "text": [
      " C 드라이브의 볼륨에는 이름이 없습니다.\n",
      " 볼륨 일련 번호: 8C87-4B56\n",
      "\n",
      " C:\\Users\\JY\\Desktop\\파이썬알고리즘\\코멘토\\과제\\1주차 디렉터리\n",
      "\n",
      "21-02-21(일)  오후 08:37    <DIR>          .\n",
      "21-02-21(일)  오후 08:37    <DIR>          ..\n",
      "21-02-21(일)  오전 05:12    <DIR>          .ipynb_checkpoints\n",
      "21-02-21(일)  오후 08:36           533,696 1주차과제_이재영.ipynb\n",
      "21-02-20(토)  오후 05:02                57 multistring.py\n",
      "21-02-21(일)  오후 08:28                 0 새 파일.txt\n",
      "               3개 파일             533,753 바이트\n",
      "               3개 디렉터리  159,797,022,720 바이트 남음\n"
     ]
    }
   ],
   "source": [
    "%ls"
   ]
  },
  {
   "cell_type": "markdown",
   "metadata": {},
   "source": [
    "- 특정디렉터리 지정\n",
    "  - f = open(\"파일의 절대경로\", 파일열기모드)"
   ]
  },
  {
   "cell_type": "code",
   "execution_count": 148,
   "metadata": {},
   "outputs": [],
   "source": [
    "f = open(\"D:\\code\\python\\새파일2.txt\",'w')\n",
    "f.close()"
   ]
  },
  {
   "cell_type": "code",
   "execution_count": 149,
   "metadata": {},
   "outputs": [
    {
     "ename": "SyntaxError",
     "evalue": "(unicode error) 'unicodeescape' codec can't decode bytes in position 2-3: truncated \\UXXXXXXXX escape (<ipython-input-149-7a18bd48d787>, line 1)",
     "output_type": "error",
     "traceback": [
      "\u001b[1;36m  File \u001b[1;32m\"<ipython-input-149-7a18bd48d787>\"\u001b[1;36m, line \u001b[1;32m1\u001b[0m\n\u001b[1;33m    f = open(\"C:\\Users\\JY\\Desktop\\파이썬알고리즘\\코멘토\\과제\\1주차\\새파일2.txt\",'w')\u001b[0m\n\u001b[1;37m             ^\u001b[0m\n\u001b[1;31mSyntaxError\u001b[0m\u001b[1;31m:\u001b[0m (unicode error) 'unicodeescape' codec can't decode bytes in position 2-3: truncated \\UXXXXXXXX escape\n"
     ]
    }
   ],
   "source": [
    "f = open(\"C:\\Users\\JY\\Desktop\\파이썬알고리즘\\코멘토\\과제\\1주차\\새파일2.txt\",'w')\n",
    "f.close()"
   ]
  },
  {
   "cell_type": "code",
   "execution_count": 157,
   "metadata": {},
   "outputs": [],
   "source": [
    "#c드라이브는 /로...왜 ?..\n",
    "f = open(\"C:/Users/JY/Desktop/파이썬알고리즘/코멘토/과제/1주차/새파일2.txt\",'w')\n",
    "f.close()"
   ]
  },
  {
   "cell_type": "code",
   "execution_count": 158,
   "metadata": {},
   "outputs": [
    {
     "name": "stdout",
     "output_type": "stream",
     "text": [
      " C 드라이브의 볼륨에는 이름이 없습니다.\n",
      " 볼륨 일련 번호: 8C87-4B56\n",
      "\n",
      " C:\\Users\\JY\\Desktop\\파이썬알고리즘\\코멘토\\과제\\1주차 디렉터리\n",
      "\n",
      "21-02-21(일)  오후 08:38    <DIR>          .\n",
      "21-02-21(일)  오후 08:38    <DIR>          ..\n",
      "21-02-21(일)  오전 05:12    <DIR>          .ipynb_checkpoints\n",
      "21-02-21(일)  오후 08:36           533,696 1주차과제_이재영.ipynb\n",
      "21-02-20(토)  오후 05:02                57 multistring.py\n",
      "21-02-21(일)  오후 08:28                 0 새 파일.txt\n",
      "21-02-21(일)  오후 08:38                 0 새파일2.txt\n",
      "               4개 파일             533,753 바이트\n",
      "               3개 디렉터리  159,797,006,336 바이트 남음\n"
     ]
    }
   ],
   "source": [
    "%ls"
   ]
  },
  {
   "cell_type": "markdown",
   "metadata": {},
   "source": [
    "- 파일을 쓰기모드로 열어 출력값 적기"
   ]
  },
  {
   "cell_type": "code",
   "execution_count": 160,
   "metadata": {},
   "outputs": [],
   "source": [
    "f = open(\"새파일.txt\",'w')\n",
    "for i in range(1,11):\n",
    "    data = \"%d 번째 줄입니다.\\n\"%i\n",
    "    f.write(data)\n",
    "f.close()"
   ]
  },
  {
   "cell_type": "markdown",
   "metadata": {},
   "source": [
    "- 파일 읽기\n",
    "  - readline() 은 한줄씩 읽어온다.\n",
    "  - readlines() 는 모든 줄을 읽어 각각의 줄을 리스트로 읽어온다.\n",
    "  - read()함수"
   ]
  },
  {
   "cell_type": "code",
   "execution_count": 168,
   "metadata": {},
   "outputs": [
    {
     "name": "stdout",
     "output_type": "stream",
     "text": [
      "1 번째 줄입니다.\n",
      "\n",
      "----\n",
      "1 번째 줄입니다.\n",
      "\n",
      "2 번째 줄입니다.\n",
      "\n",
      "3 번째 줄입니다.\n",
      "\n",
      "4 번째 줄입니다.\n",
      "\n",
      "5 번째 줄입니다.\n",
      "\n",
      "6 번째 줄입니다.\n",
      "\n",
      "7 번째 줄입니다.\n",
      "\n",
      "8 번째 줄입니다.\n",
      "\n",
      "9 번째 줄입니다.\n",
      "\n",
      "10 번째 줄입니다.\n",
      "\n"
     ]
    }
   ],
   "source": [
    "#한줄 읽기\n",
    "f = open(\"새파일.txt\", 'r')\n",
    "line = f.readline()\n",
    "print(line)\n",
    "f.close()\n",
    "\n",
    "print('----')\n",
    "\n",
    "#여러줄 읽기\n",
    "f = open(\"새파일.txt\", 'r')\n",
    "while True:\n",
    "    line = f.readline()\n",
    "    if not line: break\n",
    "    print(line)\n",
    "f.close()"
   ]
  },
  {
   "cell_type": "code",
   "execution_count": 172,
   "metadata": {},
   "outputs": [
    {
     "name": "stdout",
     "output_type": "stream",
     "text": [
      "['1 번째 줄입니다.\\n', '2 번째 줄입니다.\\n', '3 번째 줄입니다.\\n', '4 번째 줄입니다.\\n', '5 번째 줄입니다.\\n', '6 번째 줄입니다.\\n', '7 번째 줄입니다.\\n', '8 번째 줄입니다.\\n', '9 번째 줄입니다.\\n', '10 번째 줄입니다.\\n']\n",
      "---\n",
      "1 번째 줄입니다.\n",
      "\n",
      "2 번째 줄입니다.\n",
      "\n",
      "3 번째 줄입니다.\n",
      "\n",
      "4 번째 줄입니다.\n",
      "\n",
      "5 번째 줄입니다.\n",
      "\n",
      "6 번째 줄입니다.\n",
      "\n",
      "7 번째 줄입니다.\n",
      "\n",
      "8 번째 줄입니다.\n",
      "\n",
      "9 번째 줄입니다.\n",
      "\n",
      "10 번째 줄입니다.\n",
      "\n"
     ]
    }
   ],
   "source": [
    "#readlines()\n",
    "f = open(\"새파일.txt\", 'r')\n",
    "line = f.readlines()\n",
    "print(line)\n",
    "f.close()\n",
    "\n",
    "print('---')\n",
    "\n",
    "f = open(\"새파일.txt\", 'r')\n",
    "lines = f.readlines()\n",
    "for line in lines:\n",
    "    print(line)\n",
    "f.close()\n"
   ]
  },
  {
   "cell_type": "code",
   "execution_count": 173,
   "metadata": {},
   "outputs": [
    {
     "name": "stdout",
     "output_type": "stream",
     "text": [
      "1 번째 줄입니다.\n",
      "2 번째 줄입니다.\n",
      "3 번째 줄입니다.\n",
      "4 번째 줄입니다.\n",
      "5 번째 줄입니다.\n",
      "6 번째 줄입니다.\n",
      "7 번째 줄입니다.\n",
      "8 번째 줄입니다.\n",
      "9 번째 줄입니다.\n",
      "10 번째 줄입니다.\n",
      "\n"
     ]
    }
   ],
   "source": [
    "#read()\n",
    "f = open(\"새파일.txt\", 'r')\n",
    "line = f.read()\n",
    "print(line)\n",
    "f.close()"
   ]
  },
  {
   "cell_type": "markdown",
   "metadata": {},
   "source": [
    "#### 파일에 내용 추가"
   ]
  },
  {
   "cell_type": "code",
   "execution_count": 176,
   "metadata": {},
   "outputs": [
    {
     "name": "stdout",
     "output_type": "stream",
     "text": [
      "1 번째 줄입니다.\n",
      "2 번째 줄입니다.\n",
      "3 번째 줄입니다.\n",
      "4 번째 줄입니다.\n",
      "5 번째 줄입니다.\n",
      "6 번째 줄입니다.\n",
      "7 번째 줄입니다.\n",
      "8 번째 줄입니다.\n",
      "9 번째 줄입니다.\n",
      "10 번째 줄입니다.\n",
      "\n",
      "11번째 줄입니다. \n",
      "12번째 줄입니다. \n",
      "13번째 줄입니다. \n",
      "14번째 줄입니다. \n",
      "15번째 줄입니다. \n",
      "16번째 줄입니다. \n",
      "17번째 줄입니다. \n",
      "18번째 줄입니다. \n",
      "19번째 줄입니다. \n",
      "\n"
     ]
    }
   ],
   "source": [
    "f = open(\"새파일.txt\", 'a')\n",
    "for i in range(11, 20):\n",
    "    data = \"%d번째 줄입니다. \\n\" %i\n",
    "    f.write(data)\n",
    "f.close()\n",
    "\n",
    "f = open(\"새파일.txt\", 'r')\n",
    "line = f.read()\n",
    "print(line)\n",
    "f.close()"
   ]
  },
  {
   "cell_type": "markdown",
   "metadata": {},
   "source": [
    "- with문으로 close 없이 사용하기"
   ]
  },
  {
   "cell_type": "code",
   "execution_count": 180,
   "metadata": {},
   "outputs": [
    {
     "name": "stdout",
     "output_type": "stream",
     "text": [
      "Life is too short, you need python\n"
     ]
    }
   ],
   "source": [
    "with open(\"새 파일.txt\", 'w') as fw:\n",
    "    fw.write(\"Life is too short, you need python\")\n",
    "    \n",
    "with open(\"새 파일.txt\", 'r') as fr:\n",
    "    print(fr.read())"
   ]
  },
  {
   "cell_type": "markdown",
   "metadata": {},
   "source": [
    "#### sys 모듈로 매개변수 주기\n",
    "```\n",
    "    명령 프롬프트 명령어 [인수1 인수2 ...]\n",
    "```"
   ]
  },
  {
   "cell_type": "code",
   "execution_count": 182,
   "metadata": {},
   "outputs": [
    {
     "name": "stdout",
     "output_type": "stream",
     "text": [
      "-f\n",
      "C:\\Users\\JY\\AppData\\Roaming\\jupyter\\runtime\\kernel-30d0658a-6704-4b1e-a548-22dd8e3bed91.json\n"
     ]
    }
   ],
   "source": [
    "import sys\n",
    "\n",
    "args = sys.argv[1:]\n",
    "for i in args:\n",
    "    print(i)\n",
    "    \n",
    "#위 코드는 cmd 창에서 py파일 실행할 때 받은 인수들을 출력하는 예제이다.\n",
    "#왜 1번 부터 시작할까? 아래를 참조"
   ]
  },
  {
   "attachments": {
    "image.png": {
     "image/png": "[encoded data removed]"
    }
   },
   "cell_type": "markdown",
   "metadata": {},
   "source": [
    "![image.png](attachment:image.png)"
   ]
  },
  {
   "cell_type": "code",
   "execution_count": 185,
   "metadata": {},
   "outputs": [
    {
     "name": "stdout",
     "output_type": "stream",
     "text": [
      "입력!abc d ef\n",
      "[['abc', 'd', 'ef']]\n"
     ]
    }
   ],
   "source": [
    "args = [input('입력!').split()]\n",
    "print(args)"
   ]
  },
  {
   "cell_type": "markdown",
   "metadata": {},
   "source": [
    "### 연습문제"
   ]
  },
  {
   "cell_type": "markdown",
   "metadata": {},
   "source": [
    "```\n",
    "Q1\n",
    "주어진 자연수가 홀수인지 짝수인지 판별해 주는 함수(is_odd)를 작성해 보자.\n",
    "```"
   ]
  },
  {
   "cell_type": "code",
   "execution_count": 189,
   "metadata": {},
   "outputs": [
    {
     "name": "stdout",
     "output_type": "stream",
     "text": [
      "홀수입니다.\n",
      "짝수입니다.\n"
     ]
    }
   ],
   "source": [
    "def is_odd(a):\n",
    "    if a%2==0:\n",
    "        return '짝수입니다.'\n",
    "    else:\n",
    "        return '홀수입니다.'\n",
    "    \n",
    "print(is_odd(3))\n",
    "print(is_odd(2))"
   ]
  },
  {
   "cell_type": "markdown",
   "metadata": {},
   "source": [
    "```\n",
    "Q2\n",
    "입력으로 들어오는 모든 수의 평균 값을 계산해 주는 함수를 작성해 보자. (단 입력으로 들어오는 수의 개수는 정해져 있지 않다.)\n",
    "\n",
    "※ 평균 값을 구할 때 len 함수를 사용해 보자.\n",
    "```"
   ]
  },
  {
   "cell_type": "code",
   "execution_count": 190,
   "metadata": {},
   "outputs": [
    {
     "name": "stdout",
     "output_type": "stream",
     "text": [
      "평균은 3.5\n"
     ]
    }
   ],
   "source": [
    "def avg(*args):\n",
    "    sum = 0\n",
    "    for n in args:\n",
    "        sum+=n\n",
    "    print('평균은',sum/len(args))\n",
    "    \n",
    "avg(1,2,3,4,5,6)"
   ]
  },
  {
   "cell_type": "markdown",
   "metadata": {},
   "source": [
    "```\n",
    "Q3\n",
    "다음은 두 개의 숫자를 입력받아 더하여 돌려주는 프로그램이다.\n",
    "\n",
    "input1 = input(\"첫번째 숫자를 입력하세요:\")\n",
    "input2 = input(\"두번째 숫자를 입력하세요:\")\n",
    "\n",
    "total = input1 + input2\n",
    "print(\"두 수의 합은 %s 입니다\" % total)\n",
    "이 프로그램을 수행해 보자.\n",
    "\n",
    "첫번째 숫자를 입력하세요:3\n",
    "두번째 숫자를 입력하세요:6\n",
    "두 수의 합은 36 입니다\n",
    "3과 6을 입력했을 때 9가 아닌 36이라는 결괏값을 돌려주었다. 이 프로그램의 오류를 수정해 보자.\n",
    "\n",
    "※ int 함수를 사용해 보자.\n",
    "```"
   ]
  },
  {
   "cell_type": "code",
   "execution_count": 192,
   "metadata": {},
   "outputs": [
    {
     "name": "stdout",
     "output_type": "stream",
     "text": [
      "첫번째 숫자를 입력하세요:45\n",
      "두번째 숫자를 입력하세요:54\n",
      "두 수의 합은 99 입니다\n"
     ]
    }
   ],
   "source": [
    "input1 = input(\"첫번째 숫자를 입력하세요:\")\n",
    "input2 = input(\"두번째 숫자를 입력하세요:\")\n",
    "\n",
    "total = int(input1) + int(input2)\n",
    "print(\"두 수의 합은 %s 입니다\" % total)"
   ]
  },
  {
   "cell_type": "markdown",
   "metadata": {},
   "source": [
    "```\n",
    "Q4\n",
    "다음 중 출력 결과가 다른 것 한 개를 골라 보자.\n",
    "\n",
    "print(\"you\" \"need\" \"python\")\n",
    "print(\"you\"+\"need\"+\"python\")\n",
    "print(\"you\", \"need\", \"python\")\n",
    "print(\"\".join([\"you\", \"need\", \"python\"]))\n",
    "```"
   ]
  },
  {
   "cell_type": "markdown",
   "metadata": {},
   "source": [
    "- 3번 프린트문내의 , 는 띄어쓰기 효과가있다."
   ]
  },
  {
   "cell_type": "markdown",
   "metadata": {},
   "source": [
    "```\n",
    "Q5\n",
    "다음은 \"test.txt\"라는 파일에 \"Life is too short\" 문자열을 저장한 후 다시 그 파일을 읽어서 출력하는 프로그램이다.\n",
    "\n",
    "f1 = open(\"test.txt\", 'w')\n",
    "f1.write(\"Life is too short\")\n",
    "\n",
    "f2 = open(\"test.txt\", 'r')\n",
    "print(f2.read())\n",
    "이 프로그램은 우리가 예상한 \"Life is too short\"라는 문장을 출력하지 않는다. 우리가 예상한 값을 출력할 수 있도록 프로그램을 수정해 보자.\n",
    "```"
   ]
  },
  {
   "cell_type": "code",
   "execution_count": 223,
   "metadata": {},
   "outputs": [
    {
     "name": "stdout",
     "output_type": "stream",
     "text": [
      "Life is too short\n",
      "---\n",
      "Life is too short?\n",
      "You need java\n"
     ]
    }
   ],
   "source": [
    "# wite후 파일을 닫지 않았기 때문에 저장이되어있지 않다.\n",
    "f1 = open(\"test.txt\", 'w')\n",
    "f1.write(\"Life is too short\")\n",
    "f1.close()\n",
    "f2 = open(\"test.txt\", 'r')\n",
    "print(f2.read())\n",
    "f2.close()\n",
    "print('---')\n",
    "# with문과 함께 사용\n",
    "with open(\"test.txt\", 'w') as fw:\n",
    "    fw.write(\"Life is too short?\\n\")\n",
    "    fw.write(\"You need java\")\n",
    "with open(\"test.txt\",'r') as fr:\n",
    "    print(fr.read())"
   ]
  },
  {
   "cell_type": "markdown",
   "metadata": {},
   "source": [
    "Q6\n",
    "\n",
    "사용자의 입력을 파일(test.txt)에 저장하는 프로그램을 작성해 보자. (단 프로그램을 다시 실행하더라도 기존에 작성한 내용을 유지하고 새로 입력한 내용을 추가해야 한다.)"
   ]
  },
  {
   "cell_type": "code",
   "execution_count": 207,
   "metadata": {},
   "outputs": [
    {
     "name": "stdout",
     "output_type": "stream",
     "text": [
      "파일에 작성할 값 :코멘토\n",
      "이재영 \n",
      "이재영 \n",
      "코멘토 \n",
      "\n"
     ]
    }
   ],
   "source": [
    "data=input('파일에 작성할 값 :')\n",
    "with open(\"new file.txt\",'a') as f:\n",
    "    f.write('%s \\n'%data)\n",
    "with open(\"new file.txt\",'r') as fr:\n",
    "    print(fr.read())"
   ]
  },
  {
   "cell_type": "markdown",
   "metadata": {},
   "source": [
    "```\n",
    "Q7\n",
    "다음과 같은 내용을 지닌 파일 test.txt가 있다. 이 파일의 내용 중 \"java\"라는 문자열을 \"python\"으로 바꾸어서 저장해 보자.\n",
    "\n",
    "Life is too short\n",
    "you need java\n",
    "※ replace 함수를 사용해 보자.\n",
    "```"
   ]
  },
  {
   "cell_type": "code",
   "execution_count": 224,
   "metadata": {},
   "outputs": [
    {
     "name": "stdout",
     "output_type": "stream",
     "text": [
      "['Life is too short?\\n', 'You need java']\n",
      "Life is too short?\n",
      "You need python\n"
     ]
    }
   ],
   "source": [
    "with open(\"test.txt\",'r') as fr:\n",
    "    data = fr.readlines()\n",
    "print(data)\n",
    "\n",
    "with open(\"test.txt\",'w') as f:\n",
    "    for text in data:\n",
    "        f.write(text.replace('java','python'))\n",
    "        \n",
    "with open(\"test.txt\",'r') as fr:\n",
    "    print(fr.read())"
   ]
  },
  {
   "cell_type": "code",
   "execution_count": null,
   "metadata": {},
   "outputs": [],
   "source": []
  },
  {
   "cell_type": "markdown",
   "metadata": {},
   "source": [
    "# 2) 기초적인 알고리즘 문제 풀이"
   ]
  },
  {
   "cell_type": "markdown",
   "metadata": {},
   "source": [
    "```\n",
    "Q1 문자열 바꾸기\n",
    "다음과 같은 문자열이 있다.\n",
    "a:b:c:d\n",
    "문자열의 split와 join 함수를 사용하여 위 문자열을 다음과 같이 고치시오.\n",
    "a#b#c#d\n",
    "```"
   ]
  },
  {
   "cell_type": "code",
   "execution_count": 230,
   "metadata": {},
   "outputs": [
    {
     "name": "stdout",
     "output_type": "stream",
     "text": [
      "a#b#c#d\n"
     ]
    }
   ],
   "source": [
    "a ='a:b:c:d'\n",
    "a = a.split(':')\n",
    "a = '#'.join(a)\n",
    "print(a)"
   ]
  },
  {
   "cell_type": "markdown",
   "metadata": {},
   "source": [
    "```\n",
    "Q2 리스트 총합 구하기\n",
    "다음은 A학급 학생의 점수를 나타내는 리스트이다. 다음 리스트에서 50점 이상 점수의 총합\n",
    "을 구하시오.\n",
    "A = [20, 55, 67, 82, 45, 33, 90, 87, 100, 25]\n",
    "```"
   ]
  },
  {
   "cell_type": "code",
   "execution_count": 233,
   "metadata": {},
   "outputs": [
    {
     "name": "stdout",
     "output_type": "stream",
     "text": [
      "481\n"
     ]
    }
   ],
   "source": [
    "A = [20, 55, 67, 82, 45, 33, 90, 87, 100, 25]\n",
    "sum_score=0\n",
    "for s in A :\n",
    "    if s >= 50:\n",
    "        sum_score +=s\n",
    "print(sum_score)"
   ]
  },
  {
   "cell_type": "markdown",
   "metadata": {},
   "source": [
    "```\n",
    "Q3 피보나치 함수\n",
    "첫 번째 항의 값이 0이고 두 번째 항의 값이 1일 때, 이후에 이어지는 항은 이전의 두 항을 더\n",
    "한 값으로 이루어지는 수열을 피보나치 수열이라고 한다.\n",
    "0, 1, 1, 2, 3, 5, 8, 13, ...\n",
    "입력을 정수 n으로 받았을 때, n 이하까지의 피보나치 수열을 출력하는 함수를 작성해 보자.\n",
    "```"
   ]
  },
  {
   "cell_type": "code",
   "execution_count": 285,
   "metadata": {},
   "outputs": [],
   "source": [
    "def fibo(n):\n",
    "    if n < 1 :\n",
    "        return n\n",
    "    elif n == 1:\n",
    "        result = [0,1]\n",
    "    else:\n",
    "        result = [0,1]\n",
    "        for i in range(2,n+1):\n",
    "            result.append(result[i-1]+result[i-2]) \n",
    "    \n",
    "    print(result)"
   ]
  },
  {
   "cell_type": "code",
   "execution_count": 289,
   "metadata": {
    "scrolled": true
   },
   "outputs": [
    {
     "name": "stdout",
     "output_type": "stream",
     "text": [
      "[0, 1, 1, 2, 3, 5, 8, 13, 21, 34, 55, 89, 144, 233, 377, 610, 987, 1597, 2584, 4181, 6765, 10946, 17711, 28657, 46368, 75025, 121393, 196418, 317811, 514229, 832040, 1346269, 2178309, 3524578, 5702887, 9227465, 14930352, 24157817, 39088169, 63245986, 102334155, 165580141, 267914296, 433494437, 701408733, 1134903170, 1836311903, 2971215073, 4807526976, 7778742049, 12586269025, 20365011074, 32951280099, 53316291173, 86267571272, 139583862445, 225851433717, 365435296162, 591286729879, 956722026041, 1548008755920, 2504730781961, 4052739537881, 6557470319842, 10610209857723, 17167680177565, 27777890035288, 44945570212853, 72723460248141, 117669030460994, 190392490709135, 308061521170129, 498454011879264, 806515533049393, 1304969544928657, 2111485077978050, 3416454622906707, 5527939700884757, 8944394323791464, 14472334024676221, 23416728348467685, 37889062373143906, 61305790721611591, 99194853094755497, 160500643816367088, 259695496911122585, 420196140727489673, 679891637638612258, 1100087778366101931, 1779979416004714189, 2880067194370816120, 4660046610375530309, 7540113804746346429, 12200160415121876738, 19740274219868223167, 31940434634990099905, 51680708854858323072, 83621143489848422977, 135301852344706746049, 218922995834555169026, 354224848179261915075]\n"
     ]
    }
   ],
   "source": [
    "fibo(100)"
   ]
  },
  {
   "cell_type": "markdown",
   "metadata": {},
   "source": [
    "git repo : https://github.com/horiJY/comento/tree/master"
   ]
  },
  {
   "cell_type": "code",
   "execution_count": null,
   "metadata": {},
   "outputs": [],
   "source": []
  }
 ],
 "metadata": {
  "kernelspec": {
   "display_name": "Python 3",
   "language": "python",
   "name": "python3"
  },
  "language_info": {
   "codemirror_mode": {
    "name": "ipython",
    "version": 3
   },
   "file_extension": ".py",
   "mimetype": "text/x-python",
   "name": "python",
   "nbconvert_exporter": "python",
   "pygments_lexer": "ipython3",
   "version": "3.8.5"
  }
 },
 "nbformat": 4,
 "nbformat_minor": 4
}
