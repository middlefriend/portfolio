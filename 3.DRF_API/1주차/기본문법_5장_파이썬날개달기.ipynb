{
 "cells": [
  {
   "cell_type": "markdown",
   "metadata": {},
   "source": [
    "# 코멘토 1주차 파이썬 기본문법 이재영 \n",
    "## 5장 파이썬 날개달기\n",
    "\n",
    "### 클래스\n",
    "\n",
    "#### 클래스는 왜 필요한가?\n",
    "```\n",
    "한 프로그램에서 같은 동작을 하는 객체가 2개이상 필요할 경우 클래스를 사용하지 않는다면\n",
    "같은 내용의 함수를 다른 이름으로 2번 정의 해야할 것이다.\n",
    "\n",
    "클래스를 활용하면 이러한 상황에서 하나의 함수정의를 통해 같은 동작을 하는 여러 객체를 만들어 낼 수 있다.\n",
    "```\n",
    "\n",
    "#### 객체, 인스턴스?\n",
    "```\n",
    "클래스로 만든 객체를 인스턴스라고도 한다. \n",
    "예를 들어 a = Cookie() 라면 a객체는 Cookie의 인스턴스이다.\n",
    "즉, 인스턴스는 특정 객체가 어떤 클래스의 객체인지 관계로 설명할 때 사용한다.\n",
    "a는 객체이다, a는 Cookie의 인스턴스이다.\n",
    "```\n",
    "\n",
    "#### 클래스를 만들 때\n",
    "```\n",
    "- 어떤 동작을 하는지 분석한다.\n",
    "- 각각의 동작들을 정의한다.\n",
    "- 클래스 구조로 만든다.\n",
    "```"
   ]
  },
  {
   "cell_type": "code",
   "execution_count": 3,
   "metadata": {},
   "outputs": [
    {
     "data": {
      "text/plain": [
       "__main__.FormCal"
      ]
     },
     "execution_count": 3,
     "metadata": {},
     "output_type": "execute_result"
    }
   ],
   "source": [
    "#사칙연산 클래스 만들기\n",
    "#사칙연산에는 더하기, 빼기, 곱하기, 나누기가 있다.\n",
    "#먼저 클래스 Form을 만들자\n",
    "\n",
    "class FormCal:\n",
    "    pass #pass 예약어는 아무것도 수행하지 않는 문법, 임시로 코드를 작성할 때 주로 사용\n",
    "\n",
    "a = FormCal()\n",
    "type(a)"
   ]
  },
  {
   "cell_type": "code",
   "execution_count": 7,
   "metadata": {},
   "outputs": [],
   "source": [
    "#클래스에 숫자를 저장할 수 있게 해보자\n",
    "#클래스 내에 구현된 함수를 메서드 라고한다.\n",
    "class FormCal:\n",
    "    def setdata(self, first, second):\n",
    "        self.num1 = first\n",
    "        self.num2 = second\n",
    "        \n",
    "a = FormCal()\n",
    "a.setdata(4,2)\n",
    "b = FormCal()\n",
    "b.setdata(3,7)"
   ]
  },
  {
   "attachments": {
    "image.png": {
     "image/png": "[encoded data removed]"
    }
   },
   "cell_type": "markdown",
   "metadata": {},
   "source": [
    "메서드의 매개변수\n",
    "![image.png](attachment:image.png)\n",
    "```\n",
    "메서드의 호출방법 2가지\n",
    "1) \n",
    ">>> a = FourCal()\n",
    ">>> FourCal.setdata(a, 4, 2)\n",
    "\n",
    "2)\n",
    ">>> a = FourCal()\n",
    ">>> a.setdata(4, 2)\n",
    "```"
   ]
  },
  {
   "cell_type": "code",
   "execution_count": 11,
   "metadata": {},
   "outputs": [
    {
     "name": "stdout",
     "output_type": "stream",
     "text": [
      "4\n",
      "2\n",
      "3\n",
      "7\n",
      "140725363353472\n",
      "140725363353440\n"
     ]
    }
   ],
   "source": [
    "#각각의 객체는 독립적인 매개변수를 갖고있다\n",
    "print(a.num1) ; print(a.num2)\n",
    "print(b.num1) ; print(b.num2)\n",
    "print(id(a.num1)) ; print(id(b.num1))"
   ]
  },
  {
   "cell_type": "code",
   "execution_count": 19,
   "metadata": {},
   "outputs": [
    {
     "name": "stdout",
     "output_type": "stream",
     "text": [
      "6\n",
      "8\n",
      "2\n",
      "2.0\n"
     ]
    }
   ],
   "source": [
    "# 4가지 기능 만들기\n",
    "class FormCal:\n",
    "    def setdata(self, first, second):\n",
    "        self.num1 = first\n",
    "        self.num2 = second      \n",
    "    def add(self):\n",
    "        result = self.num1 + self.num2\n",
    "        return result\n",
    "    def sub(self):\n",
    "        result = self.num1 - self.num2\n",
    "        return result\n",
    "    def mul(self):\n",
    "        result = self.num1 * self.num2\n",
    "        return result\n",
    "    def div(self):\n",
    "        result = self.num1 / self.num2\n",
    "        return result\n",
    "    \n",
    "\n",
    "a = FormCal()\n",
    "a.setdata(4,2)\n",
    "print(a.add())\n",
    "print(a.mul())\n",
    "print(a.sub())\n",
    "print(a.div())"
   ]
  },
  {
   "cell_type": "markdown",
   "metadata": {},
   "source": [
    "- 생성자(Constructor) : 인스턴스가 처음 생성될 때 자동으로 호출되는 메서드, 초기값을 설정\n",
    "```\n",
    "  - 클래스 내에서 메서드명을 __init__ 으로 만든다.\n",
    "  - Constructor를 만들었다면 반드시 초기값을 주어야한다, 안주면 에러발생\n",
    "```"
   ]
  },
  {
   "cell_type": "code",
   "execution_count": 20,
   "metadata": {},
   "outputs": [],
   "source": [
    "class FormCal:\n",
    "    def __init__(self, first, second):\n",
    "        self.num1 = first\n",
    "        self.num2 = second      \n",
    "    def add(self):\n",
    "        return self.num1 + self.num2\n",
    "    def sub(self):\n",
    "        return self.num1 - self.num2\n",
    "    def mul(self):\n",
    "        return self.num1 * self.num2\n",
    "    def div(self):\n",
    "        return self.num1 / self.num2"
   ]
  },
  {
   "cell_type": "code",
   "execution_count": 23,
   "metadata": {},
   "outputs": [
    {
     "data": {
      "text/plain": [
       "8"
      ]
     },
     "execution_count": 23,
     "metadata": {},
     "output_type": "execute_result"
    }
   ],
   "source": [
    "a = FormCal(4,2)\n",
    "a.mul()"
   ]
  },
  {
   "cell_type": "markdown",
   "metadata": {},
   "source": [
    "- 상속\n",
    "  - 클래스를 만들 때 다른 클래스의 기능을 포함하는 경우\n",
    "  - 기존 클래스가 라이브러리 형태로 제공되거나 수정이 허용되지 않는 경우\n",
    "  \n",
    "#### 기본문법\n",
    " ```\n",
    " class 클래스명(상속할클래스명):\n",
    "     pass\n",
    " ```"
   ]
  },
  {
   "cell_type": "code",
   "execution_count": 24,
   "metadata": {},
   "outputs": [],
   "source": [
    "# 사칙연산기능에 num1의 num2제곱기능을 가진 클래스를 만들어보자\n",
    "class powCal(FormCal):\n",
    "    def pow(self):\n",
    "        result = self.num1 ** self.num2\n",
    "        return result"
   ]
  },
  {
   "cell_type": "code",
   "execution_count": 25,
   "metadata": {},
   "outputs": [
    {
     "data": {
      "text/plain": [
       "16"
      ]
     },
     "execution_count": 25,
     "metadata": {},
     "output_type": "execute_result"
    }
   ],
   "source": [
    "b = powCal(4,2)\n",
    "b.pow()"
   ]
  },
  {
   "cell_type": "markdown",
   "metadata": {},
   "source": [
    "- 메서드 오버라이딩\n",
    "  - 부모 클래스(상속한 클래스)에 있는 메서드를 동일한 이름으로 다시 만드는 것"
   ]
  },
  {
   "cell_type": "code",
   "execution_count": 27,
   "metadata": {},
   "outputs": [
    {
     "name": "stdout",
     "output_type": "stream",
     "text": [
      "0으로 나눌 수 없습니다.\n"
     ]
    },
    {
     "data": {
      "text/plain": [
       "2.0"
      ]
     },
     "execution_count": 27,
     "metadata": {},
     "output_type": "execute_result"
    }
   ],
   "source": [
    "class powCal(FormCal):\n",
    "    def pow(self):\n",
    "        result = self.num1 ** self.num2\n",
    "        return result\n",
    "    def div(self):\n",
    "        if self.num2 == 0 : \n",
    "            print('0으로 나눌 수 없습니다.')\n",
    "            return\n",
    "        else:\n",
    "            return self.num1 / self.num2\n",
    "        \n",
    "a = powCal(4,0)\n",
    "a.div()\n",
    "b = powCal(4,2)\n",
    "b.div()"
   ]
  },
  {
   "cell_type": "markdown",
   "metadata": {},
   "source": [
    "- 객체변수\n",
    "  - 다른 객체에게 영향받지 않고 독립적으로 값을 유지\n",
    "\n",
    "- 클래스 변수\n",
    "  - 클래스 변수는 '클래스이름.클래스변수' 혹은 '객체이름.클래스변수' 로 사용가능하다\n",
    "  - 클래스 변수는 해당 클래스의 인스턴스의 변수들과 주소를 공유한다."
   ]
  },
  {
   "cell_type": "code",
   "execution_count": 49,
   "metadata": {},
   "outputs": [
    {
     "name": "stdout",
     "output_type": "stream",
     "text": [
      "박\n",
      "2607375530304\n",
      "박\n",
      "2607375530304\n",
      "이\n",
      "2607375530064\n",
      "이\n",
      "2607375530064\n",
      "이\n",
      "2607375530064\n",
      "---\n",
      "2607378014560\n",
      "2607378017344\n"
     ]
    }
   ],
   "source": [
    "class self_family():\n",
    "    def setname(self):\n",
    "        self.lastname='박'\n",
    "class family:\n",
    "    lastname = '이'\n",
    "    \n",
    "a = self_family() #왜 이 두개의 메모리값이 같을까?..\n",
    "a.setname()\n",
    "b = self_family()\n",
    "b.setname()\n",
    "c = family()\n",
    "d = family()\n",
    "\n",
    "print(a.lastname)\n",
    "print(id(a.lastname))\n",
    "print(b.lastname)\n",
    "print(id(b.lastname))\n",
    "print(family.lastname)\n",
    "print(id(family.lastname))\n",
    "print(c.lastname)\n",
    "print(id(c.lastname))\n",
    "print(d.lastname)\n",
    "print(id(d.lastname))\n",
    "print('---')\n",
    "print(id(a))\n",
    "print(id(b))"
   ]
  },
  {
   "cell_type": "markdown",
   "metadata": {},
   "source": [
    "### 모듈\n",
    "#### 모듈 만들기\n",
    "- 파이썬확장자 .py는 모두 모듈이다.\n",
    "- 모듈내의 함수를 쓰기위해서는\n",
    "    - import 모듈파일명\n",
    "    - from 모듈파일명 import 함수명1, 함수명2\n",
    "    - from 모듈파일명 import *\n"
   ]
  },
  {
   "cell_type": "code",
   "execution_count": 53,
   "metadata": {},
   "outputs": [
    {
     "name": "stdout",
     "output_type": "stream",
     "text": [
      "Writing test_mod.py\n"
     ]
    }
   ],
   "source": [
    "%%writefile \"test_mod.py\"\n",
    "\n",
    "def add(a,b):\n",
    "    return a+b\n",
    "def sub(a,b):\n",
    "    return a-b"
   ]
  },
  {
   "cell_type": "code",
   "execution_count": 59,
   "metadata": {},
   "outputs": [
    {
     "name": "stdout",
     "output_type": "stream",
     "text": [
      "7\n",
      "-1\n"
     ]
    }
   ],
   "source": [
    "import test_mod\n",
    "print(test_mod.add(3,4))\n",
    "print(test_mod.sub(3,4))"
   ]
  },
  {
   "cell_type": "code",
   "execution_count": 57,
   "metadata": {},
   "outputs": [
    {
     "name": "stdout",
     "output_type": "stream",
     "text": [
      "7\n",
      "-1\n"
     ]
    },
    {
     "ename": "NameError",
     "evalue": "name 'sub' is not defined",
     "output_type": "error",
     "traceback": [
      "\u001b[1;31m---------------------------------------------------------------------------\u001b[0m",
      "\u001b[1;31mNameError\u001b[0m                                 Traceback (most recent call last)",
      "\u001b[1;32m<ipython-input-57-dcc480c8dbb1>\u001b[0m in \u001b[0;36m<module>\u001b[1;34m\u001b[0m\n\u001b[0;32m      2\u001b[0m \u001b[0mprint\u001b[0m\u001b[1;33m(\u001b[0m\u001b[0madd\u001b[0m\u001b[1;33m(\u001b[0m\u001b[1;36m3\u001b[0m\u001b[1;33m,\u001b[0m\u001b[1;36m4\u001b[0m\u001b[1;33m)\u001b[0m\u001b[1;33m)\u001b[0m\u001b[1;33m\u001b[0m\u001b[1;33m\u001b[0m\u001b[0m\n\u001b[0;32m      3\u001b[0m \u001b[0mprint\u001b[0m\u001b[1;33m(\u001b[0m\u001b[0mtest_mod\u001b[0m\u001b[1;33m.\u001b[0m\u001b[0msub\u001b[0m\u001b[1;33m(\u001b[0m\u001b[1;36m3\u001b[0m\u001b[1;33m,\u001b[0m\u001b[1;36m4\u001b[0m\u001b[1;33m)\u001b[0m\u001b[1;33m)\u001b[0m\u001b[1;33m\u001b[0m\u001b[1;33m\u001b[0m\u001b[0m\n\u001b[1;32m----> 4\u001b[1;33m \u001b[0mprint\u001b[0m\u001b[1;33m(\u001b[0m\u001b[0msub\u001b[0m\u001b[1;33m(\u001b[0m\u001b[1;36m3\u001b[0m\u001b[1;33m,\u001b[0m\u001b[1;36m4\u001b[0m\u001b[1;33m)\u001b[0m\u001b[1;33m)\u001b[0m\u001b[1;33m\u001b[0m\u001b[1;33m\u001b[0m\u001b[0m\n\u001b[0m",
      "\u001b[1;31mNameError\u001b[0m: name 'sub' is not defined"
     ]
    }
   ],
   "source": [
    "from test_mod import add\n",
    "print(add(3,4))\n",
    "print(test_mod.sub(3,4))\n",
    "print(sub(3,4))"
   ]
  },
  {
   "cell_type": "markdown",
   "metadata": {},
   "source": [
    "``` \n",
    "if __name__ == \"__main__\": 의 의미 \n",
    "```\n",
    "  - 아래 코드에서 \n",
    "  - if __name__ == \"__main__\": 없이 실행하면 print문이 동작하지만\n",
    "  - if __name__ == \"__main__\": 입력 후 실행하면 반응이없다.\n",
    "  \n",
    "- 파이썬이 내부적으로 사용하는 특별한 변수 이름이다.\n",
    "  - python 모듈명으로 실행하면 __name__ 변수에는 __main__ 값이 저장\n",
    "  - 파이썬 셸이나 다른 파이썬 모듈에서 import 할 경우에는 __name__ 변수에는 모듈 이름 값이 저장"
   ]
  },
  {
   "cell_type": "code",
   "execution_count": 63,
   "metadata": {},
   "outputs": [
    {
     "name": "stdout",
     "output_type": "stream",
     "text": [
      "Overwriting mod.py\n"
     ]
    }
   ],
   "source": [
    "%%writefile mod.py\n",
    "def add(a, b): \n",
    "    return a+b\n",
    "\n",
    "def sub(a, b): \n",
    "    return a-b\n",
    "\n",
    "if __name__ == \"__main__\":\n",
    "    print(add(1, 4))\n",
    "    print(sub(4, 2))"
   ]
  },
  {
   "cell_type": "markdown",
   "metadata": {},
   "source": [
    "- 클래스나 변수등을 포함한 모듈"
   ]
  },
  {
   "cell_type": "code",
   "execution_count": 64,
   "metadata": {},
   "outputs": [
    {
     "name": "stdout",
     "output_type": "stream",
     "text": [
      "Overwriting mod.py\n"
     ]
    }
   ],
   "source": [
    "%%writefile mod.py\n",
    "PI = 3.141592\n",
    "\n",
    "class Math :\n",
    "    def solv(self, r):\n",
    "        return PI * (r ** 2)\n",
    "\n",
    "def add(a,b):\n",
    "    return a+b"
   ]
  },
  {
   "attachments": {
    "image-2.png": {
     "image/png": "[encoded data removed]"
    },
    "image-4.png": {
     "image/png": "[encoded data removed]"
    },
    "image-5.png": {
     "image/png": "[encoded data removed]"
    },
    "image-6.png": {
     "image/png": "[encoded data removed]"
    }
   },
   "cell_type": "markdown",
   "metadata": {},
   "source": [
    "![image-2.png](attachment:image-2.png)\n",
    "![image-5.png](attachment:image-5.png)\n",
    "![image-4.png](attachment:image-4.png)\n",
    "\n",
    "------\n",
    "\n",
    "![image-6.png](attachment:image-6.png)"
   ]
  },
  {
   "cell_type": "code",
   "execution_count": 71,
   "metadata": {},
   "outputs": [
    {
     "name": "stdout",
     "output_type": "stream",
     "text": [
      "50.265472\n"
     ]
    }
   ],
   "source": [
    "#import mod \n",
    "from mod import Math\n",
    "a = mod.Math()\n",
    "print(a.solv(4))"
   ]
  },
  {
   "cell_type": "code",
   "execution_count": 3,
   "metadata": {},
   "outputs": [
    {
     "data": {
      "text/plain": [
       "60.82122112000001"
      ]
     },
     "execution_count": 3,
     "metadata": {},
     "output_type": "execute_result"
    }
   ],
   "source": [
    "import mod\n",
    "mod.Math.solv(mod,4.4)"
   ]
  },
  {
   "cell_type": "markdown",
   "metadata": {},
   "source": [
    "- 모듈을 불러오는 다른방법\n",
    "  - sys.path.append\n",
    "  - set PYTHONPATH"
   ]
  },
  {
   "cell_type": "code",
   "execution_count": 4,
   "metadata": {},
   "outputs": [
    {
     "name": "stdout",
     "output_type": "stream",
     "text": [
      "['C:\\\\Users\\\\JY\\\\Desktop\\\\파이썬알고리즘\\\\코멘토\\\\과제\\\\1주차', 'C:\\\\Users\\\\JY\\\\anaconda3\\\\python38.zip', 'C:\\\\Users\\\\JY\\\\anaconda3\\\\DLLs', 'C:\\\\Users\\\\JY\\\\anaconda3\\\\lib', 'C:\\\\Users\\\\JY\\\\anaconda3', '', 'C:\\\\Users\\\\JY\\\\anaconda3\\\\lib\\\\site-packages', 'C:\\\\Users\\\\JY\\\\anaconda3\\\\lib\\\\site-packages\\\\win32', 'C:\\\\Users\\\\JY\\\\anaconda3\\\\lib\\\\site-packages\\\\win32\\\\lib', 'C:\\\\Users\\\\JY\\\\anaconda3\\\\lib\\\\site-packages\\\\Pythonwin', 'C:\\\\Users\\\\JY\\\\anaconda3\\\\lib\\\\site-packages\\\\IPython\\\\extensions', 'C:\\\\Users\\\\JY\\\\.ipython']\n"
     ]
    }
   ],
   "source": [
    "#sys.path.append\n",
    "import sys\n",
    "print(sys.path)\n",
    "#결과 값이 리스트로 들어오므로 sys.path에 append로 경로를 추가하여 사용"
   ]
  },
  {
   "cell_type": "code",
   "execution_count": 8,
   "metadata": {},
   "outputs": [
    {
     "ename": "SyntaxError",
     "evalue": "invalid syntax (<ipython-input-8-f15cd483bab6>, line 1)",
     "output_type": "error",
     "traceback": [
      "\u001b[1;36m  File \u001b[1;32m\"<ipython-input-8-f15cd483bab6>\"\u001b[1;36m, line \u001b[1;32m1\u001b[0m\n\u001b[1;33m    set PYTHONPATH=D:/\u001b[0m\n\u001b[1;37m        ^\u001b[0m\n\u001b[1;31mSyntaxError\u001b[0m\u001b[1;31m:\u001b[0m invalid syntax\n"
     ]
    }
   ],
   "source": [
    "print(PYTHONPATH)"
   ]
  },
  {
   "attachments": {
    "image-3.png": {
     "image/png": "[encoded data removed]"
    },
    "image-4.png": {
     "image/png": "[encoded data removed]"
    },
    "image.png": {
     "image/png": "[encoded data removed]"
    }
   },
   "cell_type": "markdown",
   "metadata": {},
   "source": [
    "![image.png](attachment:image.png)\n",
    "![image-4.png](attachment:image-4.png)\n",
    "![image-3.png](attachment:image-3.png)"
   ]
  },
  {
   "cell_type": "markdown",
   "metadata": {},
   "source": [
    "### 패키지\n",
    "#### 패키지란?\n",
    "- 패키지는 도트를 사용하여 파이썬모듈을 계층적으로 관리할 수 있게 해준다.\n",
    "- A.B의 경우 A는 패키지이름, B는 A패키지 내의 B모듈이 된다."
   ]
  },
  {
   "cell_type": "code",
   "execution_count": 18,
   "metadata": {},
   "outputs": [
    {
     "name": "stdout",
     "output_type": "stream",
     "text": [
      "Writing D:\\code\\python\\test_package\\sound\\echo.py\n"
     ]
    }
   ],
   "source": [
    "%%writefile D:\\code\\python\\test_package\\sound\\echo.py\n",
    "def echo_test():\n",
    "    print(\"echo\")    "
   ]
  },
  {
   "cell_type": "code",
   "execution_count": 17,
   "metadata": {},
   "outputs": [
    {
     "name": "stdout",
     "output_type": "stream",
     "text": [
      "Writing D:\\code\\python\\test_package\\graphic\\render.py\n"
     ]
    }
   ],
   "source": [
    "%%writefile D:\\code\\python\\test_package\\graphic\\render.py\n",
    "def render_test():\n",
    "    print(\"render\")"
   ]
  },
  {
   "attachments": {
    "image-2.png": {
     "image/png": "[encoded data removed]"
    },
    "image-3.png": {
     "image/png": "[encoded data removed]"
    },
    "image-4.png": {
     "image/png": "[encoded data removed]"
    },
    "image.png": {
     "image/png": "[encoded data removed]"
    }
   },
   "cell_type": "markdown",
   "metadata": {},
   "source": [
    "![image.png](attachment:image.png)\n",
    "![image-2.png](attachment:image-2.png)\n",
    "![image-3.png](attachment:image-3.png)\n",
    "![image-4.png](attachment:image-4.png)\n",
    "- import를 하게되면 import디렉터리의 __init__.py에 정의한 것만 참조할 수 있다.\n",
    "- 도트 연산자(.)를 사용해서 import a.b.c처럼 import할 때 가장 마지막 항목인 c는 반드시 모듈 또는 패키지여야만 한다."
   ]
  },
  {
   "attachments": {
    "image.png": {
     "image/png": "[encoded data removed]"
    }
   },
   "cell_type": "markdown",
   "metadata": {},
   "source": [
    "```\n",
    "__init__.py 의 용도\n",
    "\n",
    "- __init__.py 파일은 해당 디렉터리가 패키지의 일부임을 알려주는 역할\n",
    "- python3.3 버전부터는 __init__.py 파일이 없어도 패키지로 인식한다(PEP 420). 하지만 하위 버전 호환을 위해 __init__.py 파일을 생성하는 것이 안전한 방법이다.\n",
    "```\n",
    "![image.png](attachment:image.png)\n",
    "```\n",
    "위와같이 특정 디렉터리내의 모듈을 *를 사용하여 import 할 때는 해당 디렉터리 __init__.py 파일에 __all__변수를 설정하고 import할 수 있는 모듈을 정의해야한다.\n",
    "\n",
    ".../sound/__init__.py\n",
    "__all__ = ['echo']\n",
    "\n",
    "여기서 __all__이 의미하는 것은 sound 디렉터리 내에서 *를 사용하여 import할 경우에는 여기에 나열된 모듈만 import 된다.\n",
    "그러나, from sound.echo import * 와는 다르다, 이미 from sound.echo에 마지막에 echo모듈이 선언되었기 때문에 인식한다.\n",
    "```\n"
   ]
  },
  {
   "cell_type": "markdown",
   "metadata": {},
   "source": [
    "- relative 패키지\n",
    "  - 아래와 같은 코드로도 echo_test() 모듈을 사용할 수 있지만 디렉터리 간의 관계를 알고있다면 \n",
    "  - from ..echo import echo_test 로도 변경하여 사용이 가능하다.\n",
    "  - relative한 접근자는 모듈 안에서만 사용해야 한다.\n",
    "  - 인터프리터에서 사용 시 \"SystemError: cannot perform relative import\" 오류가 발생\n",
    "  \n",
    "```\n",
    "relative한 접근자에는 다음과 같은 것이 있다.\n",
    "\n",
    ".. – 부모 디렉터리\n",
    ".  – 현재 디렉터리\n",
    "```"
   ]
  },
  {
   "cell_type": "code",
   "execution_count": 34,
   "metadata": {},
   "outputs": [
    {
     "name": "stdout",
     "output_type": "stream",
     "text": [
      "Overwriting D:\\code\\python\\test_package\\graphic\\render.py\n"
     ]
    }
   ],
   "source": [
    "%%writefile D:\\code\\python\\test_package\\graphic\\render.py\n",
    "from ..sound.echo import echo_test\n",
    "\n",
    "def render_test():\n",
    "    print(\"render\")\n",
    "    echo_test()"
   ]
  },
  {
   "attachments": {
    "image.png": {
     "image/png": "[encoded data removed]"
    }
   },
   "cell_type": "markdown",
   "metadata": {},
   "source": [
    "![image.png](attachment:image.png)\n",
    "에러발생..\n"
   ]
  },
  {
   "cell_type": "markdown",
   "metadata": {},
   "source": [
    "### 예외 처리\n",
    "- 예외처리는 언제 발생하는가?\n",
    "  - 없는 파일을 열때\n",
    "  - 0으로 수를 나눌 때\n",
    "  - 리스트에 없는 인덱스를 참조하려 할때"
   ]
  },
  {
   "cell_type": "markdown",
   "metadata": {},
   "source": [
    "#### 오류 예외 처리 기법\n",
    "- try, except문\n",
    "\n",
    "1. try, except만 쓰는 방법 : 오류 종류와 상관없이 오류가 발생하면 except 블록을 수행\n",
    "```\n",
    "try:\n",
    "    ...\n",
    "except:\n",
    "    ...\n",
    "``` \n",
    "2. 발생 오류만 포함한 except문 : except문에 미리 정해 놓은 오류 이름과 일치할 때만 except를 수행\n",
    "```\n",
    "try:\n",
    "    ...\n",
    "except 발생 오류:\n",
    "    ...\n",
    "``` \n",
    "3. 발생 오류와 오류 메시지 변수까지 포함한 except문 : 2의 경우에서 메시지의 내용까지 알고싶을 때 사용\n",
    "```\n",
    "try:\n",
    "    ...\n",
    "except: [발생 오류[as 오류 메시지 변수]]:\n",
    "    print(오류 메시지 변수)\n",
    "```"
   ]
  },
  {
   "cell_type": "markdown",
   "metadata": {},
   "source": [
    "- try .. finally\n",
    "  - finally절은 try문 수행 도중 예외 발생 여부에 상관없이 항상 수행된다.\n",
    "  - 리소스를 close해야할 때에 많이 사용"
   ]
  },
  {
   "cell_type": "code",
   "execution_count": null,
   "metadata": {},
   "outputs": [],
   "source": [
    "f = open('foo.txt', 'w')\n",
    "try:\n",
    "    # 무언가를 수행한다.\n",
    "finally:\n",
    "    f.close()"
   ]
  },
  {
   "cell_type": "markdown",
   "metadata": {},
   "source": [
    "- 여러개의 오류처리하기\n",
    "```\n",
    "try:\n",
    "    ...\n",
    "except 발생 오류1:\n",
    "    ... \n",
    "except 발생 오류2:\n",
    "    ...\n",
    "```"
   ]
  },
  {
   "cell_type": "markdown",
   "metadata": {},
   "source": [
    "0으로 나누는 오류와 인덱싱 오류를 처리하는 구문이다.\n",
    "```\n",
    "try:\n",
    "    a = [1,2]\n",
    "    print(a[3])\n",
    "    4/0\n",
    "except ZeroDivisionError:\n",
    "    print(\"0으로 나눌 수 없습니다.\")\n",
    "except IndexError:\n",
    "    print(\"인덱싱 할 수 없습니다.\")\n",
    "```\n",
    "```\n",
    "혹은 2개 이상의 오류를 동일하게 처리하기 위해서는 위와 같이 괄호를 사용하여 함께 묶어 처리하면 된다.\n",
    "\n",
    "try:\n",
    "    a = [1,2]\n",
    "    print(a[3])\n",
    "    4/0\n",
    "except (ZeroDivisionError, IndexError) as e:\n",
    "    print(e)\n",
    "```"
   ]
  },
  {
   "cell_type": "code",
   "execution_count": 36,
   "metadata": {},
   "outputs": [
    {
     "name": "stdout",
     "output_type": "stream",
     "text": [
      "list index out of range\n"
     ]
    }
   ],
   "source": [
    "try:\n",
    "    a = [1,2]\n",
    "    print(a[3])\n",
    "    4/0\n",
    "except ZeroDivisionError as e:\n",
    "    print(e)\n",
    "except IndexError as e:\n",
    "    print(e)"
   ]
  },
  {
   "cell_type": "markdown",
   "metadata": {},
   "source": [
    "- try문에 else절 사용하기\n",
    "```\n",
    "try:\n",
    "    ...\n",
    "except [발생 오류[as 오류 메시지 변수]]:\n",
    "    ...\n",
    "else:  # 오류가 없을 경우에만 수행된다.\n",
    "    ...\n",
    "```"
   ]
  },
  {
   "cell_type": "code",
   "execution_count": 48,
   "metadata": {},
   "outputs": [
    {
     "name": "stdout",
     "output_type": "stream",
     "text": [
      "이름과 나이를 입력하세요15\n",
      "미성년자는 출입금지입니다.\n"
     ]
    }
   ],
   "source": [
    "try :\n",
    "    age = int(input('이름과 나이를 입력하세요'))\n",
    "except:\n",
    "    print('입력이 정확하지 않습니다.')\n",
    "else:\n",
    "    if age <= 18 :\n",
    "        print('미성년자는 출입금지입니다.')\n",
    "    else:\n",
    "        print('%s 살 환영합니다.'%age)"
   ]
  },
  {
   "cell_type": "markdown",
   "metadata": {},
   "source": [
    "- 오류 회피하기\n",
    "  - 특정 오류가 발생할 경우 그냥 통과시킬 때"
   ]
  },
  {
   "cell_type": "code",
   "execution_count": 49,
   "metadata": {},
   "outputs": [],
   "source": [
    "try:\n",
    "    f = open(\"나없는파일\", 'r')\n",
    "except FileNotFoundError:\n",
    "    pass"
   ]
  },
  {
   "cell_type": "markdown",
   "metadata": {},
   "source": [
    "- 오류 일부러 발생시키기\n",
    "  - raise 명령어\n",
    "    - 메서드 오버라이딩 하지않고 실행할경우를 막기위해"
   ]
  },
  {
   "cell_type": "code",
   "execution_count": 72,
   "metadata": {},
   "outputs": [],
   "source": [
    "class Bird:\n",
    "    def fly(self):\n",
    "        pass\n",
    "        raise notImplementedError\n",
    "        \n",
    "class Eagle(Bird):\n",
    "    pass"
   ]
  },
  {
   "cell_type": "code",
   "execution_count": 73,
   "metadata": {},
   "outputs": [
    {
     "ename": "NameError",
     "evalue": "name 'notImplementedError' is not defined",
     "output_type": "error",
     "traceback": [
      "\u001b[1;31m---------------------------------------------------------------------------\u001b[0m",
      "\u001b[1;31mNameError\u001b[0m                                 Traceback (most recent call last)",
      "\u001b[1;32m<ipython-input-73-44df1654c75e>\u001b[0m in \u001b[0;36m<module>\u001b[1;34m\u001b[0m\n\u001b[0;32m      1\u001b[0m \u001b[0meagle\u001b[0m \u001b[1;33m=\u001b[0m \u001b[0mEagle\u001b[0m\u001b[1;33m(\u001b[0m\u001b[1;33m)\u001b[0m\u001b[1;33m\u001b[0m\u001b[1;33m\u001b[0m\u001b[0m\n\u001b[1;32m----> 2\u001b[1;33m \u001b[0meagle\u001b[0m\u001b[1;33m.\u001b[0m\u001b[0mfly\u001b[0m\u001b[1;33m(\u001b[0m\u001b[1;33m)\u001b[0m\u001b[1;33m\u001b[0m\u001b[1;33m\u001b[0m\u001b[0m\n\u001b[0m",
      "\u001b[1;32m<ipython-input-72-b1ac5bc54e3a>\u001b[0m in \u001b[0;36mfly\u001b[1;34m(self)\u001b[0m\n\u001b[0;32m      2\u001b[0m     \u001b[1;32mdef\u001b[0m \u001b[0mfly\u001b[0m\u001b[1;33m(\u001b[0m\u001b[0mself\u001b[0m\u001b[1;33m)\u001b[0m\u001b[1;33m:\u001b[0m\u001b[1;33m\u001b[0m\u001b[1;33m\u001b[0m\u001b[0m\n\u001b[0;32m      3\u001b[0m         \u001b[1;32mpass\u001b[0m\u001b[1;33m\u001b[0m\u001b[1;33m\u001b[0m\u001b[0m\n\u001b[1;32m----> 4\u001b[1;33m         \u001b[1;32mraise\u001b[0m \u001b[0mnotImplementedError\u001b[0m\u001b[1;33m\u001b[0m\u001b[1;33m\u001b[0m\u001b[0m\n\u001b[0m\u001b[0;32m      5\u001b[0m \u001b[1;33m\u001b[0m\u001b[0m\n\u001b[0;32m      6\u001b[0m \u001b[1;32mclass\u001b[0m \u001b[0mEagle\u001b[0m\u001b[1;33m(\u001b[0m\u001b[0mBird\u001b[0m\u001b[1;33m)\u001b[0m\u001b[1;33m:\u001b[0m\u001b[1;33m\u001b[0m\u001b[1;33m\u001b[0m\u001b[0m\n",
      "\u001b[1;31mNameError\u001b[0m: name 'notImplementedError' is not defined"
     ]
    }
   ],
   "source": [
    "eagle = Eagle()\n",
    "eagle.fly()"
   ]
  },
  {
   "cell_type": "markdown",
   "metadata": {},
   "source": [
    "- 예외 만들기\n",
    "  - 파이썬 내장클래스인 Exception 클래스를 상속하여 만든다"
   ]
  },
  {
   "cell_type": "code",
   "execution_count": 88,
   "metadata": {},
   "outputs": [],
   "source": [
    "class myerror(Exception):\n",
    "    pass"
   ]
  },
  {
   "cell_type": "code",
   "execution_count": 77,
   "metadata": {},
   "outputs": [],
   "source": [
    "def say_nick(nick):\n",
    "    if nick == '바보':\n",
    "        raise myerror()\n",
    "    print(nick)"
   ]
  },
  {
   "cell_type": "code",
   "execution_count": 81,
   "metadata": {},
   "outputs": [
    {
     "name": "stdout",
     "output_type": "stream",
     "text": [
      "천사\n"
     ]
    },
    {
     "ename": "myerror",
     "evalue": "",
     "output_type": "error",
     "traceback": [
      "\u001b[1;31m---------------------------------------------------------------------------\u001b[0m",
      "\u001b[1;31mmyerror\u001b[0m                                   Traceback (most recent call last)",
      "\u001b[1;32m<ipython-input-81-1187125cf220>\u001b[0m in \u001b[0;36m<module>\u001b[1;34m\u001b[0m\n\u001b[0;32m      1\u001b[0m \u001b[0msay_nick\u001b[0m\u001b[1;33m(\u001b[0m\u001b[1;34m'천사'\u001b[0m\u001b[1;33m)\u001b[0m\u001b[1;33m\u001b[0m\u001b[1;33m\u001b[0m\u001b[0m\n\u001b[1;32m----> 2\u001b[1;33m \u001b[0msay_nick\u001b[0m\u001b[1;33m(\u001b[0m\u001b[1;34m'바보'\u001b[0m\u001b[1;33m)\u001b[0m\u001b[1;33m\u001b[0m\u001b[1;33m\u001b[0m\u001b[0m\n\u001b[0m",
      "\u001b[1;32m<ipython-input-77-f578fc13c9d3>\u001b[0m in \u001b[0;36msay_nick\u001b[1;34m(nick)\u001b[0m\n\u001b[0;32m      1\u001b[0m \u001b[1;32mdef\u001b[0m \u001b[0msay_nick\u001b[0m\u001b[1;33m(\u001b[0m\u001b[0mnick\u001b[0m\u001b[1;33m)\u001b[0m\u001b[1;33m:\u001b[0m\u001b[1;33m\u001b[0m\u001b[1;33m\u001b[0m\u001b[0m\n\u001b[0;32m      2\u001b[0m     \u001b[1;32mif\u001b[0m \u001b[0mnick\u001b[0m \u001b[1;33m==\u001b[0m \u001b[1;34m'바보'\u001b[0m\u001b[1;33m:\u001b[0m\u001b[1;33m\u001b[0m\u001b[1;33m\u001b[0m\u001b[0m\n\u001b[1;32m----> 3\u001b[1;33m         \u001b[1;32mraise\u001b[0m \u001b[0mmyerror\u001b[0m\u001b[1;33m(\u001b[0m\u001b[1;33m)\u001b[0m\u001b[1;33m\u001b[0m\u001b[1;33m\u001b[0m\u001b[0m\n\u001b[0m\u001b[0;32m      4\u001b[0m     \u001b[0mprint\u001b[0m\u001b[1;33m(\u001b[0m\u001b[0mnick\u001b[0m\u001b[1;33m)\u001b[0m\u001b[1;33m\u001b[0m\u001b[1;33m\u001b[0m\u001b[0m\n",
      "\u001b[1;31mmyerror\u001b[0m: "
     ]
    }
   ],
   "source": [
    "say_nick('천사')\n",
    "say_nick('바보')"
   ]
  },
  {
   "cell_type": "code",
   "execution_count": 92,
   "metadata": {},
   "outputs": [
    {
     "name": "stdout",
     "output_type": "stream",
     "text": [
      "천사\n",
      "허용되지 않는 별명입니다.\n"
     ]
    }
   ],
   "source": [
    "try:\n",
    "    say_nick('천사')\n",
    "    say_nick('바보')\n",
    "except myerror as e:\n",
    "    print(e) #이 경우에는 myerror에서 pass를 사용했기 때문에 에러메시지는 발생하지 않는다."
   ]
  },
  {
   "cell_type": "markdown",
   "metadata": {},
   "source": [
    "```\n",
    "실행해보게되면 print(e)로 메시지가 출력되지 않는다, \n",
    "정의한 오류 예외처리에서 메시지가 출력되게 하려면 오류클래스에 __str__메서드를 구현해야한다.\n",
    "\n",
    "__str__ 메서드는 오류메시지를 print문으로 출력할 경우에 호출되는 메서드이다.\n",
    "```"
   ]
  },
  {
   "cell_type": "code",
   "execution_count": 91,
   "metadata": {},
   "outputs": [],
   "source": [
    "class myerror(Exception):\n",
    "    def __str__(self):\n",
    "        return \"허용되지 않는 별명입니다.\""
   ]
  },
  {
   "cell_type": "markdown",
   "metadata": {},
   "source": [
    "### 내장 함수\n",
    "- abs 함수 : 입력받은 숫자의 절댓값을 돌려주는 함수"
   ]
  },
  {
   "cell_type": "code",
   "execution_count": 97,
   "metadata": {},
   "outputs": [
    {
     "name": "stdout",
     "output_type": "stream",
     "text": [
      "3\n",
      "1.2\n"
     ]
    }
   ],
   "source": [
    "print(abs(-3))\n",
    "print(abs(-1.2))"
   ]
  },
  {
   "cell_type": "markdown",
   "metadata": {},
   "source": [
    "- all 함수 : all(x)는 반복 가능(iterable)한 자료형 x를 입력 인수를 받으며 이 x의 요소가 모두 참이면 True, 거짓이 하나라도 있으면 False를 돌려준다."
   ]
  },
  {
   "cell_type": "code",
   "execution_count": 99,
   "metadata": {},
   "outputs": [
    {
     "name": "stdout",
     "output_type": "stream",
     "text": [
      "True\n",
      "False\n",
      "True\n"
     ]
    }
   ],
   "source": [
    "print(all([1,2,3]))\n",
    "print(all([1,2,3,0]))\n",
    "print(all([]))"
   ]
  },
  {
   "attachments": {
    "image.png": {
     "image/png": "[encoded data removed]"
    }
   },
   "cell_type": "markdown",
   "metadata": {},
   "source": [
    "자료형의 참과 거짓\n",
    "![image.png](attachment:image.png)"
   ]
  },
  {
   "cell_type": "markdown",
   "metadata": {},
   "source": [
    "- any : any(x)는 반복 가능한(iterable) 자료형 x를 입력 인수로 받으며 이 x의 요소 중 하나라도 참이 있으면 True를 돌려주고, x가 모두 거짓일 때에만 False를 돌려준다. \n",
    "  - all(x)의 반대이다."
   ]
  },
  {
   "cell_type": "code",
   "execution_count": 100,
   "metadata": {},
   "outputs": [
    {
     "name": "stdout",
     "output_type": "stream",
     "text": [
      "True\n",
      "True\n",
      "False\n"
     ]
    }
   ],
   "source": [
    "print(any([1,2,3]))\n",
    "print(any([1,2,3,0]))\n",
    "print(any([]))"
   ]
  },
  {
   "cell_type": "markdown",
   "metadata": {},
   "source": [
    "- chr : 아스키 코드 값을 받아 그 코드에 해당하는 문자를 출력"
   ]
  },
  {
   "cell_type": "code",
   "execution_count": 101,
   "metadata": {},
   "outputs": [
    {
     "name": "stdout",
     "output_type": "stream",
     "text": [
      "a\n",
      "0\n"
     ]
    }
   ],
   "source": [
    "print(chr(97))\n",
    "print(chr(48))"
   ]
  },
  {
   "cell_type": "markdown",
   "metadata": {},
   "source": [
    "- ord : ord(c) c의 아스키 코드 값을 반환\n",
    "  - chr과 반대"
   ]
  },
  {
   "cell_type": "code",
   "execution_count": 152,
   "metadata": {},
   "outputs": [
    {
     "name": "stdout",
     "output_type": "stream",
     "text": [
      "97\n",
      "48\n"
     ]
    }
   ],
   "source": [
    "print(ord('a'))\n",
    "print(ord('0'))"
   ]
  },
  {
   "cell_type": "markdown",
   "metadata": {},
   "source": [
    "- dir : 객체가 자체 적으로 가지고 있는 함수나 변수를 보여준다."
   ]
  },
  {
   "cell_type": "code",
   "execution_count": 107,
   "metadata": {},
   "outputs": [
    {
     "name": "stdout",
     "output_type": "stream",
     "text": [
      "['__add__', '__class__', '__contains__', '__delattr__', '__delitem__', '__dir__', '__doc__', '__eq__', '__format__', '__ge__', '__getattribute__', '__getitem__', '__gt__', '__hash__', '__iadd__', '__imul__', '__init__', '__init_subclass__', '__iter__', '__le__', '__len__', '__lt__', '__mul__', '__ne__', '__new__', '__reduce__', '__reduce_ex__', '__repr__', '__reversed__', '__rmul__', '__setattr__', '__setitem__', '__sizeof__', '__str__', '__subclasshook__', 'append', 'clear', 'copy', 'count', 'extend', 'index', 'insert', 'pop', 'remove', 'reverse', 'sort']\n",
      "---\n",
      "['__class__', '__contains__', '__delattr__', '__delitem__', '__dir__', '__doc__', '__eq__', '__format__', '__ge__', '__getattribute__', '__getitem__', '__gt__', '__hash__', '__init__', '__init_subclass__', '__iter__', '__le__', '__len__', '__lt__', '__ne__', '__new__', '__reduce__', '__reduce_ex__', '__repr__', '__reversed__', '__setattr__', '__setitem__', '__sizeof__', '__str__', '__subclasshook__', 'clear', 'copy', 'fromkeys', 'get', 'items', 'keys', 'pop', 'popitem', 'setdefault', 'update', 'values']\n",
      "---\n",
      "['__add__', '__class__', '__contains__', '__delattr__', '__dir__', '__doc__', '__eq__', '__format__', '__ge__', '__getattribute__', '__getitem__', '__getnewargs__', '__gt__', '__hash__', '__init__', '__init_subclass__', '__iter__', '__le__', '__len__', '__lt__', '__mul__', '__ne__', '__new__', '__reduce__', '__reduce_ex__', '__repr__', '__rmul__', '__setattr__', '__sizeof__', '__str__', '__subclasshook__', 'count', 'index']\n"
     ]
    }
   ],
   "source": [
    "print(dir([]))\n",
    "print('---')\n",
    "print(dir({}))\n",
    "print('---')\n",
    "print(dir(()))"
   ]
  },
  {
   "cell_type": "markdown",
   "metadata": {},
   "source": [
    "- divmod : divmod(a,b)는 2개의 숫자를 입력 받아 a를 b로 나눈 몫과 나머지를 튜플 형태로 돌려주는 함수"
   ]
  },
  {
   "cell_type": "code",
   "execution_count": 110,
   "metadata": {},
   "outputs": [
    {
     "name": "stdout",
     "output_type": "stream",
     "text": [
      "(2, 1)\n",
      "(1, 3)\n"
     ]
    }
   ],
   "source": [
    "print(divmod(7,3))\n",
    "print(divmod(8,5))"
   ]
  },
  {
   "cell_type": "markdown",
   "metadata": {},
   "source": [
    "- enumerate : 순서가 있는 자료형(리스트, 튜플, 문자열)을 입력받아 인덱스 값을 포함하는 enumerate 객체를 리턴\n",
    "  - 보통 for 문과 함께 자주사용된다.\n",
    "  - 즉 자료형의 index번호와 값을 알 수 있다."
   ]
  },
  {
   "cell_type": "code",
   "execution_count": 111,
   "metadata": {},
   "outputs": [
    {
     "name": "stdout",
     "output_type": "stream",
     "text": [
      "0 body\n",
      "1 foo\n",
      "2 bar\n"
     ]
    }
   ],
   "source": [
    "for i, name in enumerate(['body','foo','bar']):\n",
    "    print(i,name)"
   ]
  },
  {
   "cell_type": "markdown",
   "metadata": {},
   "source": [
    "- eval : 실행가능한 문자열을 입력으로 받아 문자열을 실행한 결과값을 돌려준다."
   ]
  },
  {
   "cell_type": "code",
   "execution_count": 115,
   "metadata": {},
   "outputs": [
    {
     "name": "stdout",
     "output_type": "stream",
     "text": [
      "1+2\n",
      "3\n"
     ]
    },
    {
     "data": {
      "text/plain": [
       "int"
      ]
     },
     "execution_count": 115,
     "metadata": {},
     "output_type": "execute_result"
    }
   ],
   "source": [
    "a = '1+2'\n",
    "print(a)\n",
    "print(eval(a))\n",
    "type(eval(a))"
   ]
  },
  {
   "cell_type": "markdown",
   "metadata": {},
   "source": [
    "- filter : 첫번째 인수로 함수이름을, 두번째 인수로 함수에 차례로 들어갈 반복 가능한 자료형을 받는다.\n",
    "  - 첫번째 함수에 두번째 인수들을 넣어 True만 참인 것만 묶어서 돌려준다."
   ]
  },
  {
   "cell_type": "code",
   "execution_count": 118,
   "metadata": {},
   "outputs": [
    {
     "name": "stdout",
     "output_type": "stream",
     "text": [
      "[1, 2, 6]\n"
     ]
    }
   ],
   "source": [
    "def positive(l):\n",
    "    result = []\n",
    "    for i in l :\n",
    "        if i > 0 :\n",
    "            result.append(i)\n",
    "    return result\n",
    "\n",
    "print(positive([1,-3,2,0,-5,6]))"
   ]
  },
  {
   "cell_type": "code",
   "execution_count": 119,
   "metadata": {},
   "outputs": [
    {
     "name": "stdout",
     "output_type": "stream",
     "text": [
      "[1, 2, 6]\n"
     ]
    }
   ],
   "source": [
    "#위와 같은 함수를 filter함수를 사용하여 간결하게 구현가능하다\n",
    "def positive(x):\n",
    "    return x > 0\n",
    "\n",
    "print(list(filter(positive, [1,-3,2,0,-5,6])))"
   ]
  },
  {
   "cell_type": "code",
   "execution_count": 120,
   "metadata": {},
   "outputs": [
    {
     "data": {
      "text/plain": [
       "[1, 2, 6]"
      ]
     },
     "execution_count": 120,
     "metadata": {},
     "output_type": "execute_result"
    }
   ],
   "source": [
    "#위의 코드는 lambda와 함께 사용하여 더울 간결하게 코드를 작성할 수 있다.\n",
    "list( filter(lambda x: x>0, [1,-3,2,0,-5,6] ))"
   ]
  },
  {
   "cell_type": "markdown",
   "metadata": {},
   "source": [
    "- hex : hex(x) x로 입력받은 값을 16진수로 변환하여 돌려주는 함수"
   ]
  },
  {
   "cell_type": "code",
   "execution_count": 121,
   "metadata": {},
   "outputs": [
    {
     "name": "stdout",
     "output_type": "stream",
     "text": [
      "0xea\n",
      "0x5\n"
     ]
    }
   ],
   "source": [
    "print(hex(234))\n",
    "print(hex(5))"
   ]
  },
  {
   "cell_type": "markdown",
   "metadata": {},
   "source": [
    "- oct : oct(x) x로 입력받은 값을 8진수로 변환하여 반환"
   ]
  },
  {
   "cell_type": "code",
   "execution_count": 151,
   "metadata": {},
   "outputs": [
    {
     "name": "stdout",
     "output_type": "stream",
     "text": [
      "0o20\n",
      "0o30071\n"
     ]
    }
   ],
   "source": [
    "print(oct(16))\n",
    "print(oct(12345))"
   ]
  },
  {
   "cell_type": "markdown",
   "metadata": {},
   "source": [
    "- id : 객체를 입력받아 객체의 고유 주소 값을 반환"
   ]
  },
  {
   "cell_type": "code",
   "execution_count": 122,
   "metadata": {},
   "outputs": [
    {
     "name": "stdout",
     "output_type": "stream",
     "text": [
      "140725363353440\n",
      "140725363353440\n"
     ]
    }
   ],
   "source": [
    "a = 3\n",
    "b = a\n",
    "print(id(a))\n",
    "print(id(b))"
   ]
  },
  {
   "cell_type": "markdown",
   "metadata": {},
   "source": [
    "- input : 사용자 입력을 받아 문자로 반환"
   ]
  },
  {
   "cell_type": "code",
   "execution_count": 126,
   "metadata": {},
   "outputs": [
    {
     "name": "stdout",
     "output_type": "stream",
     "text": [
      "여기는 프롬프트에서 보여줄 내용입니다.11\n"
     ]
    },
    {
     "data": {
      "text/plain": [
       "str"
      ]
     },
     "execution_count": 126,
     "metadata": {},
     "output_type": "execute_result"
    }
   ],
   "source": [
    "a = input('여기는 프롬프트에서 보여줄 내용입니다.')\n",
    "type(a)"
   ]
  },
  {
   "cell_type": "markdown",
   "metadata": {},
   "source": [
    "- int : 문자열 형태의 숫자나 소수점이 있는 숫자등을 정수형태로 돌려주는 함수, 정수를 입력 받으면 그대로 돌려준다."
   ]
  },
  {
   "cell_type": "code",
   "execution_count": 130,
   "metadata": {},
   "outputs": [
    {
     "data": {
      "text/plain": [
       "3"
      ]
     },
     "execution_count": 130,
     "metadata": {},
     "output_type": "execute_result"
    }
   ],
   "source": [
    "int('3')\n",
    "int(3.4)"
   ]
  },
  {
   "cell_type": "markdown",
   "metadata": {},
   "source": [
    "- str : 객체를 문자열로 반환"
   ]
  },
  {
   "cell_type": "code",
   "execution_count": 172,
   "metadata": {},
   "outputs": [
    {
     "data": {
      "text/plain": [
       "'5'"
      ]
     },
     "execution_count": 172,
     "metadata": {},
     "output_type": "execute_result"
    }
   ],
   "source": [
    "str(5)"
   ]
  },
  {
   "cell_type": "markdown",
   "metadata": {},
   "source": [
    "- isinstance : 첫번째 인수로 인스턴스, 두번째 인수로 클래스이름을 받아 인스턴스가 해당 클래스의 인스턴스인지 판단, 맞으면 True 다르면 False"
   ]
  },
  {
   "cell_type": "code",
   "execution_count": 132,
   "metadata": {},
   "outputs": [
    {
     "data": {
      "text/plain": [
       "True"
      ]
     },
     "execution_count": 132,
     "metadata": {},
     "output_type": "execute_result"
    }
   ],
   "source": [
    "class Person:\n",
    "    pass\n",
    "\n",
    "a = Person()\n",
    "isinstance(a,Person)"
   ]
  },
  {
   "cell_type": "markdown",
   "metadata": {},
   "source": [
    "- len : 입력 받은 값의 길이(요소의 전체개수) 를 반환\n",
    "  - 다차원 리스트의 경우는 첫번째 요소만 count한다.\n",
    "  - 문자열은 총길이를 반환"
   ]
  },
  {
   "cell_type": "code",
   "execution_count": 136,
   "metadata": {},
   "outputs": [
    {
     "name": "stdout",
     "output_type": "stream",
     "text": [
      "6\n",
      "3\n",
      "2\n",
      "3\n"
     ]
    }
   ],
   "source": [
    "print(len('python'))\n",
    "print(len([1,2,[3,4,5]]))\n",
    "print(len((1,'a')))\n",
    "print(len({1:'a',2:b,3:'c'}))"
   ]
  },
  {
   "cell_type": "markdown",
   "metadata": {},
   "source": [
    "- list : 반복 가능한 자료형 s를 입력받아 리스트로 반환"
   ]
  },
  {
   "cell_type": "code",
   "execution_count": 139,
   "metadata": {},
   "outputs": [
    {
     "name": "stdout",
     "output_type": "stream",
     "text": [
      "[1, 2, 3, 4, 5]\n",
      "['p', 'y', 't', 'h', 'o', 'n']\n",
      "[1, 2, 3]\n"
     ]
    }
   ],
   "source": [
    "print(list((1,2,3,4,5)))\n",
    "print(list('python'))\n",
    "print(list({1:'a',2:b,3:'c'}))"
   ]
  },
  {
   "cell_type": "markdown",
   "metadata": {},
   "source": [
    "- map : map(f, iterable)은 함수 f와 반복가능(iterable)한 자료를 입력으로 받아 입력받은 자료형의 각 요소를 함수 f 수행결과로 묶어서 돌려주는 함수이다."
   ]
  },
  {
   "cell_type": "code",
   "execution_count": 142,
   "metadata": {},
   "outputs": [
    {
     "data": {
      "text/plain": [
       "[2, 4, 6, 8, 10]"
      ]
     },
     "execution_count": 142,
     "metadata": {},
     "output_type": "execute_result"
    }
   ],
   "source": [
    "def double(l):\n",
    "    return 2*l\n",
    "\n",
    "list(map(double, [1,2,3,4,5]))"
   ]
  },
  {
   "cell_type": "code",
   "execution_count": 143,
   "metadata": {},
   "outputs": [
    {
     "data": {
      "text/plain": [
       "[2, 4, 6, 8, 10]"
      ]
     },
     "execution_count": 143,
     "metadata": {},
     "output_type": "execute_result"
    }
   ],
   "source": [
    "#위 코드를 람다식으로 간략화 해보자\n",
    "list(map(lambda a: a*2, [1,2,3,4,5]))"
   ]
  },
  {
   "cell_type": "markdown",
   "metadata": {},
   "source": [
    "- max : max(iterable) 은 인수로 반복 가능한 자료를 입력받아 최대값을 돌려준다.\n",
    "  - 문자열을 입력받으면 제일 끝 알파벳을 리턴한다"
   ]
  },
  {
   "cell_type": "code",
   "execution_count": 148,
   "metadata": {},
   "outputs": [
    {
     "name": "stdout",
     "output_type": "stream",
     "text": [
      "z\n",
      "3\n"
     ]
    }
   ],
   "source": [
    "print(max('A Y z'))\n",
    "print(max([1,2,3]))"
   ]
  },
  {
   "cell_type": "markdown",
   "metadata": {},
   "source": [
    "- min : max의 반대"
   ]
  },
  {
   "cell_type": "markdown",
   "metadata": {},
   "source": [
    "- open : open('filename', 'mode') 파일이름과 일기방법으로 입력받아 파일 객체로 반환, mode 생략 시 읽기 전용 모드\n",
    "  - open 후 close를 해야한다, 이게 싫다면 with를 함께 사용\n",
    "```\n",
    "w\t쓰기 모드로 파일 열기\n",
    "r\t읽기 모드로 파일 열기\n",
    "a\t추가 모드로 파일 열기\n",
    "b\t바이너리 모드로 파일 열기\n",
    "```"
   ]
  },
  {
   "cell_type": "markdown",
   "metadata": {},
   "source": [
    "- pow : pow(a,b) a의 b제곱한 결과값을 돌려주는 함수"
   ]
  },
  {
   "cell_type": "code",
   "execution_count": 155,
   "metadata": {},
   "outputs": [
    {
     "name": "stdout",
     "output_type": "stream",
     "text": [
      "8\n",
      "531441\n"
     ]
    }
   ],
   "source": [
    "print(pow(2,3))\n",
    "print(pow(3,12))"
   ]
  },
  {
   "cell_type": "markdown",
   "metadata": {},
   "source": [
    "- range : range(x,y,z) 인수1개 0~x-1까지, 인수2개는 x~y-1까지, 인수3개는 x~y-1까지 z 간격으로"
   ]
  },
  {
   "cell_type": "code",
   "execution_count": 163,
   "metadata": {},
   "outputs": [
    {
     "data": {
      "text/plain": [
       "[10, 8, 6, 4, 2, 0]"
      ]
     },
     "execution_count": 163,
     "metadata": {},
     "output_type": "execute_result"
    }
   ],
   "source": [
    "list(range(10,-2,-2))"
   ]
  },
  {
   "cell_type": "markdown",
   "metadata": {},
   "source": [
    "- round : round 함수는 숫자를 입력받아 반올림 해준다.\n",
    "  - .1~5는 0쪽으로 반내림\n",
    "  - .6~9는 1쪽으로 반올림"
   ]
  },
  {
   "cell_type": "code",
   "execution_count": 165,
   "metadata": {},
   "outputs": [
    {
     "name": "stdout",
     "output_type": "stream",
     "text": [
      "5\n",
      "4\n",
      "4\n"
     ]
    }
   ],
   "source": [
    "print(round(4.6))\n",
    "print(round(4.4))\n",
    "print(round(4.5))"
   ]
  },
  {
   "cell_type": "markdown",
   "metadata": {},
   "source": [
    "- sorted : sorted(iterable) 입력값을 정렬 후 리스트로 반환"
   ]
  },
  {
   "cell_type": "code",
   "execution_count": 170,
   "metadata": {},
   "outputs": [
    {
     "data": {
      "text/plain": [
       "['e', 'o', 'r', 'z']"
      ]
     },
     "execution_count": 170,
     "metadata": {},
     "output_type": "execute_result"
    }
   ],
   "source": [
    "sorted((3,2,4))\n",
    "sorted('zero')"
   ]
  },
  {
   "cell_type": "markdown",
   "metadata": {},
   "source": [
    "- sum : sum(iterable) 입력받은 리스트나 튜플의 모든 요소합을 반환\n",
    "  - 숫자만 가능"
   ]
  },
  {
   "cell_type": "code",
   "execution_count": 175,
   "metadata": {},
   "outputs": [
    {
     "data": {
      "text/plain": [
       "9.7"
      ]
     },
     "execution_count": 175,
     "metadata": {},
     "output_type": "execute_result"
    }
   ],
   "source": [
    "sum([3,4,5])\n",
    "sum([4.2,5.5])"
   ]
  },
  {
   "cell_type": "markdown",
   "metadata": {},
   "source": [
    "- tuple : tuple(iterable) 반복가능한 자료형을 받아 튜플 형태로 반환"
   ]
  },
  {
   "cell_type": "code",
   "execution_count": 176,
   "metadata": {},
   "outputs": [
    {
     "data": {
      "text/plain": [
       "('a', 'b', 'c')"
      ]
     },
     "execution_count": 176,
     "metadata": {},
     "output_type": "execute_result"
    }
   ],
   "source": [
    "tuple('abc')"
   ]
  },
  {
   "cell_type": "markdown",
   "metadata": {},
   "source": [
    "- type : type(object) 입력받은 자료형을 반환"
   ]
  },
  {
   "cell_type": "code",
   "execution_count": 177,
   "metadata": {},
   "outputs": [
    {
     "data": {
      "text/plain": [
       "list"
      ]
     },
     "execution_count": 177,
     "metadata": {},
     "output_type": "execute_result"
    }
   ],
   "source": [
    "type([])"
   ]
  },
  {
   "cell_type": "markdown",
   "metadata": {},
   "source": [
    "- zip : zip(*iterable) : 동일한 개수로 이루어진 자료형을 묶어줌"
   ]
  },
  {
   "cell_type": "code",
   "execution_count": 178,
   "metadata": {
    "scrolled": true
   },
   "outputs": [
    {
     "data": {
      "text/plain": [
       "[(1, 4), (2, 5), (3, 6)]"
      ]
     },
     "execution_count": 178,
     "metadata": {},
     "output_type": "execute_result"
    }
   ],
   "source": [
    "list(zip([1,2,3],[4,5,6]))"
   ]
  },
  {
   "attachments": {
    "image.png": {
     "image/png": "[encoded data removed]"
    }
   },
   "cell_type": "markdown",
   "metadata": {},
   "source": [
    "### 라이브러리\n",
    "\n",
    "#### sys\n",
    "-명령행 인수전달\n",
    "```\n",
    "sys.argv : 프롬프트에서 파일 실행 시 입력한 인수들을 모듈내에서 사용\n",
    "argv       0       1   2    3\n",
    "    python test.py you need python\n",
    "> sys.argv = ['test.py', 'you', 'need', 'python']\n",
    "```\n",
    "![image.png](attachment:image.png)\n",
    "\n",
    "- 강제로 스크립트 종료\n",
    "```\n",
    "sys.exit() : 코드내에서 사용 시 프로그램 중단\n",
    "```\n",
    "\n",
    "-자신이 만든 모듈 불러와 사용\n",
    "```\n",
    "sys.path : 파이썬 모듈들이 저장되어 있는 위치, 경로에 상관없이 어디에서나 불러올 수 있다.\n",
    "sys.path.append 로 스크립트 내에서 경로를 추가가능 \n",
    "\n",
    ">>> sys.path\n",
    "['', 'C:\\\\Windows\\\\SYSTEM32\\\\python37.zip', 'c:\\\\Python37\\\\DLLs', \n",
    "'c:\\\\Python37\\\\lib', 'c:\\\\Python37', 'c:\\\\Python37\\\\lib\\\\site-packages']\n",
    "위에서 ''는 현재 디렉터리를 지칭\n",
    "```"
   ]
  },
  {
   "cell_type": "markdown",
   "metadata": {},
   "source": [
    "#### pickle\n",
    "- 객체의 형태를 그대로 유지하면서 파일에 저장, 불러올 수 있게 하는 모듈"
   ]
  },
  {
   "cell_type": "code",
   "execution_count": 1,
   "metadata": {},
   "outputs": [],
   "source": [
    ">>> import pickle\n",
    ">>> f = open(\"test.txt\", 'wb')\n",
    ">>> data = {1: 'python', 2: 'you need'}\n",
    ">>> pickle.dump(data, f)\n",
    ">>> f.close()"
   ]
  },
  {
   "cell_type": "code",
   "execution_count": 2,
   "metadata": {},
   "outputs": [
    {
     "name": "stdout",
     "output_type": "stream",
     "text": [
      "{1: 'python', 2: 'you need'}\n"
     ]
    },
    {
     "data": {
      "text/plain": [
       "{2: 'you need', 1: 'python'}"
      ]
     },
     "execution_count": 2,
     "metadata": {},
     "output_type": "execute_result"
    }
   ],
   "source": [
    ">>> import pickle\n",
    ">>> f = open(\"test.txt\", 'rb')\n",
    ">>> data = pickle.load(f)\n",
    ">>> print(data)\n",
    "{2:'you need', 1:'python'}"
   ]
  },
  {
   "cell_type": "markdown",
   "metadata": {},
   "source": [
    "#### OS\n",
    "\n",
    "- os.environ\n",
    "시스템의 환경변수 값을 알고싶을 떄 사용, 딕셔너리로 값을 돌려받는다 "
   ]
  },
  {
   "cell_type": "code",
   "execution_count": 4,
   "metadata": {},
   "outputs": [
    {
     "data": {
      "text/plain": [
       "'c:\\\\users\\\\kitri\\\\appdata\\\\local\\\\programs\\\\python\\\\python36\\\\lib\\\\site-packages\\\\pywin32_system32;C:\\\\ProgramData\\\\Oracle\\\\Java\\\\javapath;C:\\\\Program Files\\\\MariaDB 10.5\\\\bin;C:\\\\Windows\\\\system32;C:\\\\Windows;C:\\\\Windows\\\\System32\\\\Wbem;C:\\\\Windows\\\\System32\\\\WindowsPowerShell\\\\v1.0\\\\;C:\\\\Windows\\\\System32\\\\OpenSSH\\\\;C:\\\\Program Files\\\\Git\\\\cmd;C:\\\\Program Files (x86)\\\\Windows Kits\\\\10\\\\Windows Performance Toolkit\\\\;C:\\\\Program Files\\\\dotnet\\\\;C:\\\\Program Files (x86)\\\\Windows Kits\\\\10\\\\Debuggers\\\\x64\\\\;C:\\\\Users\\\\KITRI\\\\AppData\\\\Local\\\\Programs\\\\Python\\\\Python36\\\\Scripts\\\\;C:\\\\Users\\\\KITRI\\\\AppData\\\\Local\\\\Programs\\\\Python\\\\Python36\\\\;C:\\\\Users\\\\KITRI\\\\AppData\\\\Local\\\\Microsoft\\\\WindowsApps;C:\\\\Users\\\\KITRI\\\\AppData\\\\Local\\\\Programs\\\\Microsoft VS Code\\\\bin;C:\\\\Program Files (x86)\\\\Nmap;C:\\\\Users\\\\KITRI\\\\.dotnet\\\\tools'"
      ]
     },
     "execution_count": 4,
     "metadata": {},
     "output_type": "execute_result"
    }
   ],
   "source": [
    "import os\n",
    "os.environ['PATH']"
   ]
  },
  {
   "cell_type": "markdown",
   "metadata": {},
   "source": [
    "- os.chdir\n",
    "```\n",
    "현재 위치하고 있는 디텍터리를 변경할 수 있다. a디렉터리에서 b로 이동\n",
    "```"
   ]
  },
  {
   "cell_type": "code",
   "execution_count": 5,
   "metadata": {},
   "outputs": [
    {
     "data": {
      "text/plain": [
       "'D:\\\\python'"
      ]
     },
     "execution_count": 5,
     "metadata": {},
     "output_type": "execute_result"
    }
   ],
   "source": [
    "%pwd"
   ]
  },
  {
   "cell_type": "code",
   "execution_count": 6,
   "metadata": {},
   "outputs": [],
   "source": [
    "os.chdir('C:\\\\')"
   ]
  },
  {
   "cell_type": "code",
   "execution_count": 7,
   "metadata": {},
   "outputs": [
    {
     "data": {
      "text/plain": [
       "'C:\\\\'"
      ]
     },
     "execution_count": 7,
     "metadata": {},
     "output_type": "execute_result"
    }
   ],
   "source": [
    "%pwd"
   ]
  },
  {
   "cell_type": "markdown",
   "metadata": {},
   "source": [
    "- os.getcwd\n",
    "   - 현재 자신의 디렉터리 위치를 돌려준다."
   ]
  },
  {
   "cell_type": "code",
   "execution_count": 10,
   "metadata": {},
   "outputs": [
    {
     "data": {
      "text/plain": [
       "'D:\\\\python'"
      ]
     },
     "execution_count": 10,
     "metadata": {},
     "output_type": "execute_result"
    }
   ],
   "source": [
    "os.chdir('D:\\\\python')\n",
    "os.getcwd()"
   ]
  },
  {
   "cell_type": "markdown",
   "metadata": {},
   "source": [
    "- os.system\n",
    "  - 시스템 명령어 호출하기"
   ]
  },
  {
   "cell_type": "code",
   "execution_count": 15,
   "metadata": {},
   "outputs": [
    {
     "ename": "KeyboardInterrupt",
     "evalue": "",
     "output_type": "error",
     "traceback": [
      "\u001b[1;31m---------------------------------------------------------------------------\u001b[0m",
      "\u001b[1;31mKeyboardInterrupt\u001b[0m                         Traceback (most recent call last)",
      "\u001b[1;32m<ipython-input-15-8216df40644c>\u001b[0m in \u001b[0;36m<module>\u001b[1;34m\u001b[0m\n\u001b[1;32m----> 1\u001b[1;33m \u001b[0mos\u001b[0m\u001b[1;33m.\u001b[0m\u001b[0msystem\u001b[0m\u001b[1;33m(\u001b[0m\u001b[1;34m'netstat'\u001b[0m\u001b[1;33m)\u001b[0m\u001b[1;33m\u001b[0m\u001b[1;33m\u001b[0m\u001b[0m\n\u001b[0m",
      "\u001b[1;31mKeyboardInterrupt\u001b[0m: "
     ]
    }
   ],
   "source": [
    "os.system('netstat')"
   ]
  },
  {
   "attachments": {
    "image.png": {
     "image/png": "[encoded data removed]"
    }
   },
   "cell_type": "markdown",
   "metadata": {},
   "source": [
    "![image.png](attachment:image.png)"
   ]
  },
  {
   "cell_type": "markdown",
   "metadata": {},
   "source": [
    "- os.popen\n",
    "  - 실행한 시스템 명령어의 결과값돌려받기\n",
    " \n",
    "```\n",
    "os.mkdir(디렉터리)\t디렉터리를 생성한다.\n",
    "os.rmdir(디렉터리)\t디렉터리를 삭제한다.단, 디렉터리가 비어있어야 삭제가 가능하다.\n",
    "os.unlink(파일)\t파일을 지운다.\n",
    "os.rename(src, dst)\tsrc라는 이름의 파일을 dst라는 이름으로 바꾼다.\n",
    "```"
   ]
  },
  {
   "cell_type": "code",
   "execution_count": 3,
   "metadata": {},
   "outputs": [
    {
     "name": "stdout",
     "output_type": "stream",
     "text": [
      " D 드라이브의 볼륨: 새 볼륨\n",
      " 볼륨 일련 번호: 80CF-0686\n",
      "\n",
      " D:\\python 디렉터리\n",
      "\n",
      "2021-02-22  오후 04:35    <DIR>          .\n",
      "2021-02-22  오후 04:35    <DIR>          ..\n",
      "2021-02-22  오후 01:53    <DIR>          .ipynb_checkpoints\n",
      "2020-09-22  오전 10:35               641 1.py\n",
      "2020-11-18  오전 10:58           541,182 1117 python crawling.ipynb\n",
      "2021-02-22  오전 09:15                29 argv_test.py\n",
      "2020-12-04  오후 05:46    <DIR>          capture\n",
      "2021-02-22  오후 12:15             2,068 check\n",
      "2020-09-02  오전 06:09         9,721,344 chromedriver.exe\n",
      "2020-11-17  오전 09:22         5,239,100 chromedriver_win32.zip\n",
      "2020-12-11  오전 10:54             7,659 data_chart.xlsx\n",
      "2020-12-02  오후 01:00             5,753 debug.log\n",
      "2020-11-26  오전 10:30    <DIR>          excel\n",
      "2020-12-11  오전 10:54           100,337 excel.png\n",
      "2020-11-26  오전 11:05               140 excel_merge.py\n",
      "2020-12-11  오전 10:52             6,438 excel_merge_result.xlsx\n",
      "2020-11-26  오전 11:15               493 excel_merge_test.py\n",
      "2020-12-11  오전 10:54            11,856 excel_merge_test_result.xlsx\n",
      "2020-12-04  오전 09:14           130,136 face.png\n",
      "2020-12-04  오전 09:51           151,421 face2.jpg\n",
      "2020-12-04  오전 09:38            76,744 face2.png\n",
      "2020-12-04  오전 10:37           379,417 face2edge.png\n",
      "2020-12-04  오전 10:58           211,392 face3.png\n",
      "2020-12-04  오전 11:15            10,960 family.jpg\n",
      "2020-12-04  오전 11:14             6,288 family2.jpg\n",
      "2020-11-19  오후 01:47    <DIR>          gc_test\n",
      "2020-11-19  오후 03:45             9,041 gudi_map.html\n",
      "2020-12-04  오전 10:48           676,709 haarcascade_frontalface_alt.xml\n",
      "2020-11-18  오전 11:21               425 hangle_fix.py\n",
      "2020-11-19  오후 01:06            21,022 insta_gudi_matjib.xlsx\n",
      "2020-11-19  오후 03:45           210,021 insta_gudi_Matjip.png\n",
      "2020-11-19  오전 10:18            17,181 insta_jeju_matjib.xlsx\n",
      "2020-11-19  오전 10:18           248,054 insta_jeju_Matjip.png\n",
      "2020-11-18  오전 10:53             6,099 insta_jeju_Matjip.xlsx\n",
      "2020-11-18  오후 02:33            11,752 insta_jejy_matjib.xlsx\n",
      "2020-11-18  오전 09:24               855 insta_login.py\n",
      "2020-11-18  오전 09:29             1,967 insta_search.py\n",
      "2020-11-18  오전 10:41               106 insta_searching.py\n",
      "2020-11-18  오후 02:30            14,692 INSTA_TOTAL_AUTOLOGIN~WORDCLOUD.ipynb\n",
      "2020-11-19  오전 10:49           526,772 INSTA_TOTAL_AUTOLOGIN~WORDCLOUD_readexcel_gps_mapmark.ipynb\n",
      "2020-11-19  오후 12:27           526,761 INSTA_TOTAL_AUTOLOGIN~WORDCLOUD_readexcel_gps_mapmark_cp.ipynb\n",
      "2020-11-19  오후 03:43           473,955 INSTA_TOTAL_AUTOLOGIN~WORDCLOUD_readexcel_gps_mapmark_gudi.ipynb\n",
      "2020-11-19  오전 11:34            12,057 jeju_map.html\n",
      "2020-11-27  오후 01:42            18,330 jy_for_excel.ipynb\n",
      "2020-11-27  오전 09:04             1,607 jy_for_excel.zip\n",
      "2020-11-19  오후 03:45             6,408 locations.xlsx\n",
      "2020-11-19  오후 03:45             5,800 location_inform.xlsx\n",
      "2020-10-27  오전 10:48                 0 notepad\n",
      "2020-12-04  오후 01:12           457,885 openCV 기초.ipynb\n",
      "2020-12-04  오후 05:45         1,261,264 OpenCV기초.zip\n",
      "2020-11-19  오전 11:13           590,904 opinet1.png\n",
      "2020-11-19  오전 11:08           590,991 opinet2.png\n",
      "2020-12-02  오전 10:40    <DIR>          pdf\n",
      "2020-12-02  오전 10:40           985,724 pdf.zip\n",
      "2020-12-02  오후 01:00            10,777 pdf핸들링.ipynb\n",
      "2020-11-26  오전 09:23            12,841 pytoex.xlsx\n",
      "2020-10-16  오후 03:23               256 query.sql\n",
      "2020-11-19  오전 09:41               559 search.py\n",
      "2020-11-30  오후 02:12             6,523 seoul_sgg_list.xlsx\n",
      "2020-11-30  오후 01:01            37,771 starbucks_storelist.xlsx\n",
      "2020-12-01  오후 12:49         1,267,000 starbuks 크롤링.ipynb\n",
      "2020-11-20  오전 09:13               573 supplier_data.csv\n",
      "2020-12-04  오전 11:15             5,670 test.jpg\n",
      "2020-12-04  오전 09:27            56,621 test.png\n",
      "2021-02-22  오후 12:18               372 test.py\n",
      "2021-02-22  오후 02:50                40 test.txt\n",
      "2020-12-04  오전 11:17             6,349 test2.jpg\n",
      "2021-01-07  오후 04:20                62 test_test_test_.py\n",
      "2021-01-07  오후 04:21                62 test_test_test_2.py\n",
      "2021-01-07  오후 03:36               595 transpositionDecrypt.py\n",
      "2021-01-07  오후 03:36               757 transpositionEncrypt.py\n",
      "2020-11-27  오전 09:03             3,740 Untitled.ipynb\n",
      "2020-12-04  오전 11:17             1,601 Untitled.zip\n",
      "2020-11-27  오전 09:01             1,601 Untitled.zip.old\n",
      "2020-09-29  오전 10:42             6,976 Untitled1.ipynb\n",
      "2020-09-29  오전 10:45             5,066 Untitled2.ipynb\n",
      "2020-11-19  오후 03:38           229,350 Untitled3.ipynb\n",
      "2020-11-19  오후 03:38            13,512 Untitled4.ipynb\n",
      "2020-11-20  오후 01:46               555 Untitled5.ipynb\n",
      "2021-01-07  오후 04:23             2,916 Untitled6.ipynb\n",
      "2021-02-22  오후 04:35             5,933 Untitled7.ipynb\n",
      "2021-02-22  오후 01:44             3,760 Untitled8.ipynb\n",
      "2021-02-22  오후 04:35            10,776 Untitled9.ipynb\n",
      "2020-11-18  오전 11:22           389,015 [수업] 크롤링&워드클라우드 - 복사본.ipynb\n",
      "2020-11-18  오전 10:28           162,484 [수업] 크롤링_1 - 복사본.ipynb\n",
      "2021-01-07  오후 04:21    <DIR>          __pycache__\n",
      "2020-12-02  오후 01:00         1,275,360 다나와 크롤링.ipynb\n",
      "2020-12-02  오전 10:30            12,571 다나와검색결과.xlsx\n",
      "2020-11-26  오전 10:07            13,735 담당자별_판매량_Andy사원.xlsx\n",
      "2020-12-11  오전 10:53             5,631 담당자별_판매량_andy사원2.xlsx\n",
      "2020-12-11  오전 10:53             5,635 담당자별_판매량_Andy사원5.xlsx\n",
      "2020-11-26  오전 10:07            13,628 담당자별_판매량_Becky사원.xlsx\n",
      "2020-12-11  오전 10:53             5,633 담당자별_판매량_Becky사원5.xlsx\n",
      "2020-11-26  오전 10:07            13,651 담당자별_판매량_Chris사원.xlsx\n",
      "2020-12-11  오전 10:53             5,637 담당자별_판매량_Chris사원5.xlsx\n",
      "2020-11-27  오전 10:55            10,872 담당자별_판매량_통합.xlsx\n",
      "2020-11-30  오후 02:47             6,263 서울시 시군구 사업체종사자.xlsx\n",
      "2020-11-30  오후 02:51           116,832 서울시 열린데이터 광장 API.ipynb\n",
      "2020-11-30  오후 02:25             6,037 서울시군구 인구데이터.xlsx\n",
      "2020-11-18  오후 01:10            14,808 수업]크롤링&워드클라우드.ipynb\n",
      "2021-01-07  오후 04:39            79,170 암호학.ipynb\n",
      "2021-01-06  오전 09:47           274,817 어서와 파이썬은 처음이지.ipynb\n",
      "2020-12-11  오전 11:06           193,057 엑셀핸들링.ipynb\n",
      "2020-12-11  오전 10:49            96,766 엑셀핸들링python.zip\n",
      "2020-11-27  오전 09:01             1,609 재영_포문_엑셀.zip\n",
      "2020-11-20  오후 02:06             4,905 파이썬 & MariaDB 연동.ipynb\n",
      "2020-12-11  오전 10:52             6,250 학생시험성적.xlsx\n",
      "              99개 파일          27,686,760 바이트\n",
      "               8개 디렉터리  642,338,979,840 바이트 남음\n",
      "\n"
     ]
    }
   ],
   "source": [
    "import os\n",
    "f = os.popen('dir')\n",
    "print(f.read())"
   ]
  },
  {
   "cell_type": "markdown",
   "metadata": {},
   "source": [
    "#### shutil\n",
    "- 파일을 복사\n",
    "- shutil.copy('a','b') 했을 때 a의 파일을 b라는 이름으로 복사, 만약 b가 디렉터리 이름이라면 a라는 파일 이름으로 b디렉터리에 복사하고 동일한 파일 이름이 있다면 덮어씌운다."
   ]
  },
  {
   "cell_type": "code",
   "execution_count": 4,
   "metadata": {},
   "outputs": [
    {
     "data": {
      "text/plain": [
       "'testtt'"
      ]
     },
     "execution_count": 4,
     "metadata": {},
     "output_type": "execute_result"
    }
   ],
   "source": [
    "import shutil\n",
    "shutil.copy('test.txt','testtt')"
   ]
  },
  {
   "cell_type": "markdown",
   "metadata": {},
   "source": [
    "- tempfile\n",
    "  - 파일을 임시로 만들어 사용\n",
    "- tempfile.TemporaryFile() \n",
    "  - 임시 저장 공간으로 사용할 파일 객체를 돌려준다, 기본적으로 바이너리 쓰기 모드(wb), f.close()가 호출되면 이 파일객체는 자동으로 사라진다."
   ]
  },
  {
   "cell_type": "code",
   "execution_count": 6,
   "metadata": {},
   "outputs": [
    {
     "data": {
      "text/plain": [
       "(6, 'C:\\\\Users\\\\Public\\\\Documents\\\\ESTsoft\\\\CreatorTemp\\\\tmpd1g2fwg9')"
      ]
     },
     "execution_count": 6,
     "metadata": {},
     "output_type": "execute_result"
    }
   ],
   "source": [
    "import tempfile\n",
    "filename = tempfile.mkstemp()\n",
    "filename"
   ]
  },
  {
   "cell_type": "code",
   "execution_count": 9,
   "metadata": {},
   "outputs": [],
   "source": [
    "f = tempfile.TemporaryFile()\n",
    "f.close()"
   ]
  },
  {
   "cell_type": "markdown",
   "metadata": {},
   "source": [
    "#### time\n",
    "\n",
    "- time.time()\n",
    "  - 1970 . 01 . 0시 0분 기준으로 현재까지 몇시간이 지났나 초단위로 반환"
   ]
  },
  {
   "cell_type": "code",
   "execution_count": 10,
   "metadata": {},
   "outputs": [
    {
     "data": {
      "text/plain": [
       "1613980896.6674213"
      ]
     },
     "execution_count": 10,
     "metadata": {},
     "output_type": "execute_result"
    }
   ],
   "source": [
    "import time\n",
    "time.time()"
   ]
  },
  {
   "cell_type": "markdown",
   "metadata": {},
   "source": [
    "- time.localtime()\n",
    "  - time.time()이 돌려준 실수 값을 연, 월, 일, 시, 분, 초 로바꿔줌"
   ]
  },
  {
   "cell_type": "code",
   "execution_count": 11,
   "metadata": {},
   "outputs": [
    {
     "data": {
      "text/plain": [
       "time.struct_time(tm_year=2021, tm_mon=2, tm_mday=22, tm_hour=17, tm_min=2, tm_sec=17, tm_wday=0, tm_yday=53, tm_isdst=0)"
      ]
     },
     "execution_count": 11,
     "metadata": {},
     "output_type": "execute_result"
    }
   ],
   "source": [
    "time.localtime(time.time())"
   ]
  },
  {
   "cell_type": "markdown",
   "metadata": {},
   "source": [
    "- time.asctime\n",
    "  - locationtime에서 반환된 튜플 형태의 값을인수로 받아와 날짜와 시간을 알아보기 쉬운 형태로 반환"
   ]
  },
  {
   "cell_type": "code",
   "execution_count": 12,
   "metadata": {},
   "outputs": [
    {
     "data": {
      "text/plain": [
       "'Mon Feb 22 17:04:03 2021'"
      ]
     },
     "execution_count": 12,
     "metadata": {},
     "output_type": "execute_result"
    }
   ],
   "source": [
    "time.asctime(time.localtime(time.time()))"
   ]
  },
  {
   "cell_type": "markdown",
   "metadata": {},
   "source": [
    "- time.strftime\n",
    "  - 시간에 관계된 것을 세밀하게 표현하는 여러 포맷 코드 제공\n",
    "```\n",
    "포맷코드\t  설명\t                                예\n",
    "%a\t        요일 줄임말\t                         Mon\n",
    "%A        \t요일\t                                Monday\n",
    "%b\t        달 줄임말\t                           Jan\n",
    "%B\t        달\t                                  January\n",
    "%c\t        날짜와 시간을 출력함\t                06/01/01 17:22:21\n",
    "%d\t        날(day)\t                             [01,31]\n",
    "%H\t        시간(hour)-24시간 출력 형태\t         [00,23]\n",
    "%I\t        시간(hour)-12시간 출력 형태\t         [01,12]\n",
    "%j\t        1년 중 누적 날짜\t                    [001,366]\n",
    "%m\t        달\t                                  [01,12]\n",
    "%M\t        분\t                                  [01,59]\n",
    "%p\t        AM or PM\t                            AM\n",
    "%S\t        초\t                                  [00,59]\n",
    "%U\t        1년 중 누적 주-일요일을 시작으로\t    [00,53]\n",
    "%w\t        숫자로 된 요일\t                      [0(일요일),6]\n",
    "%W\t        1년 중 누적 주-월요일을 시작으로\t    [00,53]\n",
    "%x\t        현재 설정된 로케일에 기반한 날짜 출력   06/01/01\n",
    "%X\t        현재 설정된 로케일에 기반한 시간 출력   17:22:21\n",
    "%Y\t        년도 출력\t                           2001\n",
    "%Z\t        시간대 출력\t                         대한민국 표준시\n",
    "%%\t        문자\t                                %\n",
    "%y\t        세기부분을 제외한 년도 출력\t         01\n",
    "```"
   ]
  },
  {
   "cell_type": "code",
   "execution_count": 19,
   "metadata": {},
   "outputs": [
    {
     "data": {
      "text/plain": [
       "'PM Mon Feb 22 17:13:14 2021 '"
      ]
     },
     "execution_count": 19,
     "metadata": {},
     "output_type": "execute_result"
    }
   ],
   "source": [
    "import time\n",
    "time.strftime('%p %c ', time.localtime(time.time()))"
   ]
  },
  {
   "cell_type": "markdown",
   "metadata": {},
   "source": [
    "- time.spleep\n",
    "  - 일정한 시간간격을 두고 루프를 실행가능"
   ]
  },
  {
   "cell_type": "code",
   "execution_count": 20,
   "metadata": {},
   "outputs": [
    {
     "name": "stdout",
     "output_type": "stream",
     "text": [
      "0\n",
      "1\n",
      "2\n",
      "3\n",
      "4\n",
      "5\n",
      "6\n",
      "7\n",
      "8\n",
      "9\n"
     ]
    }
   ],
   "source": [
    "import time\n",
    "for i in range(10):\n",
    "    print(i)\n",
    "    time.sleep(0.3)"
   ]
  },
  {
   "cell_type": "markdown",
   "metadata": {},
   "source": [
    "#### calendar\n",
    "\n",
    "- calendar.calendar(연도) : 해당 년도의 전체 달력을 볼 수 있다.\n",
    "- calendar.prcal(연도) : 위와 동일\n",
    "- calendar.prmonth(연도, 월) : 특정년도 특정월을 볼 수 있다."
   ]
  },
  {
   "cell_type": "code",
   "execution_count": 24,
   "metadata": {},
   "outputs": [
    {
     "name": "stdout",
     "output_type": "stream",
     "text": [
      "   February 2021\n",
      "Mo Tu We Th Fr Sa Su\n",
      " 1  2  3  4  5  6  7\n",
      " 8  9 10 11 12 13 14\n",
      "15 16 17 18 19 20 21\n",
      "22 23 24 25 26 27 28\n",
      "None\n"
     ]
    }
   ],
   "source": [
    "import calendar\n",
    "print(calendar.prmonth(2021, 2))"
   ]
  },
  {
   "cell_type": "markdown",
   "metadata": {},
   "source": [
    "- calendar.weekday\n",
    "  - weekday(연도,월,일) : 해당하는 날짜의 요일정보를 돌려줌 월~일(0~6)"
   ]
  },
  {
   "cell_type": "code",
   "execution_count": 26,
   "metadata": {},
   "outputs": [
    {
     "data": {
      "text/plain": [
       "0"
      ]
     },
     "execution_count": 26,
     "metadata": {},
     "output_type": "execute_result"
    }
   ],
   "source": [
    "calendar.weekday(2021,2,22)"
   ]
  },
  {
   "cell_type": "markdown",
   "metadata": {},
   "source": [
    "- calendar.monthrange\n",
    "  - monthrange(연도, 월) 입력받은 달 1일의 요일과 달의 일수를 튜플 형태로 반환"
   ]
  },
  {
   "cell_type": "code",
   "execution_count": 27,
   "metadata": {},
   "outputs": [
    {
     "data": {
      "text/plain": [
       "(0, 28)"
      ]
     },
     "execution_count": 27,
     "metadata": {},
     "output_type": "execute_result"
    }
   ],
   "source": [
    "calendar.monthrange(2021,2)"
   ]
  },
  {
   "cell_type": "markdown",
   "metadata": {},
   "source": [
    "### random\n",
    "- random() : 0.0 ~ 1.0 사이 실수 중 하나를 돌려줌\n",
    "- randint(a,b) : a ~ b 사이 정수를 돌려줌"
   ]
  },
  {
   "cell_type": "code",
   "execution_count": 29,
   "metadata": {},
   "outputs": [
    {
     "data": {
      "text/plain": [
       "0.31220441318463543"
      ]
     },
     "execution_count": 29,
     "metadata": {},
     "output_type": "execute_result"
    }
   ],
   "source": [
    "import random\n",
    "random.random()"
   ]
  },
  {
   "cell_type": "code",
   "execution_count": 30,
   "metadata": {},
   "outputs": [
    {
     "data": {
      "text/plain": [
       "9"
      ]
     },
     "execution_count": 30,
     "metadata": {},
     "output_type": "execute_result"
    }
   ],
   "source": [
    "random.randint(1,10)"
   ]
  },
  {
   "cell_type": "markdown",
   "metadata": {},
   "source": [
    "- random.choice(a) : a의 요소중 무작위로 하나를 돌려줌"
   ]
  },
  {
   "cell_type": "code",
   "execution_count": 32,
   "metadata": {},
   "outputs": [
    {
     "name": "stdout",
     "output_type": "stream",
     "text": [
      "3\n",
      "2\n",
      "4\n",
      "1\n",
      "5\n"
     ]
    }
   ],
   "source": [
    "def random_pop(data):\n",
    "    number = random.choice(data)\n",
    "    data.remove(number)\n",
    "    return number\n",
    "\n",
    "data = [1,2,3,4,5]\n",
    "while data :\n",
    "    print(random_pop(data))"
   ]
  },
  {
   "cell_type": "markdown",
   "metadata": {},
   "source": [
    "- random.shuffle  : 리스트항목을 무작위로 섞을 때"
   ]
  },
  {
   "cell_type": "code",
   "execution_count": 33,
   "metadata": {},
   "outputs": [
    {
     "data": {
      "text/plain": [
       "[5, 2, 1, 4, 3]"
      ]
     },
     "execution_count": 33,
     "metadata": {},
     "output_type": "execute_result"
    }
   ],
   "source": [
    "data = [1,2,3,4,5]\n",
    "random.shuffle(data)\n",
    "data"
   ]
  },
  {
   "cell_type": "markdown",
   "metadata": {},
   "source": [
    "### webbrowser\n",
    "- webbrowser의 open('주소')함수는 웹 브라우저가 이미 실행된 상태라면 입력 주소로 이동,  아니라면 새로 웹 브라우저를 실행한다.\n",
    "- open_new('주소) 함수는 새로운 브라우저 창을 연다"
   ]
  },
  {
   "cell_type": "code",
   "execution_count": 36,
   "metadata": {},
   "outputs": [
    {
     "data": {
      "text/plain": [
       "True"
      ]
     },
     "execution_count": 36,
     "metadata": {},
     "output_type": "execute_result"
    }
   ],
   "source": [
    "import webbrowser\n",
    "webbrowser.open('http://daum.net')"
   ]
  },
  {
   "cell_type": "code",
   "execution_count": 37,
   "metadata": {},
   "outputs": [
    {
     "data": {
      "text/plain": [
       "True"
      ]
     },
     "execution_count": 37,
     "metadata": {},
     "output_type": "execute_result"
    }
   ],
   "source": [
    "webbrowser.open('http://naver.com') #위에서 실행한 브라우저가 바뀌지않고 새로열렷다.."
   ]
  },
  {
   "cell_type": "markdown",
   "metadata": {},
   "source": [
    "### threading 모듈\n",
    "- 1개의 프로세스는 한가지일을 수행하지만 스레드를 사용하면 한 프로세스 안에서 2가지 또는 그 이상의 일을 동시에 수행할 수 있다."
   ]
  },
  {
   "cell_type": "code",
   "execution_count": 41,
   "metadata": {},
   "outputs": [
    {
     "name": "stdout",
     "output_type": "stream",
     "text": [
      "Start\n",
      "working0 : 0 1 2 3 4 \n",
      "working1 : 0 1 2 3 4 \n",
      "working2 : 0 1 2 3 4 \n",
      "working3 : 0 1 2 3 4 \n",
      "working4 : 0 1 2 3 4 \n",
      "End\n"
     ]
    }
   ],
   "source": [
    "#기본 스크립트 - 이 코드는 총 작업을 완료하는데 12.5초(5*0.5)가 소요된다.\n",
    "import time\n",
    "\n",
    "def long_task():  # 5초의 시간이 걸리는 함수\n",
    "    for i in range(5):\n",
    "        time.sleep(0.5)  # 1초간 대기한다.\n",
    "        print(\"%s\"% i, end=' ')\n",
    "\n",
    "print(\"Start\")\n",
    "for i in range(5):  # long_task를 5회 수행한다.\n",
    "    print('working%s : '%i,end='');long_task();print()\n",
    "print(\"End\")"
   ]
  },
  {
   "cell_type": "code",
   "execution_count": 47,
   "metadata": {},
   "outputs": [
    {
     "name": "stdout",
     "output_type": "stream",
     "text": [
      "Start\n",
      "<Thread(Thread-31, initial)> Thread working start\n",
      "<Thread(Thread-32, initial)> Thread working start\n",
      "<Thread(Thread-33, initial)> Thread working start\n",
      "<Thread(Thread-34, initial)> Thread working start\n",
      "<Thread(Thread-35, initial)> Thread working start\n",
      "000   00  11111     222   22  33 333    44444  <Thread(Thread-31, stopped 12988)> Thread working finish \n",
      "  <Thread(Thread-32, stopped 2440)> Thread working finish\n",
      "<Thread(Thread-33, stopped 7172)> Thread working finish\n",
      "<Thread(Thread-34, stopped 4968)> Thread working finish\n",
      "<Thread(Thread-35, stopped 6960)> Thread working finish\n",
      "End\n"
     ]
    }
   ],
   "source": [
    "#쓰레드 적용 - 이 코드는 5개의 쓰레드가 각각 작업을 수행을한다.\n",
    "import time\n",
    "import threading  # 스레드를 생성하기 위해서는 threading 모듈이 필요하다.\n",
    "\n",
    "def long_task():\n",
    "    for i in range(5):\n",
    "        time.sleep(0.5)\n",
    "        print(\"%s\"% i, end=' ')\n",
    "\n",
    "print(\"Start\")\n",
    "\n",
    "threads = []\n",
    "for i in range(5):\n",
    "    t = threading.Thread(target=long_task)  # 스레드를 생성한다.\n",
    "    threads.append(t) \n",
    "\n",
    "for t in threads:\n",
    "    print('%s Thread working start'%t)\n",
    "    t.start()  # 스레드를 실행한다.\n",
    "    #t.join() 이 곳에 넣으면 이전 스레드가 작업한것을 끝낼때까지 대기한다.\n",
    "\n",
    "for t in threads:\n",
    "    t.join()  #각 쓰레드 객체별로 돌려주어야한다.\n",
    "    print('%s Thread working finish'%t)\n",
    "    \n",
    "print(\"End\") #작업은 시작하지만 end가 되지않는다. t.join()으로종료할 때까지 대기해야한다.."
   ]
  },
  {
   "attachments": {
    "image-2.png": {
     "image/png": "[encoded data removed]"
    },
    "image.png": {
     "image/png": "[encoded data removed]"
    }
   },
   "cell_type": "markdown",
   "metadata": {},
   "source": [
    "t.join을 없이 돌렸을 때\n",
    "![image.png](attachment:image.png)\n",
    "t.join을 추가 후 돌렸을 때\n",
    "![image-2.png](attachment:image-2.png)"
   ]
  },
  {
   "cell_type": "markdown",
   "metadata": {},
   "source": [
    "### 연습문제"
   ]
  },
  {
   "cell_type": "markdown",
   "metadata": {},
   "source": [
    "```\n",
    "Q1\n",
    "다음은 Calculator 클래스이다.\n",
    "\n",
    "class Calculator:\n",
    "    def __init__(self):\n",
    "        self.value = 0\n",
    "\n",
    "    def add(self, val):\n",
    "        self.value += val\n",
    "위 클래스를 상속하는 UpgradeCalculator를 만들고 값을 뺄 수 있는 minus 메서드를 추가해 보자. 즉 다음과 같이 동작하는 클래스를 만들어야 한다.\n",
    "\n",
    "cal = UpgradeCalculator()\n",
    "cal.add(10)\n",
    "cal.minus(7)\n",
    "\n",
    "print(cal.value) # 10에서 7을 뺀 3을 출력\n",
    "```"
   ]
  },
  {
   "cell_type": "code",
   "execution_count": 3,
   "metadata": {},
   "outputs": [
    {
     "name": "stdout",
     "output_type": "stream",
     "text": [
      "3\n"
     ]
    }
   ],
   "source": [
    "class Calculator:\n",
    "    def __init__(self):\n",
    "        self.value = 0\n",
    "\n",
    "    def add(self, val):\n",
    "        self.value += val\n",
    "\n",
    "class UpgradeCalculator(Calculator):\n",
    "    def minus(self, val):\n",
    "        self.value-=val\n",
    "        \n",
    "cal = UpgradeCalculator()\n",
    "cal.add(10)\n",
    "cal.minus(7)\n",
    "\n",
    "print(cal.value)"
   ]
  },
  {
   "cell_type": "markdown",
   "metadata": {},
   "source": [
    "```\n",
    "Q2\n",
    "객체변수 value가 100 이상의 값은 가질 수 없도록 제한하는 MaxLimitCalculator 클래스를 만들어 보자. 즉 다음과 같이 동작해야 한다.\n",
    "\n",
    "cal = MaxLimitCalculator()\n",
    "cal.add(50) # 50 더하기\n",
    "cal.add(60) # 60 더하기\n",
    "\n",
    "print(cal.value) # 100 출력\n",
    "단 반드시 다음과 같은 Calculator 클래스를 상속해서 만들어야 한다.\n",
    "\n",
    "class Calculator:\n",
    "    def __init__(self):\n",
    "        self.value = 0\n",
    "\n",
    "    def add(self, val):\n",
    "        self.value += val\n",
    "```"
   ]
  },
  {
   "cell_type": "code",
   "execution_count": 4,
   "metadata": {},
   "outputs": [
    {
     "name": "stdout",
     "output_type": "stream",
     "text": [
      "100\n"
     ]
    }
   ],
   "source": [
    "class Calculator:\n",
    "    def __init__(self):\n",
    "        self.value = 0\n",
    "\n",
    "    def add(self, val):\n",
    "        self.value += val\n",
    "        \n",
    "class MaxLimitCalculator(Calculator):\n",
    "    def add(self, val):\n",
    "        if (self.value + val) >= 100 :\n",
    "            self.value = 100\n",
    "        else:\n",
    "            self.value+=val\n",
    "            \n",
    "cal = MaxLimitCalculator()\n",
    "cal.add(50)\n",
    "cal.add(60)\n",
    "print(cal.value)"
   ]
  },
  {
   "cell_type": "markdown",
   "metadata": {},
   "source": [
    "```\n",
    "Q3\n",
    "다음 결과를 예측해 보자.\n",
    "\n",
    "하나.\n",
    "\n",
    ">>> all([1, 2, abs(-3)-3])\n",
    "abs(-3)-3 부분이 0이 오기때문에 false반환\n",
    "\n",
    "둘.\n",
    "\n",
    ">>> chr(ord('a')) == 'a'\n",
    "ord는 입력받은 텍스트를 아스키코드로 바꾸고 chr은 입력받은 아스키코드값을 문자열로 바꾼다. 결과는 True\n",
    "```"
   ]
  },
  {
   "cell_type": "markdown",
   "metadata": {},
   "source": [
    "```\n",
    "Q4\n",
    "filter와 lambda를 사용하여 리스트 [1, -2, 3, -5, 8, -3]에서 음수를 모두 제거해 보자.\n",
    "```"
   ]
  },
  {
   "cell_type": "code",
   "execution_count": 18,
   "metadata": {},
   "outputs": [
    {
     "name": "stdout",
     "output_type": "stream",
     "text": [
      "[<function <lambda> at 0x000002E593CB04C0>, [1, -2, 3, -5, 8, -3]]\n"
     ]
    }
   ],
   "source": [
    "x = [1, -2, 3, -5, 8, -3]\n",
    "x = [lambda z : z>0, x]\n",
    "print(x)"
   ]
  },
  {
   "cell_type": "markdown",
   "metadata": {},
   "source": [
    "```\n",
    "Q5\n",
    "234라는 10진수의 16진수는 다음과 같이 구할 수 있다.\n",
    "\n",
    ">>> hex(234)\n",
    "'0xea'\n",
    "이번에는 반대로 16진수 문자열 0xea를 10진수로 변경해 보자.\n",
    "\n",
    "※ 내장 함수 int를 활용해 보자.\n",
    "```"
   ]
  },
  {
   "cell_type": "code",
   "execution_count": 24,
   "metadata": {},
   "outputs": [
    {
     "name": "stdout",
     "output_type": "stream",
     "text": [
      "0xea\n",
      "234\n"
     ]
    }
   ],
   "source": [
    "d = 234\n",
    "h = hex(d)\n",
    "print(h)\n",
    "d = int(h, 16)\n",
    "print(d)"
   ]
  },
  {
   "cell_type": "markdown",
   "metadata": {},
   "source": [
    "```\n",
    "Q6\n",
    "map과 lambda를 사용하여 [1, 2, 3, 4] 리스트의 각 요솟값에 3이 곱해진 리스트 [3, 6, 9, 12]를 만들어 보자.\n",
    "```"
   ]
  },
  {
   "cell_type": "code",
   "execution_count": 36,
   "metadata": {},
   "outputs": [
    {
     "name": "stdout",
     "output_type": "stream",
     "text": [
      "[3, 6, 9, 12]\n"
     ]
    }
   ],
   "source": [
    "test_li = list(map(lambda x : x*3, [1,2,3,4]))\n",
    "print(test_li)"
   ]
  },
  {
   "cell_type": "markdown",
   "metadata": {},
   "source": [
    "```\n",
    "Q7\n",
    "다음 리스트의 최댓값과 최솟값의 합을 구해 보자.\n",
    "\n",
    "[-8, 2, 7, 5, -3, 5, 0, 1] \n",
    "```"
   ]
  },
  {
   "cell_type": "code",
   "execution_count": 38,
   "metadata": {},
   "outputs": [
    {
     "name": "stdout",
     "output_type": "stream",
     "text": [
      "-1\n"
     ]
    }
   ],
   "source": [
    "a = [-8, 2, 7, 5, -3, 5, 0, 1] \n",
    "print(max(a)+min(a))"
   ]
  },
  {
   "cell_type": "markdown",
   "metadata": {},
   "source": [
    "```\n",
    "Q8\n",
    "17 / 3의 결과는 다음과 같다.\n",
    "\n",
    ">>> 17 / 3\n",
    "5.666666666666667\n",
    "위와 같은 결괏값 5.666666666666667을 소숫점 4자리까지만 반올림하여 표시해 보자.\n",
    "```"
   ]
  },
  {
   "cell_type": "code",
   "execution_count": 45,
   "metadata": {},
   "outputs": [
    {
     "name": "stdout",
     "output_type": "stream",
     "text": [
      "5.6667\n",
      "5.6667\n"
     ]
    }
   ],
   "source": [
    "print(round(17/3,4))\n",
    "\n",
    "a = 17/3\n",
    "print(f'{a:0.4f}')"
   ]
  },
  {
   "cell_type": "markdown",
   "metadata": {},
   "source": [
    "```\n",
    "Q9\n",
    "다음과 같이 실행할 때 입력값을 모두 더하여 출력하는 스크립트(C:\\doit\\myargv.py)를 작성해 보자.\n",
    "\n",
    "C:\\> cd doit\n",
    "C:\\doit> python myargv.py 1 2 3 4 5 6 7 8 9 10\n",
    "55\n",
    "※ 외장 함수 sys.argv를 사용해 보자.\n",
    "```"
   ]
  },
  {
   "cell_type": "code",
   "execution_count": 48,
   "metadata": {},
   "outputs": [
    {
     "name": "stdout",
     "output_type": "stream",
     "text": [
      "Overwriting myargv.py\n"
     ]
    }
   ],
   "source": [
    "%%writefile myargv.py\n",
    "from sys import argv\n",
    "result = 0\n",
    "for i in argv[1:] :\n",
    "    result+=int(i)\n",
    "print(result)"
   ]
  },
  {
   "attachments": {
    "image.png": {
     "image/png": "[encoded data removed]"
    }
   },
   "cell_type": "markdown",
   "metadata": {},
   "source": [
    "![image.png](attachment:image.png)"
   ]
  },
  {
   "cell_type": "markdown",
   "metadata": {},
   "source": [
    "```\n",
    "Q10\n",
    "os 모듈을 사용하여 다음과 같이 동작하도록 코드를 작성해 보자.\n",
    "\n",
    "C:\\doit 디렉터리로 이동한다.\n",
    "dir 명령을 실행하고 그 결과를 변수에 담는다.\n",
    "dir 명령의 결과를 출력한다.\n",
    "```"
   ]
  },
  {
   "cell_type": "code",
   "execution_count": 55,
   "metadata": {},
   "outputs": [
    {
     "name": "stdout",
     "output_type": "stream",
     "text": [
      " C 드라이브의 볼륨에는 이름이 없습니다.\n",
      " 볼륨 일련 번호: 8C87-4B56\n",
      "\n",
      " C:\\doit 디렉터리\n",
      "\n",
      "21-02-22(월)  오후 07:59    <DIR>          .\n",
      "21-02-22(월)  오후 07:59    <DIR>          ..\n",
      "               0개 파일                   0 바이트\n",
      "               2개 디렉터리  157,195,571,200 바이트 남음\n",
      "\n"
     ]
    }
   ],
   "source": [
    "import os\n",
    "if os.path.isdir('C:\\doit') != True :\n",
    "    os.mkdir('C:\\doit')\n",
    "    \n",
    "os.chdir('C:\\doit')\n",
    "f = os.popen('dir')\n",
    "print(f.read())"
   ]
  },
  {
   "cell_type": "markdown",
   "metadata": {},
   "source": [
    "```\n",
    "Q12\n",
    "time 모듈을 사용하여 현재 날짜와 시간을 다음과 같은 형식으로 출력해 보자.\n",
    "\n",
    "2018/04/03 17:20:32\n",
    "```"
   ]
  },
  {
   "cell_type": "code",
   "execution_count": 56,
   "metadata": {},
   "outputs": [
    {
     "data": {
      "text/plain": [
       "'2021/02/22 20:01:15'"
      ]
     },
     "execution_count": 56,
     "metadata": {},
     "output_type": "execute_result"
    }
   ],
   "source": [
    "import time\n",
    "\n",
    "time.strftime('%Y/%m/%d %X', time.localtime(time.time()))"
   ]
  },
  {
   "cell_type": "markdown",
   "metadata": {},
   "source": [
    "```\n",
    "Q13\n",
    "random 모듈을 사용하여 로또 번호(1~45 사이의 숫자 6개)를 생성해 보자(단 중복된 숫자가 있으면 안 됨).\n",
    "```"
   ]
  },
  {
   "cell_type": "code",
   "execution_count": 72,
   "metadata": {},
   "outputs": [
    {
     "name": "stdout",
     "output_type": "stream",
     "text": [
      "44\n",
      "13\n",
      "35\n",
      "36\n",
      "11\n",
      "25\n"
     ]
    }
   ],
   "source": [
    "import random\n",
    "def random_pop(data):\n",
    "    number = random.choice(data)\n",
    "    data.remove(number)\n",
    "    return number\n",
    "\n",
    "data = [*range(1,46)]\n",
    "for i in range(6):\n",
    "    print(random_pop(data))\n"
   ]
  },
  {
   "cell_type": "code",
   "execution_count": null,
   "metadata": {},
   "outputs": [],
   "source": []
  }
 ],
 "metadata": {
  "kernelspec": {
   "display_name": "Python 3",
   "language": "python",
   "name": "python3"
  },
  "language_info": {
   "codemirror_mode": {
    "name": "ipython",
    "version": 3
   },
   "file_extension": ".py",
   "mimetype": "text/x-python",
   "name": "python",
   "nbconvert_exporter": "python",
   "pygments_lexer": "ipython3",
   "version": "3.8.5"
  }
 },
 "nbformat": 4,
 "nbformat_minor": 4
}
